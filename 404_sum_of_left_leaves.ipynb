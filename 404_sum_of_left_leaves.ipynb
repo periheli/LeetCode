{
 "cells": [
  {
   "cell_type": "code",
   "execution_count": 1,
   "metadata": {},
   "outputs": [],
   "source": [
    "from typing import Optional\n",
    "from collections import deque"
   ]
  },
  {
   "cell_type": "code",
   "execution_count": null,
   "metadata": {},
   "outputs": [],
   "source": [
    "# Definition for a binary tree node.\n",
    "class TreeNode:\n",
    "    def __init__(self, val=0, left=None, right=None):\n",
    "        self.val = val\n",
    "        self.left: Optional[TreeNode] = left\n",
    "        self.right: Optional[TreeNode] = right\n",
    "\n",
    "\n",
    "class Solution:\n",
    "    def sumOfLeftLeaves(self, root: Optional[TreeNode]) -> int:\n",
    "        stack = deque()\n",
    "        sum = 0\n",
    "        cur_node = root\n",
    "        while True:\n",
    "            left_node = cur_node.left\n",
    "            right_node = cur_node.right\n",
    "            if left_node is not None:\n",
    "                if left_node.left is None and left_node.right is None:\n",
    "                    sum += left_node.val\n",
    "                    if right_node is not None:\n",
    "                        cur_node = right_node\n",
    "                    else:\n",
    "                        if len(stack) == 0:\n",
    "                            return sum\n",
    "                        else:\n",
    "                            cur_node = stack.pop()\n",
    "                else:\n",
    "                    if right_node is not None:\n",
    "                        stack.append(right_node)\n",
    "                    cur_node = left_node\n",
    "\n",
    "            elif right_node is not None:\n",
    "                cur_node = right_node\n",
    "            else:\n",
    "                if len(stack) == 0:\n",
    "                    return sum\n",
    "                else:\n",
    "                    cur_node = stack.pop()"
   ]
  },
  {
   "cell_type": "code",
   "execution_count": null,
   "metadata": {},
   "outputs": [],
   "source": [
    "# https://leetcode.com/problems/sum-of-left-leaves/solutions/1558055/c-python-recursive-iterative-dfs-bfs-morris-traversal-o-1-w-explanation-beats-100/"
   ]
  }
 ],
 "metadata": {
  "kernelspec": {
   "display_name": "base",
   "language": "python",
   "name": "python3"
  },
  "language_info": {
   "codemirror_mode": {
    "name": "ipython",
    "version": 3
   },
   "file_extension": ".py",
   "mimetype": "text/x-python",
   "name": "python",
   "nbconvert_exporter": "python",
   "pygments_lexer": "ipython3",
   "version": "3.8.5"
  }
 },
 "nbformat": 4,
 "nbformat_minor": 2
}
