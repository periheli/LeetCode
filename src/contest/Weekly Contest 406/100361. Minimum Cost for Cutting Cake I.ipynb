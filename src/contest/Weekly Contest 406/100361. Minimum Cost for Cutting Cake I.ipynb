{
 "cells": [
  {
   "cell_type": "code",
   "execution_count": 4,
   "metadata": {},
   "outputs": [],
   "source": [
    "from typing import List, Dict, Optional, Set, Tuple\n",
    "from collections import deque, Counter\n",
    "from sortedcontainers import SortedList\n",
    "import random\n",
    "\n",
    "# support for maintaining a list in sorted order\n",
    "# without having to sort the list after each insertion\n",
    "import bisect\n",
    "from heapq import heappop, heappush, heapify, heapreplace, nlargest"
   ]
  },
  {
   "cell_type": "code",
   "execution_count": null,
   "metadata": {},
   "outputs": [],
   "source": [
    "# https://leetcode.com/problems/minimum-cost-for-cutting-cake-ii/description/"
   ]
  },
  {
   "cell_type": "code",
   "execution_count": 23,
   "metadata": {},
   "outputs": [],
   "source": [
    "class Solution:\n",
    "    def minimumCost(\n",
    "        self, m: int, n: int, horizontalCut: List[int], verticalCut: List[int]\n",
    "    ) -> int:\n",
    "        horizontalCut = sorted(horizontalCut, reverse=True)\n",
    "        verticalCut = sorted(verticalCut, reverse=True)\n",
    "\n",
    "        m, n = len(horizontalCut), len(verticalCut)\n",
    "        h_idx, v_idx = 0, 0\n",
    "        h_sum, v_sum = sum(horizontalCut), sum(verticalCut)\n",
    "        h_num_cuts, v_num_cuts = 0, 0\n",
    "        min_cost = 0\n",
    "        for _ in range(m + n):\n",
    "            if h_idx == m:\n",
    "                print(\"h is empty, return\")\n",
    "                return min_cost + v_sum * (h_num_cuts + 1)\n",
    "            if v_idx == n:\n",
    "                print(\"v is empty, return\")\n",
    "                return min_cost + h_sum * (v_num_cuts + 1)\n",
    "            h_max, v_max = horizontalCut[h_idx], verticalCut[v_idx]\n",
    "            if h_sum > v_sum:\n",
    "                min_cost += h_max * (v_num_cuts + 1)\n",
    "                h_num_cuts += 1\n",
    "                h_sum -= h_max\n",
    "                h_idx += 1\n",
    "            elif h_sum < v_sum:\n",
    "                min_cost += v_max * (h_num_cuts + 1)\n",
    "                v_num_cuts += 1\n",
    "                v_sum -= v_max\n",
    "                v_idx += 1\n",
    "            else:\n",
    "                if h_max > v_max:\n",
    "                    min_cost += h_max * (v_num_cuts + 1)\n",
    "                    h_num_cuts += 1\n",
    "                    h_sum -= h_max\n",
    "                    h_idx += 1\n",
    "                else:\n",
    "                    min_cost += v_max * (h_num_cuts + 1)\n",
    "                    v_num_cuts += 1\n",
    "                    v_sum -= v_max\n",
    "                    v_idx += 1\n",
    "\n",
    "        return min_cost\n",
    "\n",
    "    def minimumCost(\n",
    "        self, m: int, n: int, horizontalCut: List[int], verticalCut: List[int]\n",
    "    ) -> int:\n",
    "        horizontalCut = sorted(horizontalCut, reverse=True)\n",
    "        verticalCut = sorted(verticalCut, reverse=True)\n",
    "\n",
    "        m, n = len(horizontalCut), len(verticalCut)\n",
    "        h_idx, v_idx = 0, 0\n",
    "        h_sum, v_sum = sum(horizontalCut), sum(verticalCut)\n",
    "        h_num_cuts, v_num_cuts = 0, 0\n",
    "        min_cost = 0\n",
    "        min_cost = 0\n",
    "        while True:\n",
    "            if h_idx == m:\n",
    "                print(\"h is empty, return\")\n",
    "                return min_cost + v_sum * (h_num_cuts + 1)\n",
    "            if v_idx == n:\n",
    "                print(\"v is empty, return\")\n",
    "                return min_cost + h_sum * (v_num_cuts + 1)\n",
    "            h_max, v_max = horizontalCut[h_idx], verticalCut[v_idx]\n",
    "            if h_max > v_max:\n",
    "                min_cost += h_max * (v_num_cuts + 1)\n",
    "                h_num_cuts += 1\n",
    "                h_sum -= h_max\n",
    "                h_idx += 1\n",
    "            else:\n",
    "                min_cost += v_max * (h_num_cuts + 1)\n",
    "                v_num_cuts += 1\n",
    "                v_sum -= v_max\n",
    "                v_idx += 1"
   ]
  },
  {
   "cell_type": "code",
   "execution_count": 24,
   "metadata": {},
   "outputs": [
    {
     "name": "stdout",
     "output_type": "stream",
     "text": [
      "v is empty, return\n"
     ]
    },
    {
     "data": {
      "text/plain": [
       "13"
      ]
     },
     "execution_count": 24,
     "metadata": {},
     "output_type": "execute_result"
    }
   ],
   "source": [
    "Solution().minimumCost(3, 2, [1, 3], [5])"
   ]
  },
  {
   "cell_type": "code",
   "execution_count": 25,
   "metadata": {},
   "outputs": [
    {
     "name": "stdout",
     "output_type": "stream",
     "text": [
      "v is empty, return\n"
     ]
    },
    {
     "data": {
      "text/plain": [
       "33"
      ]
     },
     "execution_count": 25,
     "metadata": {},
     "output_type": "execute_result"
    }
   ],
   "source": [
    "Solution().minimumCost(3, 2, [7, 2], [5, 5])"
   ]
  },
  {
   "cell_type": "code",
   "execution_count": 26,
   "metadata": {},
   "outputs": [
    {
     "name": "stdout",
     "output_type": "stream",
     "text": [
      "v is empty, return\n"
     ]
    },
    {
     "data": {
      "text/plain": [
       "29"
      ]
     },
     "execution_count": 26,
     "metadata": {},
     "output_type": "execute_result"
    }
   ],
   "source": [
    "Solution().minimumCost(3, 2, [6, 1], [5, 5])"
   ]
  },
  {
   "cell_type": "code",
   "execution_count": null,
   "metadata": {},
   "outputs": [],
   "source": []
  }
 ],
 "metadata": {
  "kernelspec": {
   "display_name": "base",
   "language": "python",
   "name": "python3"
  },
  "language_info": {
   "codemirror_mode": {
    "name": "ipython",
    "version": 3
   },
   "file_extension": ".py",
   "mimetype": "text/x-python",
   "name": "python",
   "nbconvert_exporter": "python",
   "pygments_lexer": "ipython3",
   "version": "3.8.10"
  }
 },
 "nbformat": 4,
 "nbformat_minor": 2
}
