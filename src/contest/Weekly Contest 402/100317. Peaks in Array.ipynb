{
 "cells": [
  {
   "cell_type": "code",
   "execution_count": 1,
   "metadata": {},
   "outputs": [],
   "source": [
    "from typing import List, Dict, Optional, Set, Tuple\n",
    "from collections import deque, Counter\n",
    "from sortedcontainers import SortedList\n",
    "import random\n",
    "\n",
    "# support for maintaining a list in sorted order\n",
    "# without having to sort the list after each insertion\n",
    "import bisect\n",
    "from heapq import heappop, heappush, heapify, heapreplace, nlargest\n",
    "\n",
    "\n",
    "class Solution:\n",
    "    def countOfPeaks(\n",
    "        self, nums: List[int], queries: List[List[int]]\n",
    "    ) -> List[int]:\n",
    "        n = len(nums)\n",
    "\n",
    "        def num_peaks(left: int, right: int):\n",
    "            if left == n - 1:\n",
    "                return 0\n",
    "\n",
    "            count = 0\n",
    "            for i in range(left + 1, min(right, n - 1)):\n",
    "                if nums[i] > nums[i - 1] and nums[i] > nums[i + 1]:\n",
    "                    count += 1\n",
    "            return count\n",
    "\n",
    "        res = []\n",
    "        for query in queries:\n",
    "            if query[0] == 2:\n",
    "                nums[query[1]] = query[2]\n",
    "            else:\n",
    "                res.append(num_peaks(query[1], query[2]))\n",
    "        return res"
   ]
  },
  {
   "cell_type": "code",
   "execution_count": null,
   "metadata": {},
   "outputs": [],
   "source": []
  }
 ],
 "metadata": {
  "kernelspec": {
   "display_name": "base",
   "language": "python",
   "name": "python3"
  },
  "language_info": {
   "codemirror_mode": {
    "name": "ipython",
    "version": 3
   },
   "file_extension": ".py",
   "mimetype": "text/x-python",
   "name": "python",
   "nbconvert_exporter": "python",
   "pygments_lexer": "ipython3",
   "version": "3.8.5"
  }
 },
 "nbformat": 4,
 "nbformat_minor": 2
}
