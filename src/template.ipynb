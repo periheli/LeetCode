{
 "cells": [
  {
   "cell_type": "code",
   "execution_count": 2,
   "metadata": {},
   "outputs": [],
   "source": [
    "import os\n",
    "import sys\n",
    "\n",
    "sys.path.append(\n",
    "    os.path.join(os.path.dirname(os.getenv(\"VIRTUAL_ENV\", \"\")), \"src\")\n",
    ")\n",
    "from utils import tree_utils\n",
    "from utils.common_libs import *"
   ]
  },
  {
   "cell_type": "code",
   "execution_count": 3,
   "metadata": {},
   "outputs": [
    {
     "data": {
      "text/plain": [
       "'b'"
      ]
     },
     "execution_count": 3,
     "metadata": {},
     "output_type": "execute_result"
    }
   ],
   "source": [
    "chr(ord(\"a\") + 1)"
   ]
  },
  {
   "cell_type": "code",
   "execution_count": 33,
   "metadata": {},
   "outputs": [
    {
     "name": "stdout",
     "output_type": "stream",
     "text": [
      "[(1, 3), (2, 3), (4, 2)]\n",
      "[(3, 2), (4, 3), (5, 3)]\n"
     ]
    },
    {
     "data": {
      "text/plain": [
       "4"
      ]
     },
     "execution_count": 33,
     "metadata": {},
     "output_type": "execute_result"
    }
   ],
   "source": [
    "events = [[1, 3, 2], [4, 5, 2], [2, 4, 3]]\n",
    "\n",
    "\n",
    "acc_max_func = lambda last, current: (current[0], max(last[1], current[1]))\n",
    "start_times = list(\n",
    "    accumulate(\n",
    "        sorted([(event[0], event[2]) for event in events], reverse=True),\n",
    "        acc_max_func,\n",
    "    )\n",
    ")[::-1]\n",
    "print(start_times)\n",
    "end_times = list(\n",
    "    accumulate(\n",
    "        sorted([(event[1], event[2]) for event in events]),\n",
    "        acc_max_func,\n",
    "    )\n",
    ")\n",
    "print(end_times)\n",
    "max_sum = 0\n",
    "for end_time, value in end_times:\n",
    "    idx = bisect.bisect(start_times, end_time, key=lambda x: x[0])\n",
    "    if idx == len(start_times):\n",
    "        break\n",
    "    max_sum = max(max_sum, value + start_times[idx][1])\n",
    "\n",
    "max_sum"
   ]
  },
  {
   "cell_type": "code",
   "execution_count": 5,
   "metadata": {},
   "outputs": [
    {
     "data": {
      "text/plain": [
       "[1, 2]"
      ]
     },
     "execution_count": 5,
     "metadata": {},
     "output_type": "execute_result"
    }
   ],
   "source": [
    "[1, 2, 3][:-1]"
   ]
  },
  {
   "cell_type": "code",
   "execution_count": 12,
   "metadata": {},
   "outputs": [
    {
     "data": {
      "text/plain": [
       "int"
      ]
     },
     "execution_count": 12,
     "metadata": {},
     "output_type": "execute_result"
    }
   ],
   "source": [
    "import math\n",
    "\n",
    "type(math.ceil(3 / 2))"
   ]
  },
  {
   "cell_type": "code",
   "execution_count": 6,
   "metadata": {},
   "outputs": [
    {
     "data": {
      "text/plain": [
       "'101'"
      ]
     },
     "execution_count": 6,
     "metadata": {},
     "output_type": "execute_result"
    }
   ],
   "source": [
    "bin(5)[2:]"
   ]
  },
  {
   "cell_type": "code",
   "execution_count": 15,
   "metadata": {},
   "outputs": [
    {
     "data": {
      "text/plain": [
       "'1000001'"
      ]
     },
     "execution_count": 15,
     "metadata": {},
     "output_type": "execute_result"
    }
   ],
   "source": [
    "sum(int(bit) for bit in bin(84)[2:])\n",
    "\n",
    "ones = sum(int(bit) for bit in bin(5)[2:])\n",
    "res_bin = \"\"\n",
    "for bit in bin(65)[2:]:\n",
    "    if ones == 0:\n",
    "        res_bin += \"0\"\n",
    "        continue\n",
    "    if bit == \"1\":\n",
    "        ones -= 1\n",
    "    res_bin += bit\n",
    "res_bin = \"1\" * ones + res_bin\n",
    "res_bin"
   ]
  },
  {
   "cell_type": "code",
   "execution_count": 16,
   "metadata": {},
   "outputs": [
    {
     "data": {
      "text/plain": [
       "'0b1010100'"
      ]
     },
     "execution_count": 16,
     "metadata": {},
     "output_type": "execute_result"
    }
   ],
   "source": [
    "bin(84)"
   ]
  },
  {
   "cell_type": "code",
   "execution_count": 28,
   "metadata": {},
   "outputs": [
    {
     "data": {
      "text/plain": [
       "0"
      ]
     },
     "execution_count": 28,
     "metadata": {},
     "output_type": "execute_result"
    }
   ],
   "source": [
    "4 & 1"
   ]
  },
  {
   "cell_type": "code",
   "execution_count": 17,
   "metadata": {},
   "outputs": [
    {
     "data": {
      "text/plain": [
       "'0b1000001'"
      ]
     },
     "execution_count": 17,
     "metadata": {},
     "output_type": "execute_result"
    }
   ],
   "source": [
    "bin(65)"
   ]
  },
  {
   "cell_type": "code",
   "execution_count": 22,
   "metadata": {},
   "outputs": [
    {
     "data": {
      "text/plain": [
       "3"
      ]
     },
     "execution_count": 22,
     "metadata": {},
     "output_type": "execute_result"
    }
   ],
   "source": [
    "(2 << (2 - 1)) - 1"
   ]
  },
  {
   "cell_type": "code",
   "execution_count": null,
   "metadata": {},
   "outputs": [],
   "source": [
    "ones = 3\n",
    "res_bin = \"\"\n",
    "for bit in bin(5)[2:]:\n",
    "    if ones == 0:\n",
    "        res_bin += bit\n",
    "        continue\n",
    "    if bit == \"1\":\n",
    "        ones -= 1\n",
    "    res_bin += \"0\"\n",
    "res_bin = \"1\" * ones + res_bin"
   ]
  },
  {
   "cell_type": "code",
   "execution_count": null,
   "metadata": {},
   "outputs": [
    {
     "data": {
      "text/plain": [
       "[2, 4, 3]"
      ]
     },
     "execution_count": 11,
     "metadata": {},
     "output_type": "execute_result"
    }
   ],
   "source": [
    "a = [4, 2, 3]\n",
    "heapify(a)\n",
    "\n",
    "a"
   ]
  },
  {
   "cell_type": "code",
   "execution_count": 12,
   "metadata": {},
   "outputs": [
    {
     "name": "stdout",
     "output_type": "stream",
     "text": [
      "[1, 1, 1, 1, 1]\n",
      "[1, 0, 0, 0, 0]\n"
     ]
    },
    {
     "data": {
      "text/plain": [
       "1"
      ]
     },
     "execution_count": 12,
     "metadata": {},
     "output_type": "execute_result"
    }
   ],
   "source": [
    "from itertools import accumulate\n",
    "\n",
    "arr = [1, 1, 0, 0, 1]\n",
    "\n",
    "max_arr = list(accumulate(arr, max))\n",
    "print(max_arr)\n",
    "min_arr = list(accumulate(reversed(arr), min))\n",
    "print(min_arr)\n",
    "res = 0\n",
    "for i, num in enumerate(accumulate(arr, max)):\n",
    "    next_min = min_arr[-i - 1]\n",
    "    if num <= next_min:\n",
    "        res += 1\n",
    "res"
   ]
  },
  {
   "cell_type": "code",
   "execution_count": 20,
   "metadata": {},
   "outputs": [
    {
     "data": {
      "text/plain": [
       "((0, 2, 4, 1, 3), (1, 3, 5, 6, 100))"
      ]
     },
     "execution_count": 20,
     "metadata": {},
     "output_type": "execute_result"
    }
   ],
   "source": [
    "from operator import itemgetter\n",
    "\n",
    "limit = 20\n",
    "nums = [1, 6, 3, 100, 5]\n",
    "n = len(nums)\n",
    "sorted_indices, sorted_nums = zip(*sorted(enumerate(nums), key=itemgetter(1)))\n",
    "sorted_indices, sorted_nums"
   ]
  },
  {
   "cell_type": "code",
   "execution_count": 24,
   "metadata": {},
   "outputs": [
    {
     "data": {
      "text/plain": [
       "[1, 3, 5, 100, 6]"
      ]
     },
     "execution_count": 24,
     "metadata": {},
     "output_type": "execute_result"
    }
   ],
   "source": [
    "res = [0] * n\n",
    "cur_group_index = 0\n",
    "for i in range(n - 1):\n",
    "    if sorted_nums[i + 1] - sorted_nums[i] > limit:\n",
    "        new_group = sorted_nums[cur_group_index : i + 1]\n",
    "        new_group_indices = sorted(sorted_indices[cur_group_index : i + 1])\n",
    "        for index, num in zip(new_group_indices, new_group):\n",
    "            res[index] = num\n",
    "        cur_group_index = i + 1\n",
    "for index, num in zip(\n",
    "    sorted(sorted_indices[cur_group_index:]), sorted_nums[cur_group_index:]\n",
    "):\n",
    "    res[index] = num\n",
    "res"
   ]
  },
  {
   "cell_type": "code",
   "execution_count": 13,
   "metadata": {},
   "outputs": [
    {
     "data": {
      "text/plain": [
       "[0, 1, 2, 3, 0, 0]"
      ]
     },
     "execution_count": 13,
     "metadata": {},
     "output_type": "execute_result"
    }
   ],
   "source": [
    "res = [0] * len(nums)\n",
    "res[1:3] = [1, 2, 3]\n",
    "res"
   ]
  },
  {
   "cell_type": "code",
   "execution_count": 4,
   "metadata": {},
   "outputs": [
    {
     "data": {
      "text/plain": [
       "[(0, 1), (1, 2), (2, 3), (3, 100), (4, 5)]"
      ]
     },
     "execution_count": 4,
     "metadata": {},
     "output_type": "execute_result"
    }
   ],
   "source": [
    "sorted(enumerate(my_list))"
   ]
  },
  {
   "cell_type": "code",
   "execution_count": 49,
   "metadata": {},
   "outputs": [
    {
     "data": {
      "text/plain": [
       "0"
      ]
     },
     "execution_count": 49,
     "metadata": {},
     "output_type": "execute_result"
    }
   ],
   "source": [
    "sum(1 for i in range(1) if i > 2)"
   ]
  },
  {
   "cell_type": "code",
   "execution_count": 47,
   "metadata": {},
   "outputs": [
    {
     "data": {
      "text/plain": [
       "1"
      ]
     },
     "execution_count": 47,
     "metadata": {},
     "output_type": "execute_result"
    }
   ],
   "source": [
    "queue = deque([1, 2, 3])\n",
    "queue.append(4)"
   ]
  },
  {
   "cell_type": "code",
   "execution_count": 45,
   "metadata": {},
   "outputs": [
    {
     "data": {
      "text/plain": [
       "[0, 0, 0, 0]"
      ]
     },
     "execution_count": 45,
     "metadata": {},
     "output_type": "execute_result"
    }
   ],
   "source": [
    "list(accumulate([1, 0, 0, 0, 0][:0:-1]))[::-1]"
   ]
  },
  {
   "cell_type": "code",
   "execution_count": 10,
   "metadata": {},
   "outputs": [
    {
     "data": {
      "text/plain": [
       "[1, 0, 0, 0, 0]"
      ]
     },
     "execution_count": 10,
     "metadata": {},
     "output_type": "execute_result"
    }
   ],
   "source": [
    "list(accumulate(reversed(arr), min))"
   ]
  },
  {
   "cell_type": "code",
   "execution_count": 1,
   "metadata": {},
   "outputs": [],
   "source": [
    "a = {1, 2, 3}"
   ]
  },
  {
   "cell_type": "code",
   "execution_count": 3,
   "metadata": {},
   "outputs": [
    {
     "data": {
      "text/plain": [
       "(1, 2, 3)"
      ]
     },
     "execution_count": 3,
     "metadata": {},
     "output_type": "execute_result"
    }
   ],
   "source": [
    "(1, 2) + (3,)"
   ]
  },
  {
   "cell_type": "code",
   "execution_count": 7,
   "metadata": {},
   "outputs": [
    {
     "data": {
      "text/plain": [
       "2"
      ]
     },
     "execution_count": 7,
     "metadata": {},
     "output_type": "execute_result"
    }
   ],
   "source": [
    "a = deque([1, 2, 3])\n",
    "a[1]"
   ]
  },
  {
   "cell_type": "code",
   "execution_count": 6,
   "metadata": {},
   "outputs": [],
   "source": [
    "a.remove(2)"
   ]
  },
  {
   "cell_type": "code",
   "execution_count": 4,
   "metadata": {},
   "outputs": [
    {
     "ename": "TypeError",
     "evalue": "'itertools.accumulate' object is not subscriptable",
     "output_type": "error",
     "traceback": [
      "\u001b[0;31m---------------------------------------------------------------------------\u001b[0m",
      "\u001b[0;31mTypeError\u001b[0m                                 Traceback (most recent call last)",
      "Cell \u001b[0;32mIn[4], line 1\u001b[0m\n\u001b[0;32m----> 1\u001b[0m \u001b[43maccumulate\u001b[49m\u001b[43m(\u001b[49m\u001b[43m[\u001b[49m\u001b[38;5;241;43m1\u001b[39;49m\u001b[43m,\u001b[49m\u001b[43m \u001b[49m\u001b[38;5;241;43m2\u001b[39;49m\u001b[43m,\u001b[49m\u001b[43m \u001b[49m\u001b[38;5;241;43m3\u001b[39;49m\u001b[43m]\u001b[49m\u001b[43m)\u001b[49m\u001b[43m[\u001b[49m\u001b[43m:\u001b[49m\u001b[38;5;241;43m-\u001b[39;49m\u001b[38;5;241;43m1\u001b[39;49m\u001b[43m]\u001b[49m\n",
      "\u001b[0;31mTypeError\u001b[0m: 'itertools.accumulate' object is not subscriptable"
     ]
    }
   ],
   "source": [
    "accumulate([1, 2, 3])[:-1]"
   ]
  },
  {
   "cell_type": "code",
   "execution_count": 8,
   "metadata": {},
   "outputs": [],
   "source": [
    "nums = [3, 10, 1, 6, 5, 9, 2, 7, 4, 8]"
   ]
  },
  {
   "cell_type": "code",
   "execution_count": 9,
   "metadata": {},
   "outputs": [
    {
     "data": {
      "text/plain": [
       "6"
      ]
     },
     "execution_count": 9,
     "metadata": {},
     "output_type": "execute_result"
    }
   ],
   "source": [
    "def min_swap(nums: List[int]):\n",
    "    sorted_nums = sorted([(num, i) for i, num in enumerate(nums)])\n",
    "    num_swaps = 0\n",
    "    for i in range(len(sorted_nums)):\n",
    "        _, idx = sorted_nums[i]\n",
    "        while idx != i:\n",
    "            sorted_nums[i], sorted_nums[idx] = sorted_nums[idx], sorted_nums[i]\n",
    "            num_swaps += 1\n",
    "            _, idx = sorted_nums[i]\n",
    "    return num_swaps\n",
    "\n",
    "\n",
    "min_swap(nums)"
   ]
  },
  {
   "cell_type": "code",
   "execution_count": 13,
   "metadata": {},
   "outputs": [
    {
     "data": {
      "text/plain": [
       "0"
      ]
     },
     "execution_count": 13,
     "metadata": {},
     "output_type": "execute_result"
    }
   ],
   "source": [
    "min_swap([1])"
   ]
  },
  {
   "cell_type": "code",
   "execution_count": 21,
   "metadata": {},
   "outputs": [
    {
     "data": {
      "text/plain": [
       "[1, 1, 0, 1, 0]"
      ]
     },
     "execution_count": 21,
     "metadata": {},
     "output_type": "execute_result"
    }
   ],
   "source": [
    "[0, 0, 1, 0, 1, 1][:0:-1]"
   ]
  },
  {
   "cell_type": "code",
   "execution_count": 23,
   "metadata": {},
   "outputs": [
    {
     "ename": "TypeError",
     "evalue": "can only concatenate list (not \"itertools.accumulate\") to list",
     "output_type": "error",
     "traceback": [
      "\u001b[0;31m---------------------------------------------------------------------------\u001b[0m",
      "\u001b[0;31mTypeError\u001b[0m                                 Traceback (most recent call last)",
      "Cell \u001b[0;32mIn[23], line 1\u001b[0m\n\u001b[0;32m----> 1\u001b[0m \u001b[43m[\u001b[49m\u001b[38;5;241;43m0\u001b[39;49m\u001b[43m]\u001b[49m\u001b[38;5;241;43m+\u001b[39;49m\u001b[43maccumulate\u001b[49m\u001b[43m(\u001b[49m\u001b[43m[\u001b[49m\u001b[38;5;241;43m0\u001b[39;49m\u001b[43m,\u001b[49m\u001b[43m \u001b[49m\u001b[38;5;241;43m0\u001b[39;49m\u001b[43m,\u001b[49m\u001b[43m \u001b[49m\u001b[38;5;241;43m1\u001b[39;49m\u001b[43m,\u001b[49m\u001b[43m \u001b[49m\u001b[38;5;241;43m0\u001b[39;49m\u001b[43m,\u001b[49m\u001b[43m \u001b[49m\u001b[38;5;241;43m1\u001b[39;49m\u001b[43m,\u001b[49m\u001b[43m \u001b[49m\u001b[38;5;241;43m1\u001b[39;49m\u001b[43m]\u001b[49m\u001b[43m[\u001b[49m\u001b[43m:\u001b[49m\u001b[38;5;241;43m0\u001b[39;49m\u001b[43m:\u001b[49m\u001b[38;5;241;43m-\u001b[39;49m\u001b[38;5;241;43m1\u001b[39;49m\u001b[43m]\u001b[49m\u001b[43m)\u001b[49m\n",
      "\u001b[0;31mTypeError\u001b[0m: can only concatenate list (not \"itertools.accumulate\") to list"
     ]
    }
   ],
   "source": [
    "[0] + accumulate([0, 0, 1, 0, 1, 1][:0:-1])"
   ]
  },
  {
   "cell_type": "code",
   "execution_count": 3,
   "metadata": {},
   "outputs": [
    {
     "data": {
      "text/plain": [
       "Counter({1: 2, 2: 2, 3: 2})"
      ]
     },
     "execution_count": 3,
     "metadata": {},
     "output_type": "execute_result"
    }
   ],
   "source": [
    "a = Counter([1, 2, 3, 1, 2, 3])\n",
    "a"
   ]
  },
  {
   "cell_type": "code",
   "execution_count": 4,
   "metadata": {},
   "outputs": [
    {
     "data": {
      "text/plain": [
       "25"
      ]
     },
     "execution_count": 4,
     "metadata": {},
     "output_type": "execute_result"
    }
   ],
   "source": [
    "ord(\"z\") - ord(\"a\") - ord(\"a\")"
   ]
  },
  {
   "cell_type": "code",
   "execution_count": 10,
   "metadata": {},
   "outputs": [
    {
     "name": "stdout",
     "output_type": "stream",
     "text": [
      "2 2\n"
     ]
    }
   ],
   "source": [
    "a = 1\n",
    "\n",
    "b = (a := 2)\n",
    "print(a, b)"
   ]
  },
  {
   "cell_type": "code",
   "execution_count": 2,
   "metadata": {},
   "outputs": [
    {
     "name": "stdout",
     "output_type": "stream",
     "text": [
      "2\n",
      "3\n",
      "2\n",
      "2\n",
      "3\n"
     ]
    }
   ],
   "source": [
    "class C:\n",
    "    dangerous = 2\n",
    "\n",
    "\n",
    "c1 = C()\n",
    "c2 = C()\n",
    "print(c1.dangerous)\n",
    "\n",
    "c1.dangerous = 3\n",
    "print(c1.dangerous)\n",
    "print(c2.dangerous)\n",
    "\n",
    "del c1.dangerous\n",
    "print(c1.dangerous)\n",
    "\n",
    "C.dangerous = 3\n",
    "print(c2.dangerous)"
   ]
  },
  {
   "cell_type": "code",
   "execution_count": null,
   "metadata": {},
   "outputs": [],
   "source": []
  },
  {
   "cell_type": "code",
   "execution_count": 13,
   "metadata": {},
   "outputs": [
    {
     "name": "stdout",
     "output_type": "stream",
     "text": [
      "[[12, 13, 1, 12],\n",
      " [13, 4, 13, 12],\n",
      " [13, 8, 10, 12],\n",
      " [12, 13, 12, 12],\n",
      " [13, 13, 13, 13]]\n",
      "15\n",
      "1 1 9\n",
      "2 1 4\n",
      "2 2 2\n",
      "[[12, 13, 13, 13],\n",
      " [13, 13, 13, 13],\n",
      " [13, 13, 13, 13],\n",
      " [12, 13, 13, 13],\n",
      " [13, 13, 13, 13]]\n",
      "[[13, 13, 12, 12],\n",
      " [13, 13, 13, 12],\n",
      " [13, 12, 12, 12],\n",
      " [13, 13, 12, 12],\n",
      " [13, 13, 13, 13]]\n",
      "[[12, 13, 13, 13, 13],\n",
      " [13, 13, 13, 13, 13],\n",
      " [1, 13, 13, 13, 13],\n",
      " [12, 12, 12, 12, 13]]\n",
      "[[13, 13, 13, 13, 13],\n",
      " [13, 13, 13, 13, 13],\n",
      " [13, 13, 13, 13, 13],\n",
      " [13, 13, 13, 13, 13]]\n"
     ]
    }
   ],
   "source": [
    "from pprint import pprint\n",
    "\n",
    "heightMap = [\n",
    "    [12, 13, 1, 12],\n",
    "    [13, 4, 13, 12],\n",
    "    [13, 8, 10, 12],\n",
    "    [12, 13, 12, 12],\n",
    "    [13, 13, 13, 13],\n",
    "]\n",
    "\n",
    "\n",
    "pprint(heightMap)\n",
    "\n",
    "left2right_max_map = [\n",
    "    list(accumulate(height_list, max)) for height_list in heightMap\n",
    "]\n",
    "right2left_max_map = [\n",
    "    list(accumulate(height_list[::-1], max))[::-1] for height_list in heightMap\n",
    "]\n",
    "top2bottom_max_map = [\n",
    "    list(accumulate(height_list, max)) for height_list in zip(*heightMap)\n",
    "]\n",
    "bottom2top_max_map = [\n",
    "    list(accumulate(height_list[::-1], max))[::-1]\n",
    "    for height_list in zip(*heightMap)\n",
    "]\n",
    "\n",
    "print(\n",
    "    sum(\n",
    "        min(\n",
    "            left2right_max_map[row][col],\n",
    "            right2left_max_map[row][col],\n",
    "            top2bottom_max_map[col][row],\n",
    "            bottom2top_max_map[col][row],\n",
    "        )\n",
    "        - heightMap[row][col]\n",
    "        for row in range(1, len(heightMap) - 1)\n",
    "        for col in range(1, len(heightMap[0]) - 1)\n",
    "    )\n",
    ")\n",
    "\n",
    "for row in range(1, len(heightMap) - 1):\n",
    "    for col in range(1, len(heightMap[0]) - 1):\n",
    "        water = (\n",
    "            min(\n",
    "                left2right_max_map[row][col],\n",
    "                right2left_max_map[row][col],\n",
    "                top2bottom_max_map[col][row],\n",
    "                bottom2top_max_map[col][row],\n",
    "            )\n",
    "            - heightMap[row][col]\n",
    "        )\n",
    "        if water > 0:\n",
    "            print(row, col, water)\n",
    "\n",
    "pprint(left2right_max_map)\n",
    "pprint(right2left_max_map)\n",
    "pprint(top2bottom_max_map)\n",
    "pprint(bottom2top_max_map)"
   ]
  },
  {
   "cell_type": "code",
   "execution_count": 19,
   "metadata": {},
   "outputs": [
    {
     "data": {
      "text/plain": [
       "[[12, 13, 1, 12],\n",
       " [13, 4, 13, 12],\n",
       " [13, 8, 10, 12],\n",
       " [12, 13, 12, 12],\n",
       " [13, 13, 13, 13]]"
      ]
     },
     "execution_count": 19,
     "metadata": {},
     "output_type": "execute_result"
    }
   ],
   "source": [
    "[\n",
    "    [12, 13, 1, 12],\n",
    "    [13, 4, 13, 12],\n",
    "    [13, 8, 10, 12],\n",
    "    [12, 13, 12, 12],\n",
    "    [13, 13, 13, 13],\n",
    "]"
   ]
  },
  {
   "cell_type": "code",
   "execution_count": 41,
   "metadata": {},
   "outputs": [
    {
     "name": "stdout",
     "output_type": "stream",
     "text": [
      "[5, 5, 5, 1]\n",
      "[5, 1, 1, 5]\n",
      "[5, 1, 5, 5]\n",
      "[5, 2, 5, 8]\n"
     ]
    }
   ],
   "source": [
    "heightMap = [[5, 5, 5, 1], [5, 1, 1, 5], [5, 1, 5, 5], [5, 2, 5, 8]]\n",
    "for row in heightMap:\n",
    "    print(row)"
   ]
  },
  {
   "cell_type": "code",
   "execution_count": 42,
   "metadata": {},
   "outputs": [
    {
     "name": "stdout",
     "output_type": "stream",
     "text": [
      "[5, 5, 5]\n",
      "[5, 1, 1]\n",
      "[5, 1, 5]\n",
      "[5, 5, 5]\n",
      "[5, 5, 5]\n",
      "[5, 5, 5]\n",
      "[5, 5]\n",
      "[5, 5]\n"
     ]
    }
   ],
   "source": [
    "left_top_max_map = [height_list[:-1] for height_list in heightMap[:-1]]\n",
    "for row in left_top_max_map:\n",
    "    print(row)\n",
    "for row in range(1, len(heightMap) - 1):\n",
    "    for col in range(1, len(heightMap[0]) - 1):\n",
    "        left_top_max_map[row][col] = max(\n",
    "            left_top_max_map[row][col],\n",
    "            min(left_top_max_map[row - 1][col], left_top_max_map[row][col - 1]),\n",
    "        )\n",
    "for row in left_top_max_map:\n",
    "    print(row)\n",
    "left_top_max_map = [height_list[1:] for height_list in left_top_max_map[1:]]\n",
    "for row in left_top_max_map:\n",
    "    print(row)"
   ]
  },
  {
   "cell_type": "code",
   "execution_count": 43,
   "metadata": {},
   "outputs": [
    {
     "name": "stdout",
     "output_type": "stream",
     "text": [
      "[8, 5, 2]\n",
      "[5, 5, 1]\n",
      "[5, 1, 1]\n",
      "[8, 5, 2]\n",
      "[5, 5, 2]\n",
      "[5, 5, 2]\n",
      "[2, 5]\n",
      "[2, 5]\n"
     ]
    }
   ],
   "source": [
    "right_bottom_max_map = [height_list[:0:-1] for height_list in heightMap[:0:-1]]\n",
    "for row in right_bottom_max_map:\n",
    "    print(row)\n",
    "for row in range(1, len(heightMap) - 1):\n",
    "    for col in range(1, len(heightMap[0]) - 1):\n",
    "        right_bottom_max_map[row][col] = max(\n",
    "            right_bottom_max_map[row][col],\n",
    "            min(\n",
    "                right_bottom_max_map[row - 1][col],\n",
    "                right_bottom_max_map[row][col - 1],\n",
    "            ),\n",
    "        )\n",
    "for row in right_bottom_max_map:\n",
    "    print(row)\n",
    "right_bottom_max_map = [\n",
    "    height_list[:0:-1] for height_list in right_bottom_max_map[:0:-1]\n",
    "]\n",
    "for row in right_bottom_max_map:\n",
    "    print(row)"
   ]
  },
  {
   "cell_type": "code",
   "execution_count": 37,
   "metadata": {},
   "outputs": [
    {
     "data": {
      "text/plain": [
       "14"
      ]
     },
     "execution_count": 37,
     "metadata": {},
     "output_type": "execute_result"
    }
   ],
   "source": [
    "m = len(heightMap)\n",
    "n = len(heightMap[0])\n",
    "\n",
    "sum(\n",
    "    min(left_top_max_map[row][col], right_bottom_max_map[row][col])\n",
    "    - heightMap[row + 1][col + 1]\n",
    "    for row in range(m - 2)\n",
    "    for col in range(n - 2)\n",
    ")"
   ]
  },
  {
   "cell_type": "code",
   "execution_count": 15,
   "metadata": {},
   "outputs": [
    {
     "data": {
      "text/plain": [
       "[[13, 13], [13, 0], [13, 0]]"
      ]
     },
     "execution_count": 15,
     "metadata": {},
     "output_type": "execute_result"
    }
   ],
   "source": [
    "m = len(heightMap)\n",
    "n = len(heightMap[0])\n",
    "\n",
    "left_top_max_map = [\n",
    "    [0] * (len(heightMap[0]) - 2) for _ in range(len(heightMap) - 2)\n",
    "]\n",
    "left_top_max_map[0][0] = max(\n",
    "    heightMap[1][1], min(heightMap[0][1], heightMap[1][0])\n",
    ")\n",
    "\n",
    "for row in range(1, len(heightMap) - 2):\n",
    "    left_top_max_map[row][0] = max(\n",
    "        heightMap[row + 1][1],\n",
    "        min(left_top_max_map[row - 1][0], heightMap[row + 1][0]),\n",
    "    )\n",
    "for col in range(1, len(heightMap[0]) - 2):\n",
    "    left_top_max_map[0][col] = max(\n",
    "        heightMap[1][col + 1],\n",
    "        min(left_top_max_map[0][col - 1], heightMap[1][col]),\n",
    "    )\n",
    "left_top_max_map"
   ]
  },
  {
   "cell_type": "code",
   "execution_count": 17,
   "metadata": {},
   "outputs": [
    {
     "data": {
      "text/plain": [
       "[10, 2]"
      ]
     },
     "execution_count": 17,
     "metadata": {},
     "output_type": "execute_result"
    }
   ],
   "source": [
    "a = [1, 2, 3]\n",
    "b = a[:2]\n",
    "b[0] = 10\n",
    "a\n",
    "b"
   ]
  },
  {
   "cell_type": "code",
   "execution_count": 18,
   "metadata": {},
   "outputs": [
    {
     "data": {
      "text/plain": [
       "[[12, 13, 1], [13, 4, 13], [13, 8, 10], [12, 13, 12]]"
      ]
     },
     "execution_count": 18,
     "metadata": {},
     "output_type": "execute_result"
    }
   ],
   "source": [
    "left_top_max_map = [height_list[:-1] for height_list in heightMap[:-1]]\n",
    "left_top_max_map"
   ]
  },
  {
   "cell_type": "code",
   "execution_count": null,
   "metadata": {},
   "outputs": [],
   "source": [
    "import bisect\n",
    "import math\n",
    "from collections import Counter, deque, defaultdict\n",
    "import heapq\n",
    "from itertools import accumulate\n",
    "from sortedcontainers import SortedList"
   ]
  }
 ],
 "metadata": {
  "kernelspec": {
   "display_name": "lc_venv",
   "language": "python",
   "name": "python3"
  },
  "language_info": {
   "codemirror_mode": {
    "name": "ipython",
    "version": 3
   },
   "file_extension": ".py",
   "mimetype": "text/x-python",
   "name": "python",
   "nbconvert_exporter": "python",
   "pygments_lexer": "ipython3",
   "version": "3.12.3"
  }
 },
 "nbformat": 4,
 "nbformat_minor": 2
}
