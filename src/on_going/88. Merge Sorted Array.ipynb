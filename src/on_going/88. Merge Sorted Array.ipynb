{
 "cells": [
  {
   "cell_type": "code",
   "execution_count": 1,
   "metadata": {},
   "outputs": [],
   "source": [
    "from typing import List\n",
    "from collections import deque"
   ]
  },
  {
   "cell_type": "code",
   "execution_count": null,
   "metadata": {},
   "outputs": [],
   "source": [
    "class Solution:\n",
    "    def merge(self, nums1: List[int], m: int, nums2: List[int], n: int) -> None:\n",
    "        \"\"\"\n",
    "        Do not return anything, modify nums1 in-place instead.\n",
    "        \"\"\"\n",
    "        replaced_nums = deque()\n",
    "        idx_2 = 0\n",
    "        for idx_1 in range(m):\n",
    "            if idx_2 == n:\n",
    "                tail = list(replaced_nums) + nums1[idx_1:m]\n",
    "                nums1[idx_1:] = tail\n",
    "                return\n",
    "\n",
    "            num_1 = nums1[idx_1]\n",
    "            num_2 = nums2[idx_2]\n",
    "            if len(replaced_nums) == 0:\n",
    "                if num_1 > num_2:\n",
    "                    replaced_nums.append(num_1)\n",
    "                    nums1[idx_1] = num_2\n",
    "                    idx_2 += 1\n",
    "            else:\n",
    "                if replaced_nums[0] < num_2:\n",
    "                    replaced_nums.append(num_1)\n",
    "                    nums1[idx_1] = replaced_nums.popleft()\n",
    "                else:\n",
    "                    replaced_nums.append(num_1)\n",
    "                    nums1[idx_1] = num_2\n",
    "                    idx_2 += 1\n",
    "\n",
    "        for idx_1 in range(m, m + n):\n",
    "            if idx_2 == n:\n",
    "                nums1[idx_1:] = list(replaced_nums)\n",
    "                return\n",
    "            \n",
    "            if len(replaced_nums) == 0:\n",
    "                nums1[idx_1:] = nums2[idx_2:]\n",
    "                return\n",
    "\n",
    "            if  nums2[idx_2] < replaced_nums[0]:\n",
    "                nums1[idx_1] = nums2[idx_2]\n",
    "                idx_2 += 1\n",
    "            else:\n",
    "                nums1[idx_1] = replaced_nums.popleft()\n"
   ]
  }
 ],
 "metadata": {
  "kernelspec": {
   "display_name": "base",
   "language": "python",
   "name": "python3"
  },
  "language_info": {
   "codemirror_mode": {
    "name": "ipython",
    "version": 3
   },
   "file_extension": ".py",
   "mimetype": "text/x-python",
   "name": "python",
   "nbconvert_exporter": "python",
   "pygments_lexer": "ipython3",
   "version": "3.8.5"
  }
 },
 "nbformat": 4,
 "nbformat_minor": 2
}
