{
 "cells": [
  {
   "cell_type": "code",
   "execution_count": 7,
   "metadata": {},
   "outputs": [],
   "source": [
    "from typing import List, Dict, Optional\n",
    "from collections import deque, Counter\n",
    "from sortedcontainers import SortedList\n",
    "\n",
    "# support for maintaining a list in sorted order\n",
    "# without having to sort the list after each insertion\n",
    "import bisect\n",
    "from heapq import heappop, heappush\n",
    "\n",
    "\n",
    "class TreeNode:\n",
    "    def __init__(self, val=0, left=None, right=None):\n",
    "        self.val = val\n",
    "        self.left = left\n",
    "        self.right = right\n",
    "\n",
    "\n",
    "class Solution:\n",
    "    def removeLeafNodes(\n",
    "        self, root: Optional[TreeNode], target: int\n",
    "    ) -> Optional[TreeNode]:\n",
    "        def remove_leaf_helper(node: TreeNode):\n",
    "            if node.left is not None:\n",
    "                node.left = remove_leaf_helper(node.left)\n",
    "            if node.right is not None:\n",
    "                node.right = remove_leaf_helper(node.right)\n",
    "            if node.left is None and node.right is None and node.val == target:\n",
    "                return None\n",
    "            else:\n",
    "\n",
    "                return node\n",
    "\n",
    "        return remove_leaf_helper(root)"
   ]
  },
  {
   "cell_type": "code",
   "execution_count": 8,
   "metadata": {},
   "outputs": [
    {
     "name": "stdout",
     "output_type": "stream",
     "text": [
      "1\n",
      "3\n",
      "3\n",
      "2\n",
      "right:  2\n",
      "left:  3\n",
      "3\n"
     ]
    }
   ],
   "source": [
    "root = TreeNode(\n",
    "    1,\n",
    "    TreeNode(3, TreeNode(3, None, None), TreeNode(2, None, None)),\n",
    "    TreeNode(3, None, None),\n",
    ")\n",
    "target = 3\n",
    "Solution().removeLeafNodes(root, target)"
   ]
  },
  {
   "cell_type": "code",
   "execution_count": null,
   "metadata": {},
   "outputs": [],
   "source": []
  }
 ],
 "metadata": {
  "kernelspec": {
   "display_name": "base",
   "language": "python",
   "name": "python3"
  },
  "language_info": {
   "codemirror_mode": {
    "name": "ipython",
    "version": 3
   },
   "file_extension": ".py",
   "mimetype": "text/x-python",
   "name": "python",
   "nbconvert_exporter": "python",
   "pygments_lexer": "ipython3",
   "version": "3.8.5"
  }
 },
 "nbformat": 4,
 "nbformat_minor": 2
}
