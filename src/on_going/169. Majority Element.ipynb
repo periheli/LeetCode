{
 "cells": [
  {
   "cell_type": "code",
   "execution_count": 26,
   "metadata": {},
   "outputs": [],
   "source": [
    "from typing import List\n",
    "from collections import Counter\n",
    "import math"
   ]
  },
  {
   "cell_type": "code",
   "execution_count": 61,
   "metadata": {},
   "outputs": [],
   "source": [
    "class Solution:\n",
    "    def majorityElement(self, nums: List[int]) -> int:\n",
    "        counter = Counter(nums)\n",
    "\n",
    "        for num, count in counter.items():\n",
    "            if count > len(nums) // 2:\n",
    "                return num\n",
    "\n",
    "    def majorityElement(self, nums: List[int]) -> int:\n",
    "        def get_bit(num: int, pos: int):\n",
    "            return num >> pos & 1\n",
    "\n",
    "        def bit_list_to_int(bit_list: List[int]):\n",
    "            res = 0\n",
    "            for pos, bit in enumerate(bit_list):\n",
    "                if bit == 1:\n",
    "                    res |= bit << pos\n",
    "            return res\n",
    "\n",
    "        max_num_bits = len(bin(max(nums))) - 2\n",
    "        bit_one_counter = [0] * max_num_bits\n",
    "        for num in nums:\n",
    "            for i in range(max_num_bits):\n",
    "                bit_one_counter[i] += get_bit(num, i)\n",
    "\n",
    "        res_bit_list = [int(count > (len(nums) // 2)) for count in bit_one_counter]\n",
    "\n",
    "        return bit_list_to_int(res_bit_list)\n",
    "\n",
    "    def majorityElement(self, nums: List[int]) -> int:\n",
    "        def get_bit(num: int, pos: int):\n",
    "            return num >> pos & 1\n",
    "\n",
    "        def bit_list_to_int(bit_list: List[int]):\n",
    "            res = 0\n",
    "            for bit in bit_list:\n",
    "                res = (res << 1) | bit\n",
    "            return res\n",
    "\n",
    "        max_num_bits = max(len(bin(max(nums))), len(bin(min(nums)))) - 2\n",
    "        bit_one_counter = [0] * max_num_bits\n",
    "        negative_num_counter = 0\n",
    "        for num in nums:\n",
    "            if num < 0:\n",
    "                negative_num_counter += 1\n",
    "                num = -num\n",
    "            for i in range(max_num_bits):\n",
    "                bit_one_counter[max_num_bits - i - 1] += get_bit(num, i)\n",
    "\n",
    "        res_bit_list = [int(count > (len(nums) // 2)) for count in bit_one_counter]\n",
    "        print(res_bit_list)\n",
    "        if negative_num_counter > (len(nums) // 2):\n",
    "            return -bit_list_to_int(res_bit_list)\n",
    "        else:\n",
    "            return bit_list_to_int(res_bit_list)"
   ]
  },
  {
   "cell_type": "code",
   "execution_count": 62,
   "metadata": {},
   "outputs": [
    {
     "name": "stdout",
     "output_type": "stream",
     "text": [
      "[0, 1, 1, 1, 0, 1, 1, 1, 0, 0, 1, 1, 0, 1, 0, 1, 1, 0, 0, 1, 0, 1, 0, 0, 0, 0, 0, 0, 0, 0, 0]\n"
     ]
    },
    {
     "data": {
      "text/plain": [
       "-1000000000"
      ]
     },
     "execution_count": 62,
     "metadata": {},
     "output_type": "execute_result"
    }
   ],
   "source": [
    "nums = [1000000000,1000000000,-1000000000,-1000000000,-1000000000]\n",
    "Solution().majorityElement(nums)"
   ]
  },
  {
   "cell_type": "markdown",
   "metadata": {},
   "source": [
    "3 counters, window scan of size 3\n",
    "Boyer–Moore algorithm"
   ]
  },
  {
   "cell_type": "code",
   "execution_count": 56,
   "metadata": {},
   "outputs": [
    {
     "name": "stdout",
     "output_type": "stream",
     "text": [
      "[1, 1, 1, 0, 1, 1, 1, 0, 0, 1, 1, 0, 1, 0, 1, 1, 0, 0, 1, 0, 1, 0, 0, 0, 0, 0, 0, 0, 0, 0]\n",
      "[1, 1, 1, 0, 1, 1, 1, 0, 0, 1, 1, 0, 1, 0, 1, 1, 0, 0, 1, 0, 1, 0, 0, 0, 0, 0, 0, 0, 0, 0]\n",
      "[1, 1, 1, 0, 1, 1, 1, 0, 0, 1, 1, 0, 1, 0, 1, 1, 0, 0, 1, 0, 1]\n",
      "[1, 1, 1, 0, 1, 1, 1, 0, 0, 1, 1, 0, 1, 0, 1, 1, 0, 0, 1, 1]\n",
      "[1, 1, 1, 0, 1, 1, 1, 0, 0, 1, 1, 0, 1, 0, 1, 1, 0, 1, 0]\n"
     ]
    }
   ],
   "source": [
    "print([int(bit) for bit in list(bin(1000000000)[2:])])\n",
    "print([int(bit) for bit in list(bin(-1000000000)[3:])])\n",
    "print([int(bit) for bit in list(bin(-1000000000 >> 9)[3:])])\n",
    "print([int(bit) for bit in list(bin(-1000000000 >> 10)[3:])])\n",
    "print([int(bit) for bit in list(bin(-1000000000 >> 11)[3:])])"
   ]
  },
  {
   "cell_type": "code",
   "execution_count": 50,
   "metadata": {},
   "outputs": [
    {
     "name": "stdout",
     "output_type": "stream",
     "text": [
      "0 0\n",
      "0 0\n",
      "0 0\n",
      "0 0\n",
      "0 0\n",
      "0 0\n",
      "0 0\n",
      "0 0\n",
      "0 0\n",
      "1 1\n",
      "0 1\n",
      "1 0\n",
      "0 1\n",
      "0 1\n",
      "1 0\n",
      "1 0\n",
      "0 1\n",
      "1 0\n",
      "0 1\n",
      "1 0\n",
      "1 0\n",
      "0 1\n",
      "0 1\n",
      "1 0\n",
      "1 0\n",
      "1 0\n",
      "0 1\n",
      "1 0\n",
      "1 0\n",
      "1 0\n",
      "0 1\n"
     ]
    }
   ],
   "source": [
    "for i in range(31):\n",
    "    print(get_bit(1000000000, i), get_bit(-1000000000, i))"
   ]
  },
  {
   "cell_type": "code",
   "execution_count": 38,
   "metadata": {},
   "outputs": [
    {
     "data": {
      "text/plain": [
       "0"
      ]
     },
     "execution_count": 38,
     "metadata": {},
     "output_type": "execute_result"
    }
   ],
   "source": []
  },
  {
   "cell_type": "code",
   "execution_count": 37,
   "metadata": {},
   "outputs": [
    {
     "data": {
      "text/plain": [
       "1"
      ]
     },
     "execution_count": 37,
     "metadata": {},
     "output_type": "execute_result"
    }
   ],
   "source": [
    "int(math.log10(11))"
   ]
  },
  {
   "cell_type": "code",
   "execution_count": 9,
   "metadata": {},
   "outputs": [
    {
     "data": {
      "text/plain": [
       "1"
      ]
     },
     "execution_count": 9,
     "metadata": {},
     "output_type": "execute_result"
    }
   ],
   "source": [
    "123 // 10**2 % 10"
   ]
  },
  {
   "cell_type": "code",
   "execution_count": 12,
   "metadata": {},
   "outputs": [
    {
     "data": {
      "text/plain": [
       "0"
      ]
     },
     "execution_count": 12,
     "metadata": {},
     "output_type": "execute_result"
    }
   ],
   "source": [
    "5 >> 1 & 1"
   ]
  },
  {
   "cell_type": "code",
   "execution_count": 18,
   "metadata": {},
   "outputs": [
    {
     "data": {
      "text/plain": [
       "11"
      ]
     },
     "execution_count": 18,
     "metadata": {},
     "output_type": "execute_result"
    }
   ],
   "source": [
    "[1, 1, 0, 1]\n",
    "res = 0\n",
    "for pos, bit in enumerate([1, 1, 0, 1]):\n",
    "    if bit == 1:\n",
    "        res |= bit << pos\n",
    "res"
   ]
  },
  {
   "cell_type": "code",
   "execution_count": 19,
   "metadata": {},
   "outputs": [
    {
     "data": {
      "text/plain": [
       "'0b1011'"
      ]
     },
     "execution_count": 19,
     "metadata": {},
     "output_type": "execute_result"
    }
   ],
   "source": [
    "bin(11)"
   ]
  },
  {
   "cell_type": "code",
   "execution_count": 20,
   "metadata": {},
   "outputs": [
    {
     "data": {
      "text/plain": [
       "'0b100011001010011011000000000'"
      ]
     },
     "execution_count": 20,
     "metadata": {},
     "output_type": "execute_result"
    }
   ],
   "source": [
    "bin(73741824)"
   ]
  },
  {
   "cell_type": "code",
   "execution_count": 21,
   "metadata": {},
   "outputs": [
    {
     "data": {
      "text/plain": [
       "'0b111011100110101100101000000000'"
      ]
     },
     "execution_count": 21,
     "metadata": {},
     "output_type": "execute_result"
    }
   ],
   "source": [
    "bin(1000000000)"
   ]
  },
  {
   "cell_type": "code",
   "execution_count": 22,
   "metadata": {},
   "outputs": [
    {
     "data": {
      "text/plain": [
       "'-0b111011100110101100101000000000'"
      ]
     },
     "execution_count": 22,
     "metadata": {},
     "output_type": "execute_result"
    }
   ],
   "source": [
    "bin(-1000000000)"
   ]
  },
  {
   "cell_type": "code",
   "execution_count": 39,
   "metadata": {},
   "outputs": [
    {
     "data": {
      "text/plain": [
       "1"
      ]
     },
     "execution_count": 39,
     "metadata": {},
     "output_type": "execute_result"
    }
   ],
   "source": [
    "def get_bit(num: int, pos: int):\n",
    "    return num >> pos & 1\n",
    "\n",
    "get_bit(-1000000000, 10)"
   ]
  },
  {
   "cell_type": "code",
   "execution_count": null,
   "metadata": {},
   "outputs": [],
   "source": []
  }
 ],
 "metadata": {
  "kernelspec": {
   "display_name": "base",
   "language": "python",
   "name": "python3"
  },
  "language_info": {
   "codemirror_mode": {
    "name": "ipython",
    "version": 3
   },
   "file_extension": ".py",
   "mimetype": "text/x-python",
   "name": "python",
   "nbconvert_exporter": "python",
   "pygments_lexer": "ipython3",
   "version": "3.8.5"
  }
 },
 "nbformat": 4,
 "nbformat_minor": 2
}
