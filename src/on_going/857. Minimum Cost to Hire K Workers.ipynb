{
 "cells": [
  {
   "cell_type": "code",
   "execution_count": 1,
   "metadata": {},
   "outputs": [],
   "source": [
    "from typing import List, Dict, Optional\n",
    "from collections import deque, Counter\n",
    "from sortedcontainers import SortedList\n",
    "\n",
    "# support for maintaining a list in sorted order\n",
    "# without having to sort the list after each insertion\n",
    "import bisect\n",
    "from heapq import heappop, heappush\n",
    "import math\n",
    "\n",
    "\n",
    "class Solution:\n",
    "    def mincostToHireWorkers(self, quality: List[int], wage: List[int], k: int) -> float:\n",
    "        res = math.inf\n",
    "        total_quality = 0\n",
    "        workers = sorted((w / q, q) for q, w in zip(quality, wage))\n",
    "        max_heap = []\n",
    "\n",
    "        for ratio, quality in workers:\n",
    "            heappush(max_heap, -quality)\n",
    "            total_quality += quality\n",
    "            if len(max_heap) > k:\n",
    "                total_quality += heappop(max_heap)\n",
    "            if len(max_heap) == k:\n",
    "                res = min(res, total_quality * ratio)\n",
    "\n",
    "        return res"
   ]
  },
  {
   "cell_type": "code",
   "execution_count": null,
   "metadata": {},
   "outputs": [],
   "source": [
    "[2, 4, 1]\n",
    "[7/3, 5/3, 1]\n",
    "\n",
    "\n",
    "[7/3, 4, 1]\n",
    "\n",
    "\n",
    "[3, 1, 10, 10, 1]\n",
    "\n",
    "[4/7, 8/7, 2/7, 2/7, 1]\n",
    "\n",
    "[3, 8, 10, 10, 7]\n",
    "\n",
    "\n",
    "\n",
    "\n",
    "(3 + 10 + 10) * (4/7)\n",
    "\n",
    "\n",
    "[4/7, 8, ]\n"
   ]
  }
 ],
 "metadata": {
  "kernelspec": {
   "display_name": "base",
   "language": "python",
   "name": "python3"
  },
  "language_info": {
   "codemirror_mode": {
    "name": "ipython",
    "version": 3
   },
   "file_extension": ".py",
   "mimetype": "text/x-python",
   "name": "python",
   "nbconvert_exporter": "python",
   "pygments_lexer": "ipython3",
   "version": "3.8.5"
  }
 },
 "nbformat": 4,
 "nbformat_minor": 2
}
