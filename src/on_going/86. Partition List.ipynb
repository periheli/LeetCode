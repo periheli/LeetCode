{
 "cells": [
  {
   "cell_type": "code",
   "execution_count": 32,
   "metadata": {},
   "outputs": [],
   "source": [
    "from typing import List, Dict, Optional\n",
    "from collections import deque, Counter\n",
    "\n",
    "# from sortedcontainers import SortedList\n",
    "\n",
    "# support for maintaining a list in sorted order\n",
    "# without having to sort the list after each insertion\n",
    "import bisect\n",
    "from heapq import heappop, heappush\n",
    "\n",
    "\n",
    "class ListNode:\n",
    "    def __init__(self, val=0, next=None):\n",
    "        self.val = val\n",
    "        self.next = next\n",
    "\n",
    "\n",
    "class Solution:\n",
    "    def partition(\n",
    "        self, head: Optional[ListNode], x: int\n",
    "    ) -> Optional[ListNode]:\n",
    "        if head is None or head.next is None:\n",
    "            return head\n",
    "        cur_node = head\n",
    "\n",
    "        if head.val < x:\n",
    "            left_part_head = head\n",
    "            while cur_node.next.val < x:\n",
    "                if cur_node.next.next is None:\n",
    "                    return head\n",
    "                else:\n",
    "                    cur_node = cur_node.next\n",
    "            left_part_tail = cur_node\n",
    "            right_part_head = cur_node.next\n",
    "            right_part_tail = cur_node.next\n",
    "        else:\n",
    "            right_part_head = head\n",
    "            while cur_node.next.val >= x:\n",
    "                if cur_node.next.next is None:\n",
    "                    return head\n",
    "                else:\n",
    "                    cur_node = cur_node.next\n",
    "            right_part_tail = cur_node\n",
    "            left_part_head = cur_node.next\n",
    "            left_part_tail = cur_node.next\n",
    "\n",
    "        cur_node = cur_node.next.next\n",
    "        # print(\n",
    "        #     cur_node.val,\n",
    "        #     left_part_head.val,\n",
    "        #     left_part_tail.val,\n",
    "        #     right_part_head.val,\n",
    "        #     right_part_tail.val,\n",
    "        # )\n",
    "        while True:\n",
    "            if cur_node is None:\n",
    "                left_part_tail.next = right_part_head\n",
    "                right_part_tail.next = None\n",
    "                return left_part_head\n",
    "            if cur_node.val < x:\n",
    "                left_part_tail.next = cur_node\n",
    "                left_part_tail = cur_node\n",
    "            else:\n",
    "                right_part_tail.next = cur_node\n",
    "                right_part_tail = cur_node\n",
    "            cur_node = cur_node.next"
   ]
  },
  {
   "cell_type": "code",
   "execution_count": 34,
   "metadata": {},
   "outputs": [
    {
     "data": {
      "text/plain": [
       "1"
      ]
     },
     "execution_count": 34,
     "metadata": {},
     "output_type": "execute_result"
    }
   ],
   "source": [
    "head = ListNode(\n",
    "    1, ListNode(4, ListNode(3, ListNode(2, ListNode(5, ListNode(2, None)))))\n",
    ")\n",
    "x = 3\n",
    "Solution().partition(head, x).val"
   ]
  },
  {
   "cell_type": "code",
   "execution_count": 35,
   "metadata": {},
   "outputs": [
    {
     "data": {
      "text/plain": [
       "1"
      ]
     },
     "execution_count": 35,
     "metadata": {},
     "output_type": "execute_result"
    }
   ],
   "source": [
    "head = ListNode(2, ListNode(1, None))\n",
    "x = 2\n",
    "Solution().partition(head, x).val"
   ]
  },
  {
   "cell_type": "code",
   "execution_count": 36,
   "metadata": {},
   "outputs": [
    {
     "data": {
      "text/plain": [
       "1"
      ]
     },
     "execution_count": 36,
     "metadata": {},
     "output_type": "execute_result"
    }
   ],
   "source": [
    "head = ListNode(1, ListNode(1, None))\n",
    "x = 0\n",
    "Solution().partition(head, x).val"
   ]
  },
  {
   "cell_type": "code",
   "execution_count": null,
   "metadata": {},
   "outputs": [],
   "source": []
  }
 ],
 "metadata": {
  "kernelspec": {
   "display_name": "base",
   "language": "python",
   "name": "python3"
  },
  "language_info": {
   "codemirror_mode": {
    "name": "ipython",
    "version": 3
   },
   "file_extension": ".py",
   "mimetype": "text/x-python",
   "name": "python",
   "nbconvert_exporter": "python",
   "pygments_lexer": "ipython3",
   "version": "3.8.10"
  }
 },
 "nbformat": 4,
 "nbformat_minor": 2
}
