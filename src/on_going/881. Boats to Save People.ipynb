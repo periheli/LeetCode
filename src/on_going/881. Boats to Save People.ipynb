{
 "cells": [
  {
   "cell_type": "code",
   "execution_count": 1,
   "metadata": {},
   "outputs": [],
   "source": [
    "from typing import List"
   ]
  },
  {
   "cell_type": "code",
   "execution_count": null,
   "metadata": {},
   "outputs": [],
   "source": [
    "class Solution:\n",
    "    def numRescueBoats(self, people: List[int], limit: int) -> int:\n",
    "        people = sorted(people)\n",
    "        left_pointer = 0\n",
    "        right_pointer = len(people) - 1\n",
    "        num_boats = 0\n",
    "\n",
    "        while left_pointer < right_pointer:\n",
    "            if people[left_pointer] + people[right_pointer] <= limit:\n",
    "                left_pointer += 1\n",
    "                right_pointer -= 1\n",
    "            else:\n",
    "                right_pointer -= 1\n",
    "            num_boats += 1\n",
    "            \n",
    "        if left_pointer == right_pointer:\n",
    "            num_boats += 1\n",
    "            \n",
    "        return num_boats"
   ]
  },
  {
   "cell_type": "code",
   "execution_count": 2,
   "metadata": {},
   "outputs": [
    {
     "data": {
      "text/plain": [
       "[1, 2, 3]"
      ]
     },
     "execution_count": 2,
     "metadata": {},
     "output_type": "execute_result"
    }
   ],
   "source": []
  },
  {
   "cell_type": "code",
   "execution_count": null,
   "metadata": {},
   "outputs": [],
   "source": []
  }
 ],
 "metadata": {
  "kernelspec": {
   "display_name": "base",
   "language": "python",
   "name": "python3"
  },
  "language_info": {
   "codemirror_mode": {
    "name": "ipython",
    "version": 3
   },
   "file_extension": ".py",
   "mimetype": "text/x-python",
   "name": "python",
   "nbconvert_exporter": "python",
   "pygments_lexer": "ipython3",
   "version": "3.8.5"
  }
 },
 "nbformat": 4,
 "nbformat_minor": 2
}
