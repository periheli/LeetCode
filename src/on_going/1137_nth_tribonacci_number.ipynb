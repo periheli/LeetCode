{
 "cells": [
  {
   "cell_type": "code",
   "execution_count": null,
   "metadata": {},
   "outputs": [],
   "source": [
    "class Solution:\n",
    "    def tribonacci(self, n: int) -> int:\n",
    "        if n == 0:\n",
    "            return 0\n",
    "        if n == 1:\n",
    "            return 1\n",
    "        if n == 2:\n",
    "            return 1\n",
    "\n",
    "        three_values = [0, 1, 1]\n",
    "        for i in range(n - 2):\n",
    "            three_values[i % 3] = sum(three_values)\n",
    "\n",
    "        return three_values[n % 3]"
   ]
  },
  {
   "cell_type": "code",
   "execution_count": null,
   "metadata": {},
   "outputs": [],
   "source": [
    "# TODO: Matrix Exponential\n",
    "# https://leetcode.com/problems/n-th-tribonacci-number/solutions/1482728/c-python-2-solutions-dp-matrix-exponential-picture-explained-clean-concise/?envType=daily-question&envId=2024-04-24"
   ]
  }
 ],
 "metadata": {
  "language_info": {
   "name": "python"
  }
 },
 "nbformat": 4,
 "nbformat_minor": 2
}
