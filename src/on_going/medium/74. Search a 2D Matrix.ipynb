{
 "cells": [
  {
   "cell_type": "code",
   "execution_count": 1,
   "metadata": {},
   "outputs": [],
   "source": [
    "from typing import List, Dict, Optional, Set, Tuple\n",
    "from collections import deque, Counter\n",
    "from sortedcontainers import SortedList\n",
    "import random\n",
    "\n",
    "# support for maintaining a list in sorted order\n",
    "# without having to sort the list after each insertion\n",
    "from bisect import bisect_left, insort_left, bisect_right, insort_right\n",
    "from heapq import (\n",
    "    heappop,\n",
    "    heappush,\n",
    "    heapify,\n",
    "    heapreplace,\n",
    "    _heappop_max,\n",
    "    _heapify_max,\n",
    ")\n",
    "\n",
    "\n",
    "class Solution:\n",
    "    def searchMatrix(self, matrix: List[List[int]], target: int) -> bool:\n",
    "        m = len(matrix)\n",
    "        n = len(matrix[0])\n",
    "\n",
    "        def get_value(idx: int) -> int:\n",
    "            row, column = divmod(idx, n)\n",
    "            return matrix[row][column]\n",
    "\n",
    "        return (\n",
    "            get_value(bisect_left(range(m * n - 1), target, key=get_value))\n",
    "            == target\n",
    "        )\n",
    "\n",
    "    def searchMatrix(self, matrix: List[List[int]], target: int) -> bool:\n",
    "        m = len(matrix)\n",
    "        n = len(matrix[0])\n",
    "\n",
    "        def get_value(idx: int) -> int:\n",
    "            row, column = divmod(idx, n)\n",
    "            return matrix[row][column]\n",
    "\n",
    "        low, high = 0, m * n\n",
    "        while low < high:\n",
    "            mid = (low + high) // 2\n",
    "            mid_value = get_value(mid)\n",
    "            if target == mid_value:\n",
    "                return True\n",
    "            elif target > mid_value:\n",
    "                low = mid + 1\n",
    "            else:\n",
    "                high = mid\n",
    "\n",
    "        return False"
   ]
  },
  {
   "cell_type": "code",
   "execution_count": null,
   "metadata": {},
   "outputs": [],
   "source": []
  }
 ],
 "metadata": {
  "kernelspec": {
   "display_name": "base",
   "language": "python",
   "name": "python3"
  },
  "language_info": {
   "codemirror_mode": {
    "name": "ipython",
    "version": 3
   },
   "file_extension": ".py",
   "mimetype": "text/x-python",
   "name": "python",
   "nbconvert_exporter": "python",
   "pygments_lexer": "ipython3",
   "version": "3.8.10"
  }
 },
 "nbformat": 4,
 "nbformat_minor": 2
}
