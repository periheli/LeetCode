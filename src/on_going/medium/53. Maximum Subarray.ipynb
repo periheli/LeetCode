{
 "cells": [
  {
   "cell_type": "code",
   "execution_count": 1,
   "metadata": {},
   "outputs": [],
   "source": [
    "from typing import List, Dict, Optional, Set, Tuple\n",
    "from collections import deque, Counter\n",
    "from sortedcontainers import SortedList\n",
    "import random\n",
    "from math import inf\n",
    "\n",
    "# support for maintaining a list in sorted order\n",
    "# without having to sort the list after each insertion\n",
    "import bisect\n",
    "from heapq import (\n",
    "    heappop,\n",
    "    heappush,\n",
    "    heapify,\n",
    "    heapreplace,\n",
    "    _heappop_max,\n",
    "    _heapify_max,\n",
    ")\n",
    "\n",
    "\n",
    "class Solution:\n",
    "    def maxSubArray(self, nums: List[int]) -> int:\n",
    "        sums = [0]\n",
    "        for num in nums:\n",
    "            sums.append(sums[-1] + num)\n",
    "\n",
    "        if sums[1] > sums[0]:\n",
    "            curr_max = sums[1]\n",
    "            curr_min = sums[0]\n",
    "            total_max = curr_max - curr_min\n",
    "        else:\n",
    "            curr_max = sums[1]\n",
    "            curr_min = sums[1]\n",
    "            total_max = sums[1]\n",
    "\n",
    "        for sum in sums[2:]:\n",
    "            if sum >= curr_max:\n",
    "                curr_max = sum\n",
    "                total_max = max(total_max, curr_max - curr_min)\n",
    "            elif sum < curr_min:\n",
    "                curr_min = sum\n",
    "                curr_max = sum\n",
    "        return total_max\n",
    "\n",
    "    def maxSubArray(self, nums: List[int]) -> int:\n",
    "        for i in range(1, len(nums)):\n",
    "            if nums[i - 1] > 0:\n",
    "                nums[i] += nums[i - 1]\n",
    "        return max(nums)\n",
    "\n",
    "    def maxSubArray(self, nums: List[int]) -> int:\n",
    "        cur_max, total_max = 0, -inf\n",
    "        for num in nums:\n",
    "            cur_max = max(num, cur_max + num)\n",
    "            total_max = max(total_max, cur_max)\n",
    "        return total_max\n",
    "\n",
    "    def maxSubArray(self, nums: List[int]) -> int:\n",
    "        cur_max, total_max = 0, -inf\n",
    "        for num in nums:\n",
    "            cur_max += num\n",
    "            total_max = max(total_max, cur_max)\n",
    "            if cur_max < 0:\n",
    "                cur_max = 0\n",
    "        return total_max"
   ]
  },
  {
   "cell_type": "code",
   "execution_count": null,
   "metadata": {},
   "outputs": [],
   "source": [
    "-3 - 5 - 6"
   ]
  }
 ],
 "metadata": {
  "kernelspec": {
   "display_name": "base",
   "language": "python",
   "name": "python3"
  },
  "language_info": {
   "codemirror_mode": {
    "name": "ipython",
    "version": 3
   },
   "file_extension": ".py",
   "mimetype": "text/x-python",
   "name": "python",
   "nbconvert_exporter": "python",
   "pygments_lexer": "ipython3",
   "version": "3.8.10"
  }
 },
 "nbformat": 4,
 "nbformat_minor": 2
}
