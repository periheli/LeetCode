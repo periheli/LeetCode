{
 "cells": [
  {
   "cell_type": "code",
   "execution_count": 30,
   "metadata": {},
   "outputs": [],
   "source": [
    "from typing import List, Dict, Optional, Set, Tuple\n",
    "from collections import deque, Counter\n",
    "from sortedcontainers import SortedList\n",
    "import random\n",
    "import math\n",
    "\n",
    "# support for maintaining a list in sorted order\n",
    "# without having to sort the list after each insertion\n",
    "import bisect\n",
    "from heapq import (\n",
    "    heappop,\n",
    "    heappush,\n",
    "    heapify,\n",
    "    heapreplace,\n",
    "    nlargest,\n",
    "    heappushpop,\n",
    ")\n",
    "\n",
    "\n",
    "class Solution:\n",
    "    def nearestPalindromic(self, n: str) -> str:\n",
    "        def is_all_9(number: str):\n",
    "            for c in number:\n",
    "                if c != \"9\":\n",
    "                    return False\n",
    "            return True\n",
    "\n",
    "        def is_1xxx_or_1xxx1(number: str):\n",
    "            if number[0] != \"1\":\n",
    "                return False\n",
    "            if number[-1] not in [\"0\", \"1\"]:\n",
    "                return False\n",
    "            for c in number[1:-1]:\n",
    "                if c != \"0\":\n",
    "                    return False\n",
    "            return True\n",
    "\n",
    "        k = len(n)\n",
    "        if n == \"0\":\n",
    "            return \"1\"\n",
    "        if len(n) == 1:\n",
    "            return str(int(n) - 1)\n",
    "        if is_all_9(n):\n",
    "            return \"1\" + \"0\" * (k - 1) + \"1\"\n",
    "\n",
    "        if is_1xxx_or_1xxx1(n):\n",
    "            return \"9\" * (k - 1)\n",
    "\n",
    "        left_half = n[: (k + 1) // 2]\n",
    "        n_int = int(n)\n",
    "        first_candidate = int(\n",
    "            left_half + left_half[-1 if k % 2 == 0 else -2 :: -1]\n",
    "        )\n",
    "        print(left_half)\n",
    "        print(first_candidate)\n",
    "\n",
    "        if first_candidate > n_int:\n",
    "            new_left_half = str(int(left_half) - 1)\n",
    "            second_candidate = int(\n",
    "                new_left_half + new_left_half[-1 if k % 2 == 0 else -2 :: -1]\n",
    "            )\n",
    "        elif first_candidate < n_int:\n",
    "            new_left_half = str(int(left_half) + 1)\n",
    "            second_candidate = int(\n",
    "                new_left_half + new_left_half[-1 if k % 2 == 0 else -2 :: -1]\n",
    "            )\n",
    "        else:\n",
    "            new_left_half = str(int(left_half) - 1)\n",
    "            first_candidate = int(\n",
    "                new_left_half + new_left_half[-1 if k % 2 == 0 else -2 :: -1]\n",
    "            )\n",
    "            new_left_half = str(int(left_half) + 1)\n",
    "            second_candidate = int(\n",
    "                new_left_half + new_left_half[-1 if k % 2 == 0 else -2 :: -1]\n",
    "            )\n",
    "\n",
    "        print(first_candidate)\n",
    "        print(second_candidate)\n",
    "        if abs(first_candidate - n_int) < abs(second_candidate - n_int):\n",
    "            return str(first_candidate)\n",
    "        elif abs(first_candidate - n_int) > abs(second_candidate - n_int):\n",
    "            return str(second_candidate)\n",
    "        else:\n",
    "            return str(min(first_candidate, second_candidate))"
   ]
  },
  {
   "cell_type": "code",
   "execution_count": 32,
   "metadata": {},
   "outputs": [
    {
     "name": "stdout",
     "output_type": "stream",
     "text": [
      "50\n",
      "505\n",
      "505\n",
      "494\n"
     ]
    },
    {
     "data": {
      "text/plain": [
       "'505'"
      ]
     },
     "execution_count": 32,
     "metadata": {},
     "output_type": "execute_result"
    }
   ],
   "source": [
    "Solution().nearestPalindromic(\"500\")"
   ]
  },
  {
   "cell_type": "code",
   "execution_count": null,
   "metadata": {},
   "outputs": [],
   "source": []
  }
 ],
 "metadata": {
  "kernelspec": {
   "display_name": "base",
   "language": "python",
   "name": "python3"
  },
  "language_info": {
   "codemirror_mode": {
    "name": "ipython",
    "version": 3
   },
   "file_extension": ".py",
   "mimetype": "text/x-python",
   "name": "python",
   "nbconvert_exporter": "python",
   "pygments_lexer": "ipython3",
   "version": "3.8.10"
  }
 },
 "nbformat": 4,
 "nbformat_minor": 2
}
