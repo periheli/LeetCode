{
 "cells": [
  {
   "cell_type": "code",
   "execution_count": 1,
   "metadata": {},
   "outputs": [],
   "source": [
    "from typing import List, Dict, Optional, Set, Tuple\n",
    "from collections import deque, Counter\n",
    "from sortedcontainers import SortedList\n",
    "import random\n",
    "\n",
    "# support for maintaining a list in sorted order\n",
    "# without having to sort the list after each insertion\n",
    "import bisect\n",
    "from heapq import heappop, heappush, heapify, heapreplace, nlargest\n",
    "\n",
    "\n",
    "class Solution:\n",
    "    def maxProfitAssignment(\n",
    "        self, difficulty: List[int], profit: List[int], worker: List[int]\n",
    "    ) -> int:\n",
    "        n = len(difficulty)\n",
    "        sorted_diff = sorted(\n",
    "            [(diff, prof) for diff, prof in zip(difficulty, profit)]\n",
    "        )\n",
    "        new_difficulty = [0] * n\n",
    "        new_profit = [0] * n\n",
    "        new_difficulty[0], new_profit[0] = sorted_diff[0]\n",
    "        k = 1\n",
    "        for i in range(1, n):\n",
    "            if sorted_diff[i][1] > new_profit[k - 1]:\n",
    "                new_difficulty[k], new_profit[k] = sorted_diff[i]\n",
    "                k += 1\n",
    "\n",
    "        new_difficulty = new_difficulty[:k]\n",
    "        new_profit = [0] + new_profit[:k]\n",
    "        res = 0\n",
    "        for ability in worker:\n",
    "            res += new_profit[bisect.bisect(new_difficulty, ability)]\n",
    "        return res\n",
    "\n",
    "    def maxProfitAssignment2(\n",
    "        self, difficulty: List[int], profit: List[int], worker: List[int]\n",
    "    ) -> int:\n",
    "        n = len(difficulty)\n",
    "        sorted_diff = sorted(\n",
    "            [(diff, prof) for diff, prof in zip(difficulty, profit)]\n",
    "        )\n",
    "        sorted_worker = sorted(worker)\n",
    "        res = 0\n",
    "        i = 0\n",
    "        max_profit = 0\n",
    "        for ability in sorted_worker:\n",
    "            while i < n and sorted_diff[i][0] <= ability:\n",
    "                max_profit = max(max_profit, sorted_diff[i][1])\n",
    "                i += 1\n",
    "            res += max_profit\n",
    "        return res"
   ]
  },
  {
   "cell_type": "markdown",
   "metadata": {},
   "source": [
    "DP: https://leetcode.com/problems/most-profit-assigning-work/solutions/175676/java-memorization-without-sort-beat-99-85"
   ]
  }
 ],
 "metadata": {
  "kernelspec": {
   "display_name": "base",
   "language": "python",
   "name": "python3"
  },
  "language_info": {
   "codemirror_mode": {
    "name": "ipython",
    "version": 3
   },
   "file_extension": ".py",
   "mimetype": "text/x-python",
   "name": "python",
   "nbconvert_exporter": "python",
   "pygments_lexer": "ipython3",
   "version": "3.8.10"
  }
 },
 "nbformat": 4,
 "nbformat_minor": 2
}
