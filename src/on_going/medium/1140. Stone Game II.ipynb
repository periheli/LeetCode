{
 "cells": [
  {
   "cell_type": "code",
   "execution_count": 1,
   "metadata": {},
   "outputs": [],
   "source": [
    "from typing import List, Dict, Optional, Set, Tuple\n",
    "from collections import deque, Counter\n",
    "from sortedcontainers import SortedList\n",
    "import random\n",
    "import math\n",
    "\n",
    "# support for maintaining a list in sorted order\n",
    "# without having to sort the list after each insertion\n",
    "import bisect\n",
    "from heapq import (\n",
    "    heappop,\n",
    "    heappush,\n",
    "    heapify,\n",
    "    heapreplace,\n",
    "    nlargest,\n",
    "    heappushpop,\n",
    ")\n",
    "\n",
    "\n",
    "class Solution:\n",
    "    def stoneGameII(self, piles: List[int]) -> int:\n",
    "        n = len(piles)\n",
    "        mem = {}\n",
    "\n",
    "        def dp(idx: int, m: int):\n",
    "            if (idx, m) in mem.keys():\n",
    "                return mem[(idx, m)]\n",
    "\n",
    "            total_stones = sum(piles[idx:])\n",
    "            if idx + 2 * m >= n:\n",
    "                return total_stones\n",
    "\n",
    "            max_stones = 0\n",
    "            for i in range(1, 2 * m + 1):\n",
    "                num_stones = total_stones - dp(idx + i, max(i, m))\n",
    "                max_stones = max(max_stones, num_stones)\n",
    "\n",
    "            mem[(idx, m)] = max_stones\n",
    "            return max_stones\n",
    "\n",
    "        return dp(0, 1)"
   ]
  }
 ],
 "metadata": {
  "kernelspec": {
   "display_name": "base",
   "language": "python",
   "name": "python3"
  },
  "language_info": {
   "codemirror_mode": {
    "name": "ipython",
    "version": 3
   },
   "file_extension": ".py",
   "mimetype": "text/x-python",
   "name": "python",
   "nbconvert_exporter": "python",
   "pygments_lexer": "ipython3",
   "version": "3.8.10"
  }
 },
 "nbformat": 4,
 "nbformat_minor": 2
}
