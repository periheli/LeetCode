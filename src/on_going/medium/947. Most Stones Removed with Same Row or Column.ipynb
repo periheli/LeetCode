{
 "cells": [
  {
   "cell_type": "code",
   "execution_count": 1,
   "metadata": {},
   "outputs": [],
   "source": [
    "from typing import List, Dict, Optional, Set, Tuple\n",
    "from collections import deque, Counter, defaultdict\n",
    "from sortedcontainers import SortedList\n",
    "import random\n",
    "import math\n",
    "\n",
    "# support for maintaining a list in sorted order\n",
    "# without having to sort the list after each insertion\n",
    "import bisect\n",
    "from heapq import (\n",
    "    heappop,\n",
    "    heappush,\n",
    "    heapify,\n",
    "    heapreplace,\n",
    "    nlargest,\n",
    "    heappushpop,\n",
    ")\n",
    "\n",
    "\n",
    "class Solution:\n",
    "    def removeStones(self, stones: List[List[int]]) -> int:\n",
    "        num_sets = 0\n",
    "        set_dict = {}\n",
    "        horizontal_dict = defaultdict(lambda: 0)\n",
    "        vertical_dict = defaultdict(lambda: 0)\n",
    "\n",
    "        def get_set(idx: int):\n",
    "            if set_dict[idx] == idx:\n",
    "                return idx\n",
    "            set_dict[idx] = get_set(set_dict[idx])\n",
    "            return set_dict[idx]\n",
    "\n",
    "        def join_set(set1: int, set2: int):\n",
    "            root_set1 = get_set(set1)\n",
    "            root_set2 = get_set(set2)\n",
    "            if root_set1 > root_set2:\n",
    "                set_dict[root_set1] = root_set2\n",
    "            else:\n",
    "                set_dict[root_set2] = root_set1\n",
    "\n",
    "        for h_idx, v_idx in stones:\n",
    "            h_set = horizontal_dict[h_idx]\n",
    "            v_set = vertical_dict[v_idx]\n",
    "            if h_set == 0 and v_set == 0:\n",
    "                num_sets += 1\n",
    "                set_dict[num_sets] = num_sets\n",
    "                horizontal_dict[h_idx] = num_sets\n",
    "                vertical_dict[v_idx] = num_sets\n",
    "            else:\n",
    "                if h_set == 0:\n",
    "                    horizontal_dict[h_idx] = v_set\n",
    "                elif v_set == 0:\n",
    "                    vertical_dict[v_idx] = h_set\n",
    "                elif h_set != v_set:\n",
    "                    join_set(h_set, v_set)\n",
    "\n",
    "        num_root_sets = len([k for k, v in set_dict.items() if k == v])\n",
    "        return len(stones) - num_root_sets"
   ]
  },
  {
   "cell_type": "code",
   "execution_count": null,
   "metadata": {},
   "outputs": [],
   "source": []
  }
 ],
 "metadata": {
  "kernelspec": {
   "display_name": "base",
   "language": "python",
   "name": "python3"
  },
  "language_info": {
   "codemirror_mode": {
    "name": "ipython",
    "version": 3
   },
   "file_extension": ".py",
   "mimetype": "text/x-python",
   "name": "python",
   "nbconvert_exporter": "python",
   "pygments_lexer": "ipython3",
   "version": "3.8.10"
  }
 },
 "nbformat": 4,
 "nbformat_minor": 2
}
