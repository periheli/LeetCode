{
 "cells": [
  {
   "cell_type": "code",
   "execution_count": 1,
   "metadata": {},
   "outputs": [],
   "source": [
    "from typing import List, Dict, Optional, Set, Tuple\n",
    "from collections import deque, Counter\n",
    "from sortedcontainers import SortedList\n",
    "import random\n",
    "\n",
    "# support for maintaining a list in sorted order\n",
    "# without having to sort the list after each insertion\n",
    "import bisect\n",
    "from heapq import (\n",
    "    heappop,\n",
    "    heappush,\n",
    "    heapify,\n",
    "    heapreplace,\n",
    "    _heappop_max,\n",
    "    _heapify_max,\n",
    ")\n",
    "\n",
    "\n",
    "class Solution:\n",
    "    def findKthLargest(self, nums: List[int], k: int) -> int:\n",
    "        return sorted(nums, reverse=True)[k - 1]\n",
    "\n",
    "    def findKthLargest(self, nums: List[int], k: int) -> int:\n",
    "        if k < len(nums) / 2:\n",
    "            _heapify_max(nums)\n",
    "            for _ in range(k - 1):\n",
    "                _heappop_max(nums)\n",
    "            return _heappop_max(nums)\n",
    "        else:\n",
    "            heapify(nums)\n",
    "            for _ in range(len(nums) - k):\n",
    "                heappop(nums)\n",
    "            return heappop(nums)\n",
    "\n",
    "    def findKthLargest(self, nums: List[int], k: int) -> int:\n",
    "        min_heap = nums[:k]\n",
    "        heapify(min_heap)\n",
    "        for num in nums[k:]:\n",
    "            if num > min_heap[0]:\n",
    "                heappop(min_heap)\n",
    "                heappush(min_heap, num)\n",
    "        return min_heap[0]\n",
    "\n",
    "    def findKthLargest(self, nums: List[int], k: int) -> int:\n",
    "        min_heap = nums[:k]\n",
    "        heapify(min_heap)\n",
    "        for num in nums[k:]:\n",
    "            if num > min_heap[0]:\n",
    "                heapreplace(min_heap, num)\n",
    "        return min_heap[0]\n",
    "\n",
    "    def findKthLargest(self, nums: List[int], k: int) -> int:\n",
    "        pivot = random.choice(nums)\n",
    "        left = []\n",
    "        mid = []\n",
    "        right = []\n",
    "        for num in nums:\n",
    "            if num == pivot:\n",
    "                mid.append(num)\n",
    "            elif num > pivot:\n",
    "                left.append(num)\n",
    "            else:\n",
    "                right.append(num)\n",
    "\n",
    "        if k <= len(left):\n",
    "            return self.findKthLargest(left, k)\n",
    "        elif k > len(left) + len(mid):\n",
    "            return self.findKthLargest(right, k - len(left) - len(mid))\n",
    "        else:\n",
    "            return pivot"
   ]
  },
  {
   "cell_type": "code",
   "execution_count": null,
   "metadata": {},
   "outputs": [],
   "source": [
    "5  2"
   ]
  },
  {
   "cell_type": "code",
   "execution_count": 19,
   "metadata": {},
   "outputs": [
    {
     "data": {
      "text/plain": [
       "[6, 5, 3, 4, 2, 1, 2, 1]"
      ]
     },
     "execution_count": 19,
     "metadata": {},
     "output_type": "execute_result"
    }
   ],
   "source": [
    "from heapq import _heappop_max, _heapify_max\n",
    "\n",
    "a = [1, 2, 3, 5, 6, 1, 2, 4]\n",
    "_heapify_max(a)\n",
    "a"
   ]
  },
  {
   "cell_type": "code",
   "execution_count": 13,
   "metadata": {},
   "outputs": [
    {
     "data": {
      "text/plain": [
       "1"
      ]
     },
     "execution_count": 13,
     "metadata": {},
     "output_type": "execute_result"
    }
   ],
   "source": [
    "a = [1, 2, 3, 5, 6, 1, 2, 4]\n",
    "heappop(a)"
   ]
  },
  {
   "cell_type": "code",
   "execution_count": 11,
   "metadata": {},
   "outputs": [
    {
     "data": {
      "text/plain": [
       "1"
      ]
     },
     "execution_count": 11,
     "metadata": {},
     "output_type": "execute_result"
    }
   ],
   "source": [
    "heappop(a)"
   ]
  },
  {
   "cell_type": "code",
   "execution_count": 6,
   "metadata": {},
   "outputs": [
    {
     "ename": "TypeError",
     "evalue": "heap argument must be a list",
     "output_type": "error",
     "traceback": [
      "\u001b[0;31m---------------------------------------------------------------------------\u001b[0m",
      "\u001b[0;31mTypeError\u001b[0m                                 Traceback (most recent call last)",
      "Cell \u001b[0;32mIn[6], line 1\u001b[0m\n\u001b[0;32m----> 1\u001b[0m \u001b[43mheappop\u001b[49m\u001b[43m(\u001b[49m\u001b[43mheap\u001b[49m\u001b[43m)\u001b[49m\n",
      "\u001b[0;31mTypeError\u001b[0m: heap argument must be a list"
     ]
    }
   ],
   "source": [
    "heappop(heap)"
   ]
  },
  {
   "cell_type": "code",
   "execution_count": null,
   "metadata": {},
   "outputs": [],
   "source": []
  }
 ],
 "metadata": {
  "kernelspec": {
   "display_name": "base",
   "language": "python",
   "name": "python3"
  },
  "language_info": {
   "codemirror_mode": {
    "name": "ipython",
    "version": 3
   },
   "file_extension": ".py",
   "mimetype": "text/x-python",
   "name": "python",
   "nbconvert_exporter": "python",
   "pygments_lexer": "ipython3",
   "version": "3.8.10"
  }
 },
 "nbformat": 4,
 "nbformat_minor": 2
}
