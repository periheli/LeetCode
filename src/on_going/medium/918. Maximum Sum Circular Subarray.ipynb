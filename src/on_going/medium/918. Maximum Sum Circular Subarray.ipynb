{
 "cells": [
  {
   "cell_type": "code",
   "execution_count": 7,
   "metadata": {},
   "outputs": [],
   "source": [
    "from typing import List, Dict, Optional, Set, Tuple\n",
    "from collections import deque, Counter\n",
    "from sortedcontainers import SortedList\n",
    "import random\n",
    "from math import inf\n",
    "\n",
    "# support for maintaining a list in sorted order\n",
    "# without having to sort the list after each insertion\n",
    "import bisect\n",
    "from heapq import (\n",
    "    heappop,\n",
    "    heappush,\n",
    "    heapify,\n",
    "    heapreplace,\n",
    "    _heappop_max,\n",
    "    _heapify_max,\n",
    ")\n",
    "\n",
    "\n",
    "class Solution:\n",
    "    def maxSubarraySumCircular(self, nums: List[int]) -> int:\n",
    "        cur_max, total_max = 0, -inf\n",
    "        last_start_index = 0\n",
    "        for i, num in enumerate(nums):\n",
    "            cur_max += num\n",
    "            total_max = max(total_max, cur_max)\n",
    "            if cur_max < 0:\n",
    "                last_start_index = i + 1\n",
    "                cur_max = 0\n",
    "\n",
    "        cur_max_from_0, total_max_from_0 = 0, -inf\n",
    "        for num in nums[:last_start_index]:\n",
    "            cur_max_from_0 += num\n",
    "            total_max_from_0 = max(total_max_from_0, cur_max_from_0)\n",
    "\n",
    "        print(total_max, total_max_from_0, cur_max)\n",
    "        return max(total_max, total_max_from_0 + cur_max)\n",
    "\n",
    "    def maxSubarraySumCircular(self, nums: List[int]) -> int:\n",
    "        cur_max, total_max = 0, -inf\n",
    "        cur_min, total_min = 0, inf\n",
    "        total_sum = 0\n",
    "        for num in nums:\n",
    "            cur_max += num\n",
    "            total_max = max(total_max, cur_max)\n",
    "            if cur_max < 0:\n",
    "                cur_max = 0\n",
    "\n",
    "            cur_min += num\n",
    "            total_min = min(total_min, cur_min)\n",
    "            if cur_min > 0:\n",
    "                cur_min = 0\n",
    "\n",
    "            total_sum += num\n",
    "        print(total_min, total_max)\n",
    "        return (\n",
    "            max(total_max, total_sum - total_min)\n",
    "            if total_max > 0\n",
    "            else total_max\n",
    "        )\n",
    "        \n",
    "    "
   ]
  },
  {
   "cell_type": "markdown",
   "metadata": {},
   "source": [
    "https://leetcode.com/problems/maximum-sum-circular-subarray/solutions/1348545/python-3-solutions-clean-concise-o-1-space/"
   ]
  },
  {
   "cell_type": "code",
   "execution_count": 8,
   "metadata": {},
   "outputs": [
    {
     "name": "stdout",
     "output_type": "stream",
     "text": [
      "-3 7\n"
     ]
    },
    {
     "data": {
      "text/plain": [
       "10"
      ]
     },
     "execution_count": 8,
     "metadata": {},
     "output_type": "execute_result"
    }
   ],
   "source": [
    "nums = [5,-3,5]\n",
    "Solution().maxSubarraySumCircular(nums)\n"
   ]
  },
  {
   "cell_type": "code",
   "execution_count": 9,
   "metadata": {},
   "outputs": [
    {
     "name": "stdout",
     "output_type": "stream",
     "text": [
      "-8 -2\n"
     ]
    },
    {
     "data": {
      "text/plain": [
       "0"
      ]
     },
     "execution_count": 9,
     "metadata": {},
     "output_type": "execute_result"
    }
   ],
   "source": [
    "nums = [-3, -2, -3]\n",
    "Solution().maxSubarraySumCircular(nums)"
   ]
  },
  {
   "cell_type": "code",
   "execution_count": null,
   "metadata": {},
   "outputs": [],
   "source": []
  }
 ],
 "metadata": {
  "kernelspec": {
   "display_name": "base",
   "language": "python",
   "name": "python3"
  },
  "language_info": {
   "codemirror_mode": {
    "name": "ipython",
    "version": 3
   },
   "file_extension": ".py",
   "mimetype": "text/x-python",
   "name": "python",
   "nbconvert_exporter": "python",
   "pygments_lexer": "ipython3",
   "version": "3.8.5"
  }
 },
 "nbformat": 4,
 "nbformat_minor": 2
}
