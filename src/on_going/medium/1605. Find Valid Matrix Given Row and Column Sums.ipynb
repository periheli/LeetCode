{
 "cells": [
  {
   "cell_type": "code",
   "execution_count": null,
   "metadata": {},
   "outputs": [],
   "source": [
    "from typing import List, Dict, Optional, Set, Tuple\n",
    "from collections import deque, Counter\n",
    "from sortedcontainers import SortedList\n",
    "import random\n",
    "\n",
    "# support for maintaining a list in sorted order\n",
    "# without having to sort the list after each insertion\n",
    "import bisect\n",
    "from heapq import heappop, heappush, heapify, heapreplace, nlargest\n",
    "\n",
    "\n",
    "class Solution:\n",
    "    def restoreMatrix(\n",
    "        self, rowSum: List[int], colSum: List[int]\n",
    "    ) -> List[List[int]]:\n",
    "        self.num_rows = len(rowSum)\n",
    "        self.num_cols = len(colSum)\n",
    "        self.matrix = [[0] * self.num_cols for _ in range(self.num_rows)]\n",
    "\n",
    "        row_sum, col_sum = rowSum, colSum\n",
    "        for i in range(min(self.num_rows, self.num_cols)):\n",
    "            row_sum, col_sum = self._fill(i, row_sum, col_sum)\n",
    "\n",
    "        return self.matrix\n",
    "\n",
    "    def _fill(self, idx: int, row_sum: List[int], col_sum: List[int]):\n",
    "        first_row_sum = row_sum[idx]\n",
    "        for i in range(idx, self.num_cols):\n",
    "            if first_row_sum == 0:\n",
    "                self.matrix[idx][i] = 0\n",
    "            else:\n",
    "                num_to_fill = min(first_row_sum, col_sum[i])\n",
    "                self.matrix[idx][i] = num_to_fill\n",
    "                first_row_sum -= num_to_fill\n",
    "                col_sum[i] -= num_to_fill\n",
    "\n",
    "        first_col_sum = col_sum[idx]\n",
    "        for i in range(idx + 1, self.num_rows):\n",
    "            if first_col_sum == 0:\n",
    "                self.matrix[i][idx] = 0\n",
    "            else:\n",
    "                num_to_fill = min(first_col_sum, row_sum[i])\n",
    "                self.matrix[i][idx] = num_to_fill\n",
    "                first_col_sum -= num_to_fill\n",
    "                row_sum[i] -= num_to_fill\n",
    "\n",
    "        return row_sum, col_sum"
   ]
  }
 ],
 "metadata": {
  "kernelspec": {
   "display_name": "base",
   "language": "python",
   "name": "python3"
  },
  "language_info": {
   "codemirror_mode": {
    "name": "ipython",
    "version": 3
   },
   "file_extension": ".py",
   "mimetype": "text/x-python",
   "name": "python",
   "nbconvert_exporter": "python",
   "pygments_lexer": "ipython3",
   "version": "3.8.5"
  }
 },
 "nbformat": 4,
 "nbformat_minor": 2
}
