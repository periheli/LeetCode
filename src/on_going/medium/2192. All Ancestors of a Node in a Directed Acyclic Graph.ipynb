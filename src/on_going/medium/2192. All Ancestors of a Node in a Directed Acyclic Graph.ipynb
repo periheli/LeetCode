{
 "cells": [
  {
   "cell_type": "code",
   "execution_count": 1,
   "metadata": {},
   "outputs": [],
   "source": [
    "from typing import List, Dict, Optional, Set, Tuple\n",
    "from collections import deque, Counter\n",
    "from sortedcontainers import SortedList\n",
    "import random\n",
    "\n",
    "# support for maintaining a list in sorted order\n",
    "# without having to sort the list after each insertion\n",
    "import bisect\n",
    "from heapq import heappop, heappush, heapify, heapreplace, nlargest\n",
    "\n",
    "\n",
    "class Solution:\n",
    "    def getAncestors(self, n: int, edges: List[List[int]]) -> List[List[int]]:\n",
    "        ancestors_list: List[List[int]] = [[] for _ in range(n)]\n",
    "\n",
    "        for edge in edges:\n",
    "            ancestors_list[edge[1]].append(edge[0])\n",
    "\n",
    "        visited = [len(ancestors) == 0 for ancestors in ancestors_list]\n",
    "\n",
    "        def get_ancestors(edge: int):\n",
    "            ancestors = ancestors_list[edge]\n",
    "            if visited[edge]:\n",
    "                return ancestors\n",
    "\n",
    "            for ancestor in ancestors_list[edge]:\n",
    "                ancestors.extend(get_ancestors(ancestor))\n",
    "\n",
    "            ancestors = sorted(set(ancestors))\n",
    "            ancestors_list[edge] = ancestors\n",
    "            visited[edge] = True\n",
    "            return ancestors\n",
    "\n",
    "        for edge in range(n):\n",
    "            get_ancestors(edge)\n",
    "\n",
    "        return ancestors_list"
   ]
  },
  {
   "cell_type": "code",
   "execution_count": null,
   "metadata": {},
   "outputs": [],
   "source": []
  }
 ],
 "metadata": {
  "kernelspec": {
   "display_name": "base",
   "language": "python",
   "name": "python3"
  },
  "language_info": {
   "codemirror_mode": {
    "name": "ipython",
    "version": 3
   },
   "file_extension": ".py",
   "mimetype": "text/x-python",
   "name": "python",
   "nbconvert_exporter": "python",
   "pygments_lexer": "ipython3",
   "version": "3.8.10"
  }
 },
 "nbformat": 4,
 "nbformat_minor": 2
}
