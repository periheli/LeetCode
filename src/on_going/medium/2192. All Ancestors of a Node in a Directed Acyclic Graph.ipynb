{
 "cells": [
  {
   "cell_type": "code",
   "execution_count": 3,
   "metadata": {},
   "outputs": [
    {
     "ename": "IndentationError",
     "evalue": "expected an indented block (3456325735.py, line 59)",
     "output_type": "error",
     "traceback": [
      "\u001b[0;36m  Cell \u001b[0;32mIn[3], line 59\u001b[0;36m\u001b[0m\n\u001b[0;31m    def dfs(edge: int):\u001b[0m\n\u001b[0m    ^\u001b[0m\n\u001b[0;31mIndentationError\u001b[0m\u001b[0;31m:\u001b[0m expected an indented block\n"
     ]
    }
   ],
   "source": [
    "from typing import List, Dict, Optional, Set, Tuple\n",
    "from collections import deque, Counter\n",
    "from sortedcontainers import SortedList\n",
    "import random\n",
    "\n",
    "# support for maintaining a list in sorted order\n",
    "# without having to sort the list after each insertion\n",
    "import bisect\n",
    "from heapq import heappop, heappush, heapify, heapreplace, nlargest\n",
    "\n",
    "\n",
    "class Solution:\n",
    "    def getAncestors(self, n: int, edges: List[List[int]]) -> List[List[int]]:\n",
    "        ancestors_list: List[List[int]] = [[] for _ in range(n)]\n",
    "\n",
    "        for edge in edges:\n",
    "            ancestors_list[edge[1]].append(edge[0])\n",
    "\n",
    "        visited = [len(ancestors) == 0 for ancestors in ancestors_list]\n",
    "\n",
    "        def get_ancestors(edge: int):\n",
    "            ancestors = ancestors_list[edge]\n",
    "            if visited[edge]:\n",
    "                return ancestors\n",
    "\n",
    "            for ancestor in ancestors_list[edge]:\n",
    "                ancestors.extend(get_ancestors(ancestor))\n",
    "\n",
    "            ancestors = sorted(set(ancestors))\n",
    "            ancestors_list[edge] = ancestors\n",
    "            visited[edge] = True\n",
    "            return ancestors\n",
    "\n",
    "        for edge in range(n):\n",
    "            get_ancestors(edge)\n",
    "\n",
    "        return ancestors_list\n",
    "\n",
    "    def getAncestors_dfs(\n",
    "        self, n: int, edges: List[List[int]]\n",
    "    ) -> List[List[int]]:\n",
    "        ancestors_list: List[List[int]] = [[] for _ in range(n)]\n",
    "\n",
    "        for edge in edges:\n",
    "            ancestors_list[edge[1]].append(edge[0])\n",
    "\n",
    "        visited = [len(ancestors) == 0 for ancestors in ancestors_list]\n",
    "\n",
    "        def merge(list1: List[int], list2: List[int]):\n",
    "            \"\"\"\n",
    "            Merge two sorted lists with de-duplication\n",
    "            \"\"\"\n",
    "            if len(list2) == 0:\n",
    "                return list1\n",
    "\n",
    "            res = []\n",
    "            i, j = 0, 0\n",
    "            n = len(list1)\n",
    "            m = len(list2)\n",
    "            while i < n and j < m:\n",
    "                if list1[i] < list2[j]:\n",
    "                    res.append(list1[i])\n",
    "                    i += 1\n",
    "                elif list1[i] > list2[j]:\n",
    "                    res.append(list2[j])\n",
    "                    j += 1\n",
    "                else:\n",
    "                    # De-dup\n",
    "                    res.append(list1[i])\n",
    "                    i += 1\n",
    "                    j += 1\n",
    "\n",
    "            return res + list1[i:] + list2[j:]\n",
    "\n",
    "        def dfs(edge: int):\n",
    "            ancestors = ancestors_list[edge]\n",
    "            if visited[edge]:\n",
    "                return ancestors\n",
    "\n",
    "            for ancestor in ancestors_list[edge]:\n",
    "                ancestors = merge(ancestors, dfs(ancestor))\n",
    "\n",
    "            ancestors = sorted(set(ancestors))\n",
    "            ancestors_list[edge] = ancestors\n",
    "            visited[edge] = True\n",
    "            return ancestors\n",
    "\n",
    "        for edge in range(n):\n",
    "            dfs(edge)\n",
    "\n",
    "        return ancestors_list"
   ]
  },
  {
   "cell_type": "code",
   "execution_count": 1,
   "metadata": {},
   "outputs": [
    {
     "data": {
      "text/plain": [
       "[1, 2, 3, 5]"
      ]
     },
     "execution_count": 1,
     "metadata": {},
     "output_type": "execute_result"
    }
   ],
   "source": [
    "a = [1, 2, 3]\n",
    "b = a\n",
    "b.append(5)\n",
    "b"
   ]
  },
  {
   "cell_type": "code",
   "execution_count": 2,
   "metadata": {},
   "outputs": [
    {
     "data": {
      "text/plain": [
       "[1, 2, 3, 5]"
      ]
     },
     "execution_count": 2,
     "metadata": {},
     "output_type": "execute_result"
    }
   ],
   "source": [
    "a"
   ]
  },
  {
   "cell_type": "code",
   "execution_count": null,
   "metadata": {},
   "outputs": [],
   "source": []
  }
 ],
 "metadata": {
  "kernelspec": {
   "display_name": "base",
   "language": "python",
   "name": "python3"
  },
  "language_info": {
   "codemirror_mode": {
    "name": "ipython",
    "version": 3
   },
   "file_extension": ".py",
   "mimetype": "text/x-python",
   "name": "python",
   "nbconvert_exporter": "python",
   "pygments_lexer": "ipython3",
   "version": "3.8.10"
  }
 },
 "nbformat": 4,
 "nbformat_minor": 2
}
