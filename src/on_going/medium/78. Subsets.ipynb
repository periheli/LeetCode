{
 "cells": [
  {
   "cell_type": "code",
   "execution_count": 1,
   "metadata": {},
   "outputs": [],
   "source": [
    "from typing import List, Dict, Optional, Set, Tuple\n",
    "from collections import deque, Counter\n",
    "from sortedcontainers import SortedList\n",
    "\n",
    "# support for maintaining a list in sorted order\n",
    "# without having to sort the list after each insertion\n",
    "import bisect\n",
    "from heapq import heappop, heappush\n",
    "\n",
    "\n",
    "class Solution:\n",
    "    def subsets(self, nums: List[int]) -> List[List[int]]:\n",
    "        n = len(nums)\n",
    "\n",
    "        def subsets_helper(index: int, subset_header: List[int]):\n",
    "            if index == n - 1:\n",
    "                return [subset_header, subset_header + [nums[index]]]\n",
    "            subsets = subsets_helper(index + 1, subset_header)\n",
    "            subsets += subsets_helper(index + 1, subset_header + [nums[index]])\n",
    "            return subsets\n",
    "\n",
    "        return subsets_helper(0, [])\n",
    "\n",
    "    def subsets(self, nums: List[int]) -> List[List[int]]:\n",
    "        n = len(nums)\n",
    "\n",
    "        def subsets_helper(index: int, subset_header: List[int]):\n",
    "            if index == n:\n",
    "                return [subset_header]\n",
    "            subsets = [subset_header]\n",
    "            for i in range(index, n):\n",
    "                subsets.extend(subsets_helper(i + 1, subset_header + [nums[i]]))\n",
    "            return subsets\n",
    "\n",
    "        return subsets_helper(0, [])"
   ]
  },
  {
   "cell_type": "code",
   "execution_count": null,
   "metadata": {},
   "outputs": [],
   "source": []
  }
 ],
 "metadata": {
  "kernelspec": {
   "display_name": "base",
   "language": "python",
   "name": "python3"
  },
  "language_info": {
   "codemirror_mode": {
    "name": "ipython",
    "version": 3
   },
   "file_extension": ".py",
   "mimetype": "text/x-python",
   "name": "python",
   "nbconvert_exporter": "python",
   "pygments_lexer": "ipython3",
   "version": "3.8.10"
  }
 },
 "nbformat": 4,
 "nbformat_minor": 2
}
