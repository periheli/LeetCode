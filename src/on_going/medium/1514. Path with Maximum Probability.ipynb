{
 "cells": [
  {
   "cell_type": "code",
   "execution_count": 11,
   "metadata": {},
   "outputs": [],
   "source": [
    "from typing import List, Dict, Optional, Set, Tuple\n",
    "from collections import deque, Counter, defaultdict\n",
    "from sortedcontainers import SortedList\n",
    "import random\n",
    "import math\n",
    "\n",
    "# support for maintaining a list in sorted order\n",
    "# without having to sort the list after each insertion\n",
    "import bisect\n",
    "from heapq import (\n",
    "    heappop,\n",
    "    heappush,\n",
    "    heapify,\n",
    "    heapreplace,\n",
    "    nlargest,\n",
    "    heappushpop,\n",
    ")\n",
    "\n",
    "\n",
    "class Solution:\n",
    "    def maxProbability(\n",
    "        self,\n",
    "        n: int,\n",
    "        edges: List[List[int]],\n",
    "        succProb: List[float],\n",
    "        start_node: int,\n",
    "        end_node: int,\n",
    "    ) -> float:\n",
    "        graph = defaultdict(lambda: [])\n",
    "\n",
    "        for edge, prob in zip(edges, succProb):\n",
    "            neg_log_prob = -math.log(prob)\n",
    "            graph[edge[0]].append((neg_log_prob, edge[1]))\n",
    "            graph[edge[1]].append((neg_log_prob, edge[0]))\n",
    "\n",
    "        visited = set([start_node])\n",
    "        priority_queue = graph[start_node]\n",
    "        heapify(priority_queue)\n",
    "        while len(priority_queue) > 0:\n",
    "            total_dist, edge = heappop(priority_queue)\n",
    "            if edge == end_node:\n",
    "                return math.exp(-total_dist)\n",
    "            if edge in visited:\n",
    "                continue\n",
    "            visited.add(edge)\n",
    "            candidate_list = [\n",
    "                (item[0] + total_dist, item[1])\n",
    "                for item in graph[edge]\n",
    "                if item[1] not in visited\n",
    "            ]\n",
    "            for item in candidate_list:\n",
    "                heappush(priority_queue, item)\n",
    "\n",
    "        return 0"
   ]
  },
  {
   "cell_type": "code",
   "execution_count": null,
   "metadata": {},
   "outputs": [],
   "source": []
  }
 ],
 "metadata": {
  "kernelspec": {
   "display_name": "base",
   "language": "python",
   "name": "python3"
  },
  "language_info": {
   "codemirror_mode": {
    "name": "ipython",
    "version": 3
   },
   "file_extension": ".py",
   "mimetype": "text/x-python",
   "name": "python",
   "nbconvert_exporter": "python",
   "pygments_lexer": "ipython3",
   "version": "3.8.10"
  }
 },
 "nbformat": 4,
 "nbformat_minor": 2
}
