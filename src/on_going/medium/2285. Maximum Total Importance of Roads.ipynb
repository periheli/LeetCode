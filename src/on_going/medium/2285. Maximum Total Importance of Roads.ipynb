{
 "cells": [
  {
   "cell_type": "code",
   "execution_count": 1,
   "metadata": {},
   "outputs": [],
   "source": [
    "from typing import List, Dict, Optional, Set, Tuple\n",
    "from collections import deque, Counter, defaultdict\n",
    "from sortedcontainers import SortedList\n",
    "import random\n",
    "\n",
    "# support for maintaining a list in sorted order\n",
    "# without having to sort the list after each insertion\n",
    "import bisect\n",
    "from heapq import heappop, heappush, heapify, heapreplace, nlargest\n",
    "\n",
    "\n",
    "class Solution:\n",
    "    def maximumImportance(self, n: int, roads: List[List[int]]) -> int:\n",
    "        counter = [0] * n\n",
    "        for road in roads:\n",
    "            counter[road[0]] += 1\n",
    "            counter[road[1]] += 1\n",
    "\n",
    "        res = 0\n",
    "        for i, count in enumerate(sorted(counter)):\n",
    "            res += count * (i + 1)\n",
    "        return res"
   ]
  },
  {
   "cell_type": "code",
   "execution_count": null,
   "metadata": {},
   "outputs": [],
   "source": []
  }
 ],
 "metadata": {
  "kernelspec": {
   "display_name": "base",
   "language": "python",
   "name": "python3"
  },
  "language_info": {
   "codemirror_mode": {
    "name": "ipython",
    "version": 3
   },
   "file_extension": ".py",
   "mimetype": "text/x-python",
   "name": "python",
   "nbconvert_exporter": "python",
   "pygments_lexer": "ipython3",
   "version": "3.8.5"
  }
 },
 "nbformat": 4,
 "nbformat_minor": 2
}
