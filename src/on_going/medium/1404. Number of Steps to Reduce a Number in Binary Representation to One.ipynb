{
 "cells": [
  {
   "cell_type": "code",
   "execution_count": 14,
   "metadata": {},
   "outputs": [],
   "source": [
    "from typing import List, Dict, Optional, Set, Tuple\n",
    "from collections import deque, Counter\n",
    "from sortedcontainers import SortedList\n",
    "import random\n",
    "\n",
    "# support for maintaining a list in sorted order\n",
    "# without having to sort the list after each insertion\n",
    "import bisect\n",
    "from heapq import (\n",
    "    heappop,\n",
    "    heappush,\n",
    "    heapify,\n",
    "    heapreplace,\n",
    "    _heappop_max,\n",
    "    _heapify_max,\n",
    ")\n",
    "\n",
    "\n",
    "class Solution:\n",
    "    def numSteps(self, s: str) -> int:\n",
    "        mem = 0\n",
    "        num_steps = 0\n",
    "        for bit in s[:0:-1]:\n",
    "            cur_sum = int(bit) + mem\n",
    "            if cur_sum == 0:\n",
    "                num_steps += 1\n",
    "            elif cur_sum == 1:\n",
    "                num_steps += 2\n",
    "                mem = 1\n",
    "            else:\n",
    "                num_steps += 1\n",
    "                mem = 1\n",
    "            print(bit, mem, num_steps)\n",
    "\n",
    "        return num_steps + mem\n",
    "\n",
    "    def numSteps(self, s: str) -> int:\n",
    "        n = len(s)\n",
    "        num_steps = 0\n",
    "        right = n - 1\n",
    "        while s[right] != \"1\":\n",
    "            num_steps += 1\n",
    "            right -= 1\n",
    "\n",
    "        if right == 0:\n",
    "            return num_steps\n",
    "\n",
    "        for bit in s[1 : right + 1]:\n",
    "            if bit == \"1\":\n",
    "                num_steps += 1\n",
    "            else:\n",
    "                num_steps += 2\n",
    "\n",
    "        return num_steps + 2\n",
    "\n",
    "    def numSteps(self, s: str) -> int:\n",
    "        stripped = s.rstrip(\"0\")\n",
    "        return len(s) - 1 + stripped.count(\"0\") + 2 * (len(stripped) > 1)"
   ]
  },
  {
   "cell_type": "code",
   "execution_count": 13,
   "metadata": {},
   "outputs": [
    {
     "data": {
      "text/plain": [
       "1"
      ]
     },
     "execution_count": 13,
     "metadata": {},
     "output_type": "execute_result"
    }
   ],
   "source": [
    "\"1101\".rstrip(\"0\").count(\"0\")"
   ]
  },
  {
   "cell_type": "code",
   "execution_count": 11,
   "metadata": {},
   "outputs": [
    {
     "data": {
      "text/plain": [
       "6"
      ]
     },
     "execution_count": 11,
     "metadata": {},
     "output_type": "execute_result"
    }
   ],
   "source": [
    "Solution().numSteps(\"1101\")\n",
    "\n",
    "\n"
   ]
  },
  {
   "cell_type": "code",
   "execution_count": null,
   "metadata": {},
   "outputs": [],
   "source": []
  }
 ],
 "metadata": {
  "kernelspec": {
   "display_name": "base",
   "language": "python",
   "name": "python3"
  },
  "language_info": {
   "codemirror_mode": {
    "name": "ipython",
    "version": 3
   },
   "file_extension": ".py",
   "mimetype": "text/x-python",
   "name": "python",
   "nbconvert_exporter": "python",
   "pygments_lexer": "ipython3",
   "version": "3.8.5"
  }
 },
 "nbformat": 4,
 "nbformat_minor": 2
}
