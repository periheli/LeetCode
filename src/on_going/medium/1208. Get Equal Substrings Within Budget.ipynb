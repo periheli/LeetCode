{
 "cells": [
  {
   "cell_type": "code",
   "execution_count": 8,
   "metadata": {},
   "outputs": [],
   "source": [
    "from typing import List, Dict, Optional, Set, Tuple\n",
    "from collections import deque, Counter\n",
    "from sortedcontainers import SortedList\n",
    "\n",
    "# support for maintaining a list in sorted order\n",
    "# without having to sort the list after each insertion\n",
    "import bisect\n",
    "from heapq import heappop, heappush\n",
    "\n",
    "\n",
    "class Solution:\n",
    "    def equalSubstring(self, s: str, t: str, maxCost: int) -> int:\n",
    "        costs = [abs(ord(a) - ord(b)) for a, b in zip(s, t)]\n",
    "        n = len(s)\n",
    "        right, cur_cost, max_len = 0, costs[0], 0\n",
    "        print(costs)\n",
    "        for left in range(n):\n",
    "            while cur_cost <= maxCost:\n",
    "                if right == n - 1:\n",
    "                    return max(max_len, right - left + 1)\n",
    "                right += 1\n",
    "                cur_cost += costs[right]\n",
    "            print(left, right, cur_cost)\n",
    "            max_len = max(max_len, right - left)\n",
    "            cur_cost -= costs[left]\n",
    "            print(cur_cost)\n",
    "        return max_len"
   ]
  },
  {
   "cell_type": "code",
   "execution_count": 9,
   "metadata": {},
   "outputs": [
    {
     "name": "stdout",
     "output_type": "stream",
     "text": [
      "[1, 1, 1, 2]\n",
      "0 3 5\n",
      "4\n",
      "1 3 4\n",
      "3\n"
     ]
    },
    {
     "data": {
      "text/plain": [
       "3"
      ]
     },
     "execution_count": 9,
     "metadata": {},
     "output_type": "execute_result"
    }
   ],
   "source": [
    "s = \"abcd\"\n",
    "t = \"bcdf\"\n",
    "maxCost = 3\n",
    "Solution().equalSubstring(s, t, maxCost)"
   ]
  },
  {
   "cell_type": "code",
   "execution_count": 10,
   "metadata": {},
   "outputs": [
    {
     "name": "stdout",
     "output_type": "stream",
     "text": [
      "[3, 6, 15, 11, 3, 9, 8, 15, 22, 10, 3, 7, 3, 4, 0]\n",
      "0 2 24\n",
      "21\n",
      "1 2 21\n",
      "15\n",
      "2 2 15\n",
      "0\n",
      "3 5 23\n",
      "12\n",
      "4 6 20\n",
      "17\n",
      "5 6 17\n",
      "8\n",
      "6 7 23\n",
      "15\n",
      "7 7 15\n",
      "0\n",
      "8 8 22\n",
      "0\n",
      "9 11 20\n",
      "10\n",
      "10 13 17\n",
      "14\n"
     ]
    },
    {
     "data": {
      "text/plain": [
       "3"
      ]
     },
     "execution_count": 10,
     "metadata": {},
     "output_type": "execute_result"
    }
   ],
   "source": [
    "s = \"krpgjbjjznpzdfy\"\n",
    "t = \"nxargkbydxmsgby\"\n",
    "maxCost = 14\n",
    "Solution().equalSubstring(s, t, maxCost)"
   ]
  },
  {
   "cell_type": "code",
   "execution_count": null,
   "metadata": {},
   "outputs": [],
   "source": []
  }
 ],
 "metadata": {
  "kernelspec": {
   "display_name": "base",
   "language": "python",
   "name": "python3"
  },
  "language_info": {
   "codemirror_mode": {
    "name": "ipython",
    "version": 3
   },
   "file_extension": ".py",
   "mimetype": "text/x-python",
   "name": "python",
   "nbconvert_exporter": "python",
   "pygments_lexer": "ipython3",
   "version": "3.8.10"
  }
 },
 "nbformat": 4,
 "nbformat_minor": 2
}
