{
 "cells": [
  {
   "cell_type": "code",
   "execution_count": 1,
   "metadata": {},
   "outputs": [],
   "source": [
    "from typing import List, Dict, Optional, Set, Tuple\n",
    "from collections import deque, Counter\n",
    "from sortedcontainers import SortedList\n",
    "import random\n",
    "\n",
    "# support for maintaining a list in sorted order\n",
    "# without having to sort the list after each insertion\n",
    "import bisect\n",
    "from heapq import (\n",
    "    heappop,\n",
    "    heappush,\n",
    "    heapify,\n",
    "    heapreplace,\n",
    "    _heappop_max,\n",
    "    _heapify_max,\n",
    ")\n",
    "\n",
    "\n",
    "class Solution:\n",
    "    def minSubArrayLen(self, target: int, nums: List[int]) -> int:\n",
    "        # if sum(nums) < target:\n",
    "        #     return 0\n",
    "        n = len(nums)\n",
    "        right = 0\n",
    "        cur_sum = 0\n",
    "        min_len = n + 1\n",
    "        for left in range(n):\n",
    "            while cur_sum < target:\n",
    "                if right == n:\n",
    "                    if min_len == n + 1:\n",
    "                        return 0\n",
    "                    return min_len\n",
    "                cur_sum += nums[right]\n",
    "                right += 1\n",
    "            min_len = min(min_len, right - left)\n",
    "            if min_len == 1:\n",
    "                return 1\n",
    "            cur_sum -= nums[left]\n",
    "\n",
    "    def minSubArrayLen(self, target: int, nums: List[int]) -> int:\n",
    "        n = len(nums)\n",
    "        res = n + 1\n",
    "        left, total = 0, 0\n",
    "\n",
    "        for right in range(n):\n",
    "            total += nums[right]\n",
    "            while total >= target:\n",
    "                res = min(res, right - left + 1)\n",
    "                total -= nums[left]\n",
    "                left += 1\n",
    "\n",
    "        return res if res != n + 1 else 0"
   ]
  },
  {
   "cell_type": "code",
   "execution_count": 2,
   "metadata": {},
   "outputs": [
    {
     "name": "stdout",
     "output_type": "stream",
     "text": [
      "1\n",
      "0\n"
     ]
    }
   ],
   "source": [
    "from collections import defaultdict\n",
    "\n",
    "d = defaultdict(lambda: 0)\n",
    "d[1] += 1\n",
    "print(len(d))\n",
    "del d[1]\n",
    "print(len(d))"
   ]
  },
  {
   "cell_type": "code",
   "execution_count": null,
   "metadata": {},
   "outputs": [],
   "source": []
  }
 ],
 "metadata": {
  "kernelspec": {
   "display_name": "base",
   "language": "python",
   "name": "python3"
  },
  "language_info": {
   "codemirror_mode": {
    "name": "ipython",
    "version": 3
   },
   "file_extension": ".py",
   "mimetype": "text/x-python",
   "name": "python",
   "nbconvert_exporter": "python",
   "pygments_lexer": "ipython3",
   "version": "3.8.5"
  }
 },
 "nbformat": 4,
 "nbformat_minor": 2
}
