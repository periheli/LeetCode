{
 "cells": [
  {
   "cell_type": "code",
   "execution_count": 1,
   "metadata": {},
   "outputs": [],
   "source": [
    "from typing import List, Dict, Optional, Set, Tuple\n",
    "from collections import deque, Counter, defaultdict\n",
    "from sortedcontainers import SortedList\n",
    "import random\n",
    "\n",
    "# support for maintaining a list in sorted order\n",
    "# without having to sort the list after each insertion\n",
    "import bisect\n",
    "from heapq import (\n",
    "    heappop,\n",
    "    heappush,\n",
    "    heapify,\n",
    "    heapreplace,\n",
    "    _heappop_max,\n",
    "    _heapify_max,\n",
    ")\n",
    "\n",
    "\n",
    "class Solution:\n",
    "    def countTriplets(self, arr: List[int]) -> int:\n",
    "        cum_xor_counter = defaultdict(lambda: 0)\n",
    "        cum_xor_counter[0] = 1\n",
    "        cum_xor_sum = defaultdict(lambda: 0)\n",
    "        cum_xor_sum[0] = -1\n",
    "        cum_xor = 0\n",
    "        res = 0\n",
    "        for i, num in enumerate(arr):\n",
    "            cum_xor ^= num\n",
    "            res += cum_xor_counter[cum_xor] * (i - 1) - cum_xor_sum[cum_xor]\n",
    "            cum_xor_counter[cum_xor] += 1\n",
    "            cum_xor_sum[cum_xor] += i\n",
    "        return res\n",
    "            \n",
    "                \n",
    "            \n",
    "            \n",
    "    # def countTriplets_v2(self, arr: List[int]) -> int:\n",
    "    #     cum_xor_idx = {0: -1}\n",
    "    #     cum_xor = 0\n",
    "    #     for i, num in enumerate(arr):\n",
    "    #         cum_xor ^= "
   ]
  },
  {
   "cell_type": "code",
   "execution_count": null,
   "metadata": {},
   "outputs": [],
   "source": [
    "010\n",
    "011\n",
    "001\n",
    "110\n",
    "111\n",
    "\n",
    "\n",
    "total_xor = 0\n",
    "for num in [2,3,1,6,7]:\n",
    "    total_xor ^= num\n",
    "    print(total_xor)\n",
    "\n",
    "\n",
    "\n"
   ]
  },
  {
   "cell_type": "code",
   "execution_count": 1,
   "metadata": {},
   "outputs": [
    {
     "name": "stdout",
     "output_type": "stream",
     "text": [
      "2\n",
      "1\n",
      "0\n",
      "6\n",
      "1\n"
     ]
    }
   ],
   "source": [
    "total_xor = 0\n",
    "for num in [2, 3, 1, 6, 7]:\n",
    "    total_xor ^= num\n",
    "    print(total_xor)"
   ]
  },
  {
   "cell_type": "code",
   "execution_count": 2,
   "metadata": {},
   "outputs": [
    {
     "data": {
      "text/plain": [
       "2"
      ]
     },
     "execution_count": 2,
     "metadata": {},
     "output_type": "execute_result"
    }
   ],
   "source": [
    "2 - -1 -1"
   ]
  },
  {
   "cell_type": "code",
   "execution_count": null,
   "metadata": {},
   "outputs": [],
   "source": []
  },
  {
   "cell_type": "code",
   "execution_count": null,
   "metadata": {},
   "outputs": [],
   "source": [
    "-1 2 4\n",
    "\n",
    "2 1\n",
    "4\n",
    "\n",
    "3 2\n",
    "3 5 8"
   ]
  },
  {
   "cell_type": "code",
   "execution_count": null,
   "metadata": {},
   "outputs": [],
   "source": [
    "-1 2 4 8\n",
    "\n",
    "2 1 3  6\n",
    "4 5  9\n",
    "8  8\n",
    "\n",
    "\n",
    "3 2 4 = 3 + 2 + 4\n",
    "5 6 = 3 + 2, 2 + 4\n",
    "9 = 3 + 2 + 4\n",
    "\n",
    "\n",
    "3 2 4 = 9*3 27 - 6\n",
    "3: 3\n",
    "2: 3\n",
    "4: 3\n",
    "    \n",
    "1\n",
    "2 2    \n",
    "3 4 3\n",
    "4 7 7 4\n",
    "\n",
    "\n",
    "\n",
    "\n"
   ]
  }
 ],
 "metadata": {
  "kernelspec": {
   "display_name": "base",
   "language": "python",
   "name": "python3"
  },
  "language_info": {
   "codemirror_mode": {
    "name": "ipython",
    "version": 3
   },
   "file_extension": ".py",
   "mimetype": "text/x-python",
   "name": "python",
   "nbconvert_exporter": "python",
   "pygments_lexer": "ipython3",
   "version": "3.8.10"
  }
 },
 "nbformat": 4,
 "nbformat_minor": 2
}
