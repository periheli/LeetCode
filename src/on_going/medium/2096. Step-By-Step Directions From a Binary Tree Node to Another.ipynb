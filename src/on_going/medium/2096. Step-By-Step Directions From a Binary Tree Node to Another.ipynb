{
 "cells": [
  {
   "cell_type": "code",
   "execution_count": 6,
   "metadata": {},
   "outputs": [],
   "source": [
    "from typing import List, Dict, Optional, Set, Tuple\n",
    "from collections import deque, Counter\n",
    "from sortedcontainers import SortedList\n",
    "import random\n",
    "\n",
    "# support for maintaining a list in sorted order\n",
    "# without having to sort the list after each insertion\n",
    "import bisect\n",
    "from heapq import heappop, heappush, heapify, heapreplace, nlargest"
   ]
  },
  {
   "cell_type": "code",
   "execution_count": 8,
   "metadata": {},
   "outputs": [],
   "source": [
    "def list2tree(num_list: List[Optional[int]]):\n",
    "    if num_list[0] is None:\n",
    "        return None\n",
    "\n",
    "    root = TreeNode(num_list[0])\n",
    "    upper_nodes = [root]\n",
    "    i = 1\n",
    "    n = len(num_list)\n",
    "    while i < n:\n",
    "        new_upper_nodes = []\n",
    "        max_idx = min(n, i + len(upper_nodes) * 2)\n",
    "        for j, num in enumerate(num_list[i:max_idx]):\n",
    "            parent_node = upper_nodes[j // 2]\n",
    "            new_node = TreeNode(num) if num is not None else None\n",
    "            new_upper_nodes.append(new_node)\n",
    "            if j % 2 == 0:\n",
    "                parent_node.left = new_node\n",
    "            else:\n",
    "                parent_node.right = new_node\n",
    "        upper_nodes = new_upper_nodes\n",
    "        i = max_idx\n",
    "\n",
    "    return root"
   ]
  },
  {
   "cell_type": "code",
   "execution_count": 15,
   "metadata": {},
   "outputs": [],
   "source": [
    "# Definition for a binary tree node.\n",
    "class TreeNode:\n",
    "    def __init__(self, val=0, left=None, right=None):\n",
    "        self.val = val\n",
    "        self.left = left\n",
    "        self.right = right\n",
    "\n",
    "\n",
    "class Solution:\n",
    "    def getDirections(\n",
    "        self, root: TreeNode, startValue: int, destValue: int\n",
    "    ) -> str:\n",
    "        queue = deque([(root, [root.val], \"U\")])\n",
    "        found_count = 0\n",
    "\n",
    "        while True:\n",
    "            node, num_path, char_path = queue.pop()\n",
    "            if node.val == startValue:\n",
    "                start_num_path = num_path\n",
    "                start_char_path = char_path\n",
    "                found_count += 1\n",
    "                if found_count == 2:\n",
    "                    break\n",
    "            if node.val == destValue:\n",
    "                dest_num_path = num_path\n",
    "                dest_char_path = char_path\n",
    "                found_count += 1\n",
    "                if found_count == 2:\n",
    "                    break\n",
    "            if node.left is not None:\n",
    "                queue.append(\n",
    "                    (node.left, num_path + [node.left.val], char_path + \"L\")\n",
    "                )\n",
    "            if node.right is not None:\n",
    "                queue.append(\n",
    "                    (node.right, num_path + [node.right.val], char_path + \"R\")\n",
    "                )\n",
    "\n",
    "        print(start_num_path)\n",
    "        print(dest_num_path)\n",
    "        i = 0\n",
    "        while start_num_path[i] == dest_num_path[i]:\n",
    "            i += 1\n",
    "            if i == min(len(start_num_path), len(dest_num_path)):\n",
    "                break\n",
    "\n",
    "        return \"U\" * (len(start_char_path) - i) + \"\".join(dest_char_path[i:])\n",
    "\n",
    "    def getDirections(\n",
    "        self, root: TreeNode, startValue: int, destValue: int\n",
    "    ) -> str:\n",
    "        queue = deque([(root, \"U\")])\n",
    "        found_count = 0\n",
    "\n",
    "        while True:\n",
    "            node, path = queue.pop()\n",
    "            if node.val == startValue:\n",
    "                start_path = path\n",
    "                found_count += 1\n",
    "                if found_count == 2:\n",
    "                    break\n",
    "            if node.val == destValue:\n",
    "                dest_path = path\n",
    "                found_count += 1\n",
    "                if found_count == 2:\n",
    "                    break\n",
    "            if node.left is not None:\n",
    "                queue.append((node.left, path + \"L\"))\n",
    "            if node.right is not None:\n",
    "                queue.append((node.right, path + \"R\"))\n",
    "\n",
    "        print(start_path)\n",
    "        print(dest_path)\n",
    "        i = 0\n",
    "        while start_path[i] == dest_path[i]:\n",
    "            i += 1\n",
    "            if i == min(len(start_path), len(dest_path)):\n",
    "                break\n",
    "\n",
    "        return \"U\" * (len(start_path) - i) + \"\".join(dest_path[i:])"
   ]
  },
  {
   "cell_type": "code",
   "execution_count": 16,
   "metadata": {},
   "outputs": [
    {
     "name": "stdout",
     "output_type": "stream",
     "text": [
      "ULL\n",
      "U\n"
     ]
    },
    {
     "data": {
      "text/plain": [
       "'UU'"
      ]
     },
     "execution_count": 16,
     "metadata": {},
     "output_type": "execute_result"
    }
   ],
   "source": [
    "tree = list2tree([5, 1, 2, 3, None, 6, 4])\n",
    "Solution().getDirections(tree, 3, 5)"
   ]
  },
  {
   "cell_type": "code",
   "execution_count": null,
   "metadata": {},
   "outputs": [],
   "source": []
  }
 ],
 "metadata": {
  "kernelspec": {
   "display_name": "base",
   "language": "python",
   "name": "python3"
  },
  "language_info": {
   "codemirror_mode": {
    "name": "ipython",
    "version": 3
   },
   "file_extension": ".py",
   "mimetype": "text/x-python",
   "name": "python",
   "nbconvert_exporter": "python",
   "pygments_lexer": "ipython3",
   "version": "3.8.10"
  }
 },
 "nbformat": 4,
 "nbformat_minor": 2
}
