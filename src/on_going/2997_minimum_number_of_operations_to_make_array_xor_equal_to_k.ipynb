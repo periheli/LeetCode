{
 "cells": [
  {
   "cell_type": "code",
   "execution_count": 1,
   "metadata": {},
   "outputs": [],
   "source": [
    "from typing import List"
   ]
  },
  {
   "cell_type": "code",
   "execution_count": 2,
   "metadata": {},
   "outputs": [],
   "source": [
    "class Solution:\n",
    "    def minOperations(self, nums: List[int], k: int) -> int:\n",
    "        res = k\n",
    "        for num in nums:\n",
    "            res = res ^ num\n",
    "        # return len([one for one in bin(res)[2:] if one == \"1\"])\n",
    "        # return bin(res)[2:].count(\"1\")\n",
    "        return res.bit_count()"
   ]
  },
  {
   "cell_type": "markdown",
   "metadata": {},
   "source": [
    "# Intuition\n",
    "<!-- Describe your first thoughts on how to solve this problem. -->\n",
    "Find the differences (in bits) between the bitwise XOR of all elements of the array and `k`. This is also the minimum number of flips we need to find. And guess what? The differences are also the number of bit 1s in the XOR of `k` and the bitwise XOR of all elements of the array.\n",
    "\n",
    "# Approach\n",
    "<!-- Describe your approach to solving the problem. -->\n",
    "- XOR is commutative => calculating the XOR of k and the bitwise XOR of all elements of the array by XORing k and all elements of the array\n",
    "- Count the number of bit 1s of the result `res`\n",
    "\n",
    "# Complexity\n",
    "- Time complexity: $O(n)$\n",
    "<!-- Add your time complexity here, e.g. $$O(n)$$ -->\n",
    "\n",
    "- Space complexity: $O(1)$\n",
    "<!-- Add your space complexity here, e.g. $$O(n)$$ -->\n",
    "\n",
    "# Code\n",
    "``` Python []\n",
    "class Solution:\n",
    "    def minOperations(self, nums: List[int], k: int) -> int:\n",
    "        res = k\n",
    "        for num in nums:\n",
    "            res = res ^ num\n",
    "        return bin(res)[2:].count(\"1\")\n",
    "```"
   ]
  }
 ],
 "metadata": {
  "kernelspec": {
   "display_name": "base",
   "language": "python",
   "name": "python3"
  },
  "language_info": {
   "codemirror_mode": {
    "name": "ipython",
    "version": 3
   },
   "file_extension": ".py",
   "mimetype": "text/x-python",
   "name": "python",
   "nbconvert_exporter": "python",
   "pygments_lexer": "ipython3",
   "version": "3.8.5"
  }
 },
 "nbformat": 4,
 "nbformat_minor": 2
}
