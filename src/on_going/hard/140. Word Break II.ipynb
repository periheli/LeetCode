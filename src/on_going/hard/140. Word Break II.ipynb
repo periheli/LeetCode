{
 "cells": [
  {
   "cell_type": "code",
   "execution_count": 1,
   "metadata": {},
   "outputs": [],
   "source": [
    "from typing import List, Dict, Optional, Set, Tuple\n",
    "from collections import deque, Counter\n",
    "from sortedcontainers import SortedList\n",
    "\n",
    "# support for maintaining a list in sorted order\n",
    "# without having to sort the list after each insertion\n",
    "import bisect\n",
    "from heapq import heappop, heappush\n",
    "\n",
    "\n",
    "class Solution:\n",
    "    def wordBreak(self, s: str, wordDict: List[str]) -> List[str]:\n",
    "        n = len(s)\n",
    "        word_set = set(wordDict)\n",
    "\n",
    "        def helper(index: int, header: List[str]):\n",
    "            if index == n:\n",
    "                return [\" \".join(header)]\n",
    "            sentences = []\n",
    "            for i in range(index, n):\n",
    "                word = s[index : i + 1]\n",
    "                if word in word_set:\n",
    "                    sentences.extend(helper(i + 1, header + [word]))\n",
    "            return sentences\n",
    "\n",
    "        return helper(0, [])\n",
    "\n",
    "    def wordBreak(self, s: str, wordDict: List[str]) -> List[str]:\n",
    "        # beat 99.9%\n",
    "        n = len(s)\n",
    "        word_set = set(wordDict)\n",
    "\n",
    "        sentences = []\n",
    "\n",
    "        def helper(index: int, header: List[str]):\n",
    "            nonlocal sentences\n",
    "            if index == n:\n",
    "                sentences.append(\" \".join(header))\n",
    "            for i in range(index, n):\n",
    "                word = s[index : i + 1]\n",
    "                if word in word_set:\n",
    "                    helper(i + 1, header + [word])\n",
    "\n",
    "        helper(0, [])\n",
    "        return sentences"
   ]
  },
  {
   "cell_type": "code",
   "execution_count": null,
   "metadata": {},
   "outputs": [],
   "source": []
  }
 ],
 "metadata": {
  "kernelspec": {
   "display_name": "base",
   "language": "python",
   "name": "python3"
  },
  "language_info": {
   "codemirror_mode": {
    "name": "ipython",
    "version": 3
   },
   "file_extension": ".py",
   "mimetype": "text/x-python",
   "name": "python",
   "nbconvert_exporter": "python",
   "pygments_lexer": "ipython3",
   "version": "3.8.10"
  }
 },
 "nbformat": 4,
 "nbformat_minor": 2
}
