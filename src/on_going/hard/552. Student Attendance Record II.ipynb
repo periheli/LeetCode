{
 "cells": [
  {
   "cell_type": "code",
   "execution_count": 1,
   "metadata": {},
   "outputs": [],
   "source": [
    "from typing import List, Dict, Optional, Set, Tuple\n",
    "from collections import deque, Counter\n",
    "from sortedcontainers import SortedList\n",
    "import random\n",
    "import numpy as np\n",
    "\n",
    "# support for maintaining a list in sorted order\n",
    "# without having to sort the list after each insertion\n",
    "import bisect\n",
    "from heapq import (\n",
    "    heappop,\n",
    "    heappush,\n",
    "    heapify,\n",
    "    heapreplace,\n",
    "    _heappop_max,\n",
    "    _heapify_max,\n",
    ")\n",
    "\n",
    "\n",
    "class Solution:\n",
    "    def checkRecord(self, n: int) -> int:\n",
    "        A = np.matrix(\n",
    "            [\n",
    "                [0, 0, 1, 0, 0, 0],\n",
    "                [1, 0, 1, 0, 0, 0],\n",
    "                [0, 1, 1, 0, 0, 0],\n",
    "                [0, 0, 1, 0, 0, 1],\n",
    "                [0, 0, 1, 1, 0, 1],\n",
    "                [0, 0, 1, 0, 1, 1],\n",
    "            ]\n",
    "        )\n",
    "        power = A\n",
    "        mod = 10**9 + 7\n",
    "        while n > 0:\n",
    "            if n & 1:\n",
    "                power = (power * A) % mod\n",
    "            A = A**2 % mod\n",
    "            n //= 2\n",
    "        return int(power[5, 2])"
   ]
  },
  {
   "cell_type": "markdown",
   "metadata": {},
   "source": [
    "### Ref\n",
    "\n",
    "- https://leetcode.com/problems/student-attendance-record-ii/solutions/101643/share-my-o-n-c-dp-solution-with-thinking-process-and-explanation/\n",
    "- https://leetcode.com/problems/student-attendance-record-ii/solutions/101633/improving-the-runtime-from-o-n-to-o-log-n/"
   ]
  },
  {
   "cell_type": "markdown",
   "metadata": {},
   "source": []
  }
 ],
 "metadata": {
  "kernelspec": {
   "display_name": "base",
   "language": "python",
   "name": "python3"
  },
  "language_info": {
   "codemirror_mode": {
    "name": "ipython",
    "version": 3
   },
   "file_extension": ".py",
   "mimetype": "text/x-python",
   "name": "python",
   "nbconvert_exporter": "python",
   "pygments_lexer": "ipython3",
   "version": "3.8.10"
  }
 },
 "nbformat": 4,
 "nbformat_minor": 2
}
