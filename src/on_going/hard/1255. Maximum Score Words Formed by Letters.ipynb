{
 "cells": [
  {
   "cell_type": "code",
   "execution_count": 1,
   "metadata": {},
   "outputs": [],
   "source": [
    "from typing import List, Dict, Optional, Set, Tuple\n",
    "from collections import deque, Counter\n",
    "from sortedcontainers import SortedList\n",
    "\n",
    "# support for maintaining a list in sorted order\n",
    "# without having to sort the list after each insertion\n",
    "import bisect\n",
    "from heapq import heappop, heappush\n",
    "\n",
    "\n",
    "class Solution:\n",
    "    def maxScoreWords(\n",
    "        self, words: List[str], letters: List[str], score: List[int]\n",
    "    ) -> int:\n",
    "        self.max_score = 0\n",
    "        self.letter_counter = Counter(letters)\n",
    "\n",
    "        def get_score(word: str):\n",
    "            return sum([score[ord(char) - 97] for char in word])\n",
    "\n",
    "        n = len(words)\n",
    "        word_score = [\n",
    "            sum([score[ord(char) - 97] for char in word]) for word in words\n",
    "        ]\n",
    "        word_counter = [Counter(word) for word in words]\n",
    "\n",
    "        def helper(index: int, cur_score: int):\n",
    "            print(self.max_score, self.letter_counter)\n",
    "            if index == n:\n",
    "                self.max_score = max(cur_score, self.max_score)\n",
    "                return\n",
    "            helper(index + 1, cur_score)\n",
    "            if all(\n",
    "                self.letter_counter.get(char, 0) >= count\n",
    "                for char, count in word_counter[index].items()\n",
    "            ):\n",
    "                self.letter_counter -= word_counter[index]\n",
    "                helper(index + 1, cur_score + word_score[index])\n",
    "                self.letter_counter += word_counter[index]\n",
    "\n",
    "        helper(0, 0)\n",
    "        return self.max_score"
   ]
  },
  {
   "cell_type": "code",
   "execution_count": 2,
   "metadata": {},
   "outputs": [
    {
     "name": "stdout",
     "output_type": "stream",
     "text": [
      "0 Counter({'d': 3, 'a': 2, 'o': 2, 'c': 1, 'g': 1})\n",
      "0 Counter({'d': 3, 'a': 2, 'o': 2, 'c': 1, 'g': 1})\n",
      "0 Counter({'d': 3, 'a': 2, 'o': 2, 'c': 1, 'g': 1})\n",
      "0 Counter({'d': 3, 'a': 2, 'o': 2, 'c': 1, 'g': 1})\n",
      "0 Counter({'d': 3, 'a': 2, 'o': 2, 'c': 1, 'g': 1})\n",
      "0 Counter({'a': 2, 'd': 2, 'c': 1})\n",
      "12 Counter({'o': 2, 'a': 1, 'c': 1, 'd': 1, 'g': 1})\n",
      "12 Counter({'o': 2, 'a': 1, 'c': 1, 'd': 1, 'g': 1})\n",
      "12 Counter({'a': 1, 'c': 1})\n",
      "23 Counter({'a': 2, 'd': 2, 'c': 1, 'o': 1})\n",
      "23 Counter({'a': 2, 'd': 2, 'c': 1, 'o': 1})\n",
      "23 Counter({'a': 2, 'd': 2, 'c': 1, 'o': 1})\n",
      "23 Counter({'a': 2, 'd': 2, 'c': 1, 'o': 1})\n",
      "23 Counter({'a': 1, 'c': 1, 'o': 1})\n",
      "23 Counter({'a': 1, 'c': 1, 'o': 1})\n"
     ]
    },
    {
     "data": {
      "text/plain": [
       "23"
      ]
     },
     "execution_count": 2,
     "metadata": {},
     "output_type": "execute_result"
    }
   ],
   "source": [
    "words = [\"dog\",\"cat\",\"dad\",\"good\"]\n",
    "letters = [\"a\",\"a\",\"c\",\"d\",\"d\",\"d\",\"g\",\"o\",\"o\"]\n",
    "score = [1,0,9,5,0,0,3,0,0,0,0,0,0,0,2,0,0,0,0,0,0,0,0,0,0,0]\n",
    "Solution().maxScoreWords(words, letters, score)"
   ]
  },
  {
   "cell_type": "code",
   "execution_count": 4,
   "metadata": {},
   "outputs": [
    {
     "ename": "TypeError",
     "evalue": "unsupported operand type(s) for -: 'dict' and 'dict'",
     "output_type": "error",
     "traceback": [
      "\u001b[1;31m---------------------------------------------------------------------------\u001b[0m",
      "\u001b[1;31mTypeError\u001b[0m                                 Traceback (most recent call last)",
      "\u001b[1;32m<ipython-input-4-a9ec11da6352>\u001b[0m in \u001b[0;36m<module>\u001b[1;34m\u001b[0m\n\u001b[1;32m----> 1\u001b[1;33m \u001b[1;33m{\u001b[0m\u001b[1;36m1\u001b[0m\u001b[1;33m:\u001b[0m \u001b[1;36m2\u001b[0m\u001b[1;33m,\u001b[0m \u001b[1;36m2\u001b[0m\u001b[1;33m:\u001b[0m \u001b[1;36m3\u001b[0m\u001b[1;33m}\u001b[0m \u001b[1;33m-\u001b[0m \u001b[1;33m{\u001b[0m\u001b[1;36m1\u001b[0m\u001b[1;33m:\u001b[0m \u001b[1;36m1\u001b[0m\u001b[1;33m,\u001b[0m \u001b[1;36m2\u001b[0m\u001b[1;33m:\u001b[0m \u001b[1;36m2\u001b[0m\u001b[1;33m}\u001b[0m\u001b[1;33m\u001b[0m\u001b[1;33m\u001b[0m\u001b[0m\n\u001b[0m",
      "\u001b[1;31mTypeError\u001b[0m: unsupported operand type(s) for -: 'dict' and 'dict'"
     ]
    }
   ],
   "source": [
    "{1: 2, 2: 3}. {1: 1, 2: 2}"
   ]
  },
  {
   "cell_type": "code",
   "execution_count": null,
   "metadata": {},
   "outputs": [],
   "source": []
  }
 ],
 "metadata": {
  "kernelspec": {
   "display_name": "base",
   "language": "python",
   "name": "python3"
  },
  "language_info": {
   "codemirror_mode": {
    "name": "ipython",
    "version": 3
   },
   "file_extension": ".py",
   "mimetype": "text/x-python",
   "name": "python",
   "nbconvert_exporter": "python",
   "pygments_lexer": "ipython3",
   "version": "3.8.5"
  }
 },
 "nbformat": 4,
 "nbformat_minor": 2
}
