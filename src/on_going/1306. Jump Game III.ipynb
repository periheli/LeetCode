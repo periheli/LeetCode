{
 "cells": [
  {
   "cell_type": "code",
   "execution_count": 6,
   "metadata": {},
   "outputs": [],
   "source": [
    "from typing import List, Dict, Optional\n",
    "from collections import deque, Counter\n",
    "from sortedcontainers import SortedList\n",
    "\n",
    "# support for maintaining a list in sorted order\n",
    "# without having to sort the list after each insertion\n",
    "import bisect\n",
    "\n",
    "\n",
    "class Solution:\n",
    "    def canReach(self, arr: List[int], start: int) -> bool:\n",
    "        # n = len(arr)\n",
    "        # left_pointer = start\n",
    "        # right_pointer = start\n",
    "        # left_max = left_pointer - arr[start]\n",
    "        # right_max =right_pointer+arr[start]\n",
    "        # while left_max > 0 or right_max <n-1:\n",
    "        #     if left_max < left_pointer:\n",
    "        #         left_pointer += 1\n",
    "        #     elif right_max == right_pointer:\n",
    "        #         return False\n",
    "        # return True\n",
    "        n = len(arr)\n",
    "        index_queue = deque([start])\n",
    "        visited_index_set = set()\n",
    "        while len(index_queue) > 0:\n",
    "            index = index_queue.pop()\n",
    "            if arr[index] == 0:\n",
    "                return True\n",
    "            visited_index_set.add(index)\n",
    "            if (index + arr[index]) <= n - 1 and (\n",
    "                index + arr[index]\n",
    "            ) not in visited_index_set:\n",
    "                index_queue.append(index + arr[index])\n",
    "            if (index - arr[index]) >= 0 and (\n",
    "                index - arr[index]\n",
    "            ) not in visited_index_set:\n",
    "                index_queue.append(index - arr[index])\n",
    "        return False"
   ]
  },
  {
   "cell_type": "code",
   "execution_count": 7,
   "metadata": {},
   "outputs": [
    {
     "data": {
      "text/plain": [
       "True"
      ]
     },
     "execution_count": 7,
     "metadata": {},
     "output_type": "execute_result"
    }
   ],
   "source": [
    "arr = [4,2,3,0,3,1,2]\n",
    "start = 5\n",
    "Solution().canReach(arr, start)"
   ]
  },
  {
   "cell_type": "code",
   "execution_count": null,
   "metadata": {},
   "outputs": [],
   "source": []
  }
 ],
 "metadata": {
  "kernelspec": {
   "display_name": "base",
   "language": "python",
   "name": "python3"
  },
  "language_info": {
   "codemirror_mode": {
    "name": "ipython",
    "version": 3
   },
   "file_extension": ".py",
   "mimetype": "text/x-python",
   "name": "python",
   "nbconvert_exporter": "python",
   "pygments_lexer": "ipython3",
   "version": "3.8.5"
  }
 },
 "nbformat": 4,
 "nbformat_minor": 2
}
