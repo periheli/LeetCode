{
 "cells": [
  {
   "cell_type": "code",
   "execution_count": 1,
   "metadata": {},
   "outputs": [],
   "source": [
    "from typing import List, Dict, Optional\n",
    "from collections import deque\n",
    "from sortedcontainers import SortedList\n",
    "\n",
    "# support for maintaining a list in sorted order\n",
    "# without having to sort the list after each insertion\n",
    "import bisect\n",
    "\n",
    "\n",
    "class ListNode:\n",
    "    def __init__(self, val=0, next=None):\n",
    "        self.val = val\n",
    "        self.next = next\n",
    "\n",
    "\n",
    "class Solution:\n",
    "    def removeNodes(self, head: Optional[ListNode]) -> Optional[ListNode]:\n",
    "        if head is None:\n",
    "            return None\n",
    "\n",
    "        next_node = self.removeNodes(head.next)\n",
    "        if next_node is None or next_node.val <= head.val:\n",
    "            head.next = next_node\n",
    "            return head\n",
    "        else:\n",
    "            return next_node\n",
    "\n",
    "    def removeNodes(self, head: Optional[ListNode]) -> Optional[ListNode]:\n",
    "        cur_node = head\n",
    "        stack = deque()\n",
    "        while cur_node.next is not None:\n",
    "            if cur_node.val >= cur_node.next.val:\n",
    "                stack.append(cur_node)\n",
    "            cur_node = cur_node.next\n",
    "\n",
    "        while len(stack) > 0:\n",
    "            candidate = stack.pop()\n",
    "            if candidate.val >= cur_node.val:\n",
    "                candidate.next = cur_node\n",
    "                cur_node = candidate\n",
    "\n",
    "        return cur_node"
   ]
  },
  {
   "cell_type": "code",
   "execution_count": null,
   "metadata": {},
   "outputs": [],
   "source": []
  }
 ],
 "metadata": {
  "kernelspec": {
   "display_name": "base",
   "language": "python",
   "name": "python3"
  },
  "language_info": {
   "codemirror_mode": {
    "name": "ipython",
    "version": 3
   },
   "file_extension": ".py",
   "mimetype": "text/x-python",
   "name": "python",
   "nbconvert_exporter": "python",
   "pygments_lexer": "ipython3",
   "version": "3.8.5"
  }
 },
 "nbformat": 4,
 "nbformat_minor": 2
}
