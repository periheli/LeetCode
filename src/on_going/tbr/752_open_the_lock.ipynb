{
 "cells": [
  {
   "cell_type": "code",
   "execution_count": 7,
   "metadata": {},
   "outputs": [],
   "source": [
    "from typing import List\n",
    "from collections import deque"
   ]
  },
  {
   "cell_type": "code",
   "execution_count": 60,
   "metadata": {},
   "outputs": [],
   "source": [
    "class Solution:\n",
    "    def openLock(self, deadends: List[str], target: str) -> int:\n",
    "        # def next_moves(code):\n",
    "        #     moves = []\n",
    "        #     for i in range(4):\n",
    "        #         backward_move = code[:i] + str((int(code[i]) - 1) % 10) + code[i + 1 :]\n",
    "        #         moves.append(backward_move)\n",
    "        #         forward_move = code[:i] + str((int(code[i]) + 1) % 10) + code[i + 1 :]\n",
    "        #         moves.append(forward_move)\n",
    "\n",
    "        #     return moves\n",
    "\n",
    "        def next_moves(code):\n",
    "            for i in range(4):\n",
    "                for diff in (-1, 1):\n",
    "                    yield (\n",
    "                        code[:i]\n",
    "                        + str((int(code[i]) + diff) % 10)\n",
    "                        + code[i + 1 :]\n",
    "                    )\n",
    "\n",
    "        if \"0000\" in deadends:\n",
    "            return -1\n",
    "\n",
    "        queue = deque([\"0000\"])\n",
    "        depth = 0\n",
    "        deadend_set = set(deadends)\n",
    "        while queue:\n",
    "            for _ in range(len(queue)):\n",
    "                cur_code = queue.popleft()\n",
    "                if cur_code == target:\n",
    "                    return depth\n",
    "\n",
    "                for move in next_moves(cur_code):\n",
    "                    if move not in deadend_set:\n",
    "                        deadend_set.add(move)\n",
    "                        queue.append(move)\n",
    "\n",
    "            depth += 1\n",
    "\n",
    "        return -1"
   ]
  },
  {
   "cell_type": "code",
   "execution_count": 67,
   "metadata": {},
   "outputs": [],
   "source": [
    "class Solution:\n",
    "    def openLock(self, deadends: List[str], target: str) -> int:\n",
    "        def next_moves(code, depth):\n",
    "            moves = []\n",
    "            for i in range(4):\n",
    "                backward_move = (\n",
    "                    code[:i] + str((int(code[i]) - 1) % 10) + code[i + 1 :]\n",
    "                )\n",
    "                moves.append((backward_move, depth + 1))\n",
    "                forward_move = (\n",
    "                    code[:i] + str((int(code[i]) + 1) % 10) + code[i + 1 :]\n",
    "                )\n",
    "                moves.append((forward_move, depth + 1))\n",
    "\n",
    "            return moves\n",
    "\n",
    "        if \"0000\" in deadends:\n",
    "            return -1\n",
    "\n",
    "        queue = deque([(\"0000\", 0)])\n",
    "        deadend_set = set(deadends)\n",
    "        while True:\n",
    "            if len(queue) == 0:\n",
    "                return -1\n",
    "            cur_code, depth = queue.popleft()\n",
    "            if cur_code == target:\n",
    "                return depth\n",
    "\n",
    "            for move in next_moves(cur_code, depth):\n",
    "                if move[0] not in deadend_set:\n",
    "                    deadend_set.add(move[0])\n",
    "                    queue.append(move)"
   ]
  },
  {
   "cell_type": "code",
   "execution_count": 41,
   "metadata": {},
   "outputs": [],
   "source": [
    "queue = deque([([0, 0, 0, 0], 0)])"
   ]
  },
  {
   "cell_type": "code",
   "execution_count": 69,
   "metadata": {},
   "outputs": [
    {
     "data": {
      "text/plain": [
       "-1"
      ]
     },
     "execution_count": 69,
     "metadata": {},
     "output_type": "execute_result"
    }
   ],
   "source": [
    "deadends = [\"8887\", \"8889\", \"8878\", \"8898\", \"8788\", \"8988\", \"7888\", \"9888\"]\n",
    "target = \"8888\"\n",
    "Solution().openLock(deadends, target)"
   ]
  },
  {
   "cell_type": "code",
   "execution_count": 68,
   "metadata": {},
   "outputs": [
    {
     "data": {
      "text/plain": [
       "6"
      ]
     },
     "execution_count": 68,
     "metadata": {},
     "output_type": "execute_result"
    }
   ],
   "source": [
    "deadends = [\"0201\", \"0101\", \"0102\", \"1212\", \"2002\"]\n",
    "target = \"0202\"\n",
    "Solution().openLock(deadends, target)"
   ]
  },
  {
   "cell_type": "code",
   "execution_count": null,
   "metadata": {},
   "outputs": [],
   "source": []
  }
 ],
 "metadata": {
  "kernelspec": {
   "display_name": "base",
   "language": "python",
   "name": "python3"
  },
  "language_info": {
   "codemirror_mode": {
    "name": "ipython",
    "version": 3
   },
   "file_extension": ".py",
   "mimetype": "text/x-python",
   "name": "python",
   "nbconvert_exporter": "python",
   "pygments_lexer": "ipython3",
   "version": "3.8.5"
  }
 },
 "nbformat": 4,
 "nbformat_minor": 2
}
