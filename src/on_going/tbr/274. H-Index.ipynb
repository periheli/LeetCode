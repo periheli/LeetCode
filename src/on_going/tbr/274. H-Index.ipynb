{
 "cells": [
  {
   "cell_type": "code",
   "execution_count": 4,
   "metadata": {},
   "outputs": [],
   "source": [
    "from typing import List, Dict, Optional\n",
    "from collections import deque, Counter\n",
    "from sortedcontainers import SortedList\n",
    "\n",
    "# support for maintaining a list in sorted order\n",
    "# without having to sort the list after each insertion\n",
    "import bisect\n",
    "\n",
    "\n",
    "class Solution:\n",
    "    def hIndex(self, citations: List[int]) -> int:\n",
    "        citations = sorted(citations, reverse=True)\n",
    "        for i, num in enumerate(citations):\n",
    "            if num <= i:\n",
    "                return i\n",
    "        return len(citations)\n",
    "\n",
    "    def hIndex(self, citations: List[int]) -> int:\n",
    "        max_num = 1000\n",
    "        actual_max = 0\n",
    "        counter = [0] * (max_num + 1)\n",
    "        for num in citations:\n",
    "            counter[max_num - num] += 1\n",
    "            if num > actual_max:\n",
    "                actual_max = num\n",
    "\n",
    "        res = actual_max\n",
    "        acc_count = 0\n",
    "        for count in counter[max_num - actual_max :]:\n",
    "            acc_count += count\n",
    "            if res <= acc_count:\n",
    "                return res\n",
    "            else:\n",
    "                res -= 1\n",
    "\n",
    "    def hIndex(self, citations: List[int]) -> int:\n",
    "        counter = Counter(citations)\n",
    "        sorted_counter = sorted(counter.items(), reverse=True)\n",
    "\n",
    "        print(sorted_counter)\n",
    "        acc_count = 0\n",
    "\n",
    "        for num, count in sorted_counter:\n",
    "            acc_count += count\n",
    "            if num <= acc_count:\n",
    "                return max(acc_count - count, num)\n",
    "\n",
    "        return acc_count"
   ]
  },
  {
   "cell_type": "code",
   "execution_count": 5,
   "metadata": {},
   "outputs": [
    {
     "name": "stdout",
     "output_type": "stream",
     "text": [
      "[(6, 1), (5, 1), (3, 1), (1, 1), (0, 1)]\n"
     ]
    },
    {
     "data": {
      "text/plain": [
       "3"
      ]
     },
     "execution_count": 5,
     "metadata": {},
     "output_type": "execute_result"
    }
   ],
   "source": [
    "citations = [3, 0, 6, 1, 5]\n",
    "Solution().hIndex(citations)"
   ]
  },
  {
   "cell_type": "code",
   "execution_count": 6,
   "metadata": {},
   "outputs": [
    {
     "name": "stdout",
     "output_type": "stream",
     "text": [
      "[(100, 1)]\n"
     ]
    },
    {
     "data": {
      "text/plain": [
       "1"
      ]
     },
     "execution_count": 6,
     "metadata": {},
     "output_type": "execute_result"
    }
   ],
   "source": [
    "citations = [100]\n",
    "Solution().hIndex(citations)"
   ]
  },
  {
   "cell_type": "code",
   "execution_count": null,
   "metadata": {},
   "outputs": [],
   "source": []
  }
 ],
 "metadata": {
  "kernelspec": {
   "display_name": "base",
   "language": "python",
   "name": "python3"
  },
  "language_info": {
   "codemirror_mode": {
    "name": "ipython",
    "version": 3
   },
   "file_extension": ".py",
   "mimetype": "text/x-python",
   "name": "python",
   "nbconvert_exporter": "python",
   "pygments_lexer": "ipython3",
   "version": "3.8.5"
  }
 },
 "nbformat": 4,
 "nbformat_minor": 2
}
