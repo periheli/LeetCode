{
 "cells": [
  {
   "cell_type": "code",
   "execution_count": 1,
   "metadata": {},
   "outputs": [],
   "source": [
    "from typing import List, Dict, Optional\n",
    "from collections import deque, Counter\n",
    "from sortedcontainers import SortedList\n",
    "\n",
    "# support for maintaining a list in sorted order\n",
    "# without having to sort the list after each insertion\n",
    "import bisect\n",
    "from heapq import heappop, heappush\n",
    "\n",
    "\n",
    "class TreeNode:\n",
    "    def __init__(self, val=0, left=None, right=None):\n",
    "        self.val = val\n",
    "        self.left = left\n",
    "        self.right = right\n",
    "\n",
    "\n",
    "class Solution:\n",
    "    def distributeCoins(self, root: Optional[TreeNode]) -> int:\n",
    "        def helper(node: TreeNode):\n",
    "            acc_moves = 0\n",
    "            node_val = node.val\n",
    "            if node.left is not None:\n",
    "                moves, child_value = helper(node.left)\n",
    "                acc_moves += moves + abs(child_value - 1)\n",
    "                node_val += child_value - 1\n",
    "            if node.right is not None:\n",
    "                moves, child_value = helper(node.right)\n",
    "                acc_moves += moves + abs(child_value - 1)\n",
    "                node_val += child_value - 1\n",
    "            return acc_moves, node_val\n",
    "\n",
    "        return helper(root)[0]"
   ]
  },
  {
   "cell_type": "code",
   "execution_count": null,
   "metadata": {},
   "outputs": [],
   "source": []
  }
 ],
 "metadata": {
  "kernelspec": {
   "display_name": "base",
   "language": "python",
   "name": "python3"
  },
  "language_info": {
   "codemirror_mode": {
    "name": "ipython",
    "version": 3
   },
   "file_extension": ".py",
   "mimetype": "text/x-python",
   "name": "python",
   "nbconvert_exporter": "python",
   "pygments_lexer": "ipython3",
   "version": "3.8.5"
  }
 },
 "nbformat": 4,
 "nbformat_minor": 2
}
