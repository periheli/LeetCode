{
 "cells": [
  {
   "cell_type": "code",
   "execution_count": 3,
   "metadata": {},
   "outputs": [],
   "source": [
    "from typing import List"
   ]
  },
  {
   "cell_type": "code",
   "execution_count": 12,
   "metadata": {},
   "outputs": [],
   "source": [
    "class Solution:\n",
    "    def findMinHeightTrees(self, n: int, edges: List[List[int]]) -> List[int]:\n",
    "        removed_set = set()\n",
    "        cur_edges = edges\n",
    "        while len(cur_edges) > 1:\n",
    "            new_edges = []\n",
    "            counter = {}\n",
    "            for u, v in cur_edges:\n",
    "                if u not in removed_set and v not in removed_set:\n",
    "                    counter[u] = counter.get(u, 0) + 1\n",
    "                    counter[v] = counter.get(v, 0) + 1\n",
    "                    new_edges.append([u, v])\n",
    "            cur_edges = new_edges\n",
    "            for edge, count in counter.items():\n",
    "                if count == 1:\n",
    "                    removed_set.add(edge)\n",
    "\n",
    "        if len(cur_edges) == 1:\n",
    "            return cur_edges[0]\n",
    "        else:\n",
    "            return list(set(range(n)) - removed_set)\n",
    "\n",
    "    def findMinHeightTrees(self, n: int, edges: List[List[int]]) -> List[int]:\n",
    "        if n == 1:\n",
    "            return [0]\n",
    "\n",
    "        adj = [set()] * n\n",
    "        for u, v in edges:\n",
    "            adj[u].add(v)\n",
    "            adj[v].add(u)\n",
    "        leaves = [i for i in range(n) if len(adj[i]) == 1]\n",
    "\n",
    "        while n > 2:\n",
    "            n -= len(leaves)\n",
    "            new_leaves = []\n",
    "            for i in leaves:\n",
    "                j = adj[i].pop()\n",
    "                adj[j].remove(i)\n",
    "                if len(adj[j]) == 1:\n",
    "                    new_leaves.append(j)\n",
    "            leaves = new_leaves\n",
    "        return leaves"
   ]
  },
  {
   "cell_type": "code",
   "execution_count": 13,
   "metadata": {},
   "outputs": [
    {
     "data": {
      "text/plain": [
       "{8}"
      ]
     },
     "execution_count": 13,
     "metadata": {},
     "output_type": "execute_result"
    }
   ],
   "source": [
    "set(range(9)) - set(range(8))"
   ]
  },
  {
   "cell_type": "code",
   "execution_count": 17,
   "metadata": {},
   "outputs": [
    {
     "data": {
      "text/plain": [
       "1"
      ]
     },
     "execution_count": 17,
     "metadata": {},
     "output_type": "execute_result"
    }
   ],
   "source": [
    "set([1]).remove"
   ]
  },
  {
   "cell_type": "code",
   "execution_count": 14,
   "metadata": {},
   "outputs": [
    {
     "name": "stdout",
     "output_type": "stream",
     "text": [
      "[[1, 0], [1, 2], [1, 3]]\n",
      "{1: 3, 0: 1, 2: 1, 3: 1}\n",
      "{0, 2, 3}\n",
      "[]\n",
      "{}\n",
      "{0, 2, 3}\n"
     ]
    }
   ],
   "source": [
    "Solution().findMinHeightTrees(4, [[1, 0], [1, 2], [1, 3]])"
   ]
  },
  {
   "cell_type": "code",
   "execution_count": 15,
   "metadata": {},
   "outputs": [
    {
     "ename": "NameError",
     "evalue": "name 'xrange' is not defined",
     "output_type": "error",
     "traceback": [
      "\u001b[1;31m---------------------------------------------------------------------------\u001b[0m",
      "\u001b[1;31mNameError\u001b[0m                                 Traceback (most recent call last)",
      "\u001b[1;32m<ipython-input-15-4f4b2af4217d>\u001b[0m in \u001b[0;36m<module>\u001b[1;34m\u001b[0m\n\u001b[1;32m----> 1\u001b[1;33m \u001b[0mxrange\u001b[0m\u001b[1;33m(\u001b[0m\u001b[1;36m3\u001b[0m\u001b[1;33m)\u001b[0m\u001b[1;33m\u001b[0m\u001b[1;33m\u001b[0m\u001b[0m\n\u001b[0m",
      "\u001b[1;31mNameError\u001b[0m: name 'xrange' is not defined"
     ]
    }
   ],
   "source": [
    "xrange(3)"
   ]
  },
  {
   "cell_type": "code",
   "execution_count": null,
   "metadata": {},
   "outputs": [],
   "source": []
  }
 ],
 "metadata": {
  "kernelspec": {
   "display_name": "base",
   "language": "python",
   "name": "python3"
  },
  "language_info": {
   "codemirror_mode": {
    "name": "ipython",
    "version": 3
   },
   "file_extension": ".py",
   "mimetype": "text/x-python",
   "name": "python",
   "nbconvert_exporter": "python",
   "pygments_lexer": "ipython3",
   "version": "3.8.5"
  }
 },
 "nbformat": 4,
 "nbformat_minor": 2
}
