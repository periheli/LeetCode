{
 "cells": [
  {
   "cell_type": "code",
   "execution_count": 16,
   "metadata": {},
   "outputs": [],
   "source": [
    "class Solution:\n",
    "    def findRotateSteps(self, ring: str, key: str) -> int:\n",
    "        n = len(ring)\n",
    "\n",
    "        def min_step(cur_index: int, prev_index: int):\n",
    "            diff = abs(cur_index - prev_index)\n",
    "            return min(diff, n - diff)\n",
    "\n",
    "        char_pos_dict = {}\n",
    "        for index, char in enumerate(ring):\n",
    "            if char in key:\n",
    "                char_pos_dict[char] = char_pos_dict.get(char, []) + [index]\n",
    "        print(char_pos_dict)\n",
    "        min_step_list = [(0, 0)]\n",
    "\n",
    "        for char in key:\n",
    "            new_min_step_list = []\n",
    "            for index in char_pos_dict[char]:\n",
    "                new_min_step_list.append(\n",
    "                    min(\n",
    "                        [\n",
    "                            (num_steps + min_step(index, prev_index), index)\n",
    "                            for num_steps, prev_index in min_step_list\n",
    "                        ]\n",
    "                    )\n",
    "                )\n",
    "            min_step_list = new_min_step_list\n",
    "            print(min_step_list)\n",
    "\n",
    "        return min(min_step_list)[0] + len(key)"
   ]
  },
  {
   "cell_type": "code",
   "execution_count": 17,
   "metadata": {},
   "outputs": [
    {
     "name": "stdout",
     "output_type": "stream",
     "text": [
      "{'g': [0, 6], 'd': [2, 3]}\n",
      "[(0, 0), (1, 6)]\n",
      "[(2, 2), (3, 3)]\n"
     ]
    },
    {
     "data": {
      "text/plain": [
       "4"
      ]
     },
     "execution_count": 17,
     "metadata": {},
     "output_type": "execute_result"
    }
   ],
   "source": [
    "ring = \"godding\"\n",
    "key = \"gd\"\n",
    "Solution().findRotateSteps(ring, key)"
   ]
  },
  {
   "cell_type": "markdown",
   "metadata": {},
   "source": [
    "# Intuition\n",
    "<!-- Describe your first thoughts on how to solve this problem. -->\n",
    "Continuously find the minimum moves to get each position of the char in key. Simply use previous char minimum moves to calculate new minimum moves\n",
    "\n",
    "# Approach\n",
    "<!-- Describe your approach to solving the problem. -->\n",
    "Construct a dict `char_pos_dict` storing the positions in ring of each `char` in `key`. And a list `min_step_list` stores previous minimum moves .\n",
    "Iterate over the key. For each char in key:\n",
    "- Iterate through its positions in `char_pos_dict`, for each position `index`: Find the minimum move to get that position based on previous minimum moves and positions.\n",
    "- Assign new minimum moves to `min_step_list`\n",
    "\n",
    "# Complexity\n",
    "- Time complexity: $O(n)$\n",
    "<!-- Add your time complexity here, e.g. $$O(n)$$ -->\n",
    "\n",
    "- Space complexity: $O(1)$\n",
    "<!-- Add your space complexity here, e.g. $$O(n)$$ -->\n",
    "\n",
    "# Code\n",
    "``` Python []\n",
    "class Solution:\n",
    "    def findRotateSteps(self, ring: str, key: str) -> int:\n",
    "        n = len(ring)\n",
    "\n",
    "        def min_step(cur_index: int, prev_index: int):\n",
    "            diff = abs(cur_index - prev_index)\n",
    "            return min(diff, n - diff)\n",
    "\n",
    "        char_pos_dict = {}\n",
    "        for index, char in enumerate(ring):\n",
    "            if char in key:\n",
    "                char_pos_dict[char] = char_pos_dict.get(char, []) + [index]\n",
    "            \n",
    "        min_step_list = [(0, 0)]\n",
    "        for char in key:\n",
    "            new_min_step_list = []\n",
    "            for index in char_pos_dict[char]:\n",
    "                new_min_step_list.append(\n",
    "                    min(\n",
    "                        [\n",
    "                            (num_steps + min_step(index, prev_index), index)\n",
    "                            for num_steps, prev_index in min_step_list\n",
    "                        ]\n",
    "                    )\n",
    "                )\n",
    "            min_step_list = new_min_step_list\n",
    "\n",
    "        return min(min_step_list)[0] + len(key)\n",
    "```"
   ]
  },
  {
   "cell_type": "code",
   "execution_count": 7,
   "metadata": {},
   "outputs": [
    {
     "data": {
      "text/plain": [
       "2"
      ]
     },
     "execution_count": 7,
     "metadata": {},
     "output_type": "execute_result"
    }
   ],
   "source": [
    "-7 % 9"
   ]
  },
  {
   "cell_type": "code",
   "execution_count": null,
   "metadata": {},
   "outputs": [],
   "source": []
  }
 ],
 "metadata": {
  "kernelspec": {
   "display_name": "base",
   "language": "python",
   "name": "python3"
  },
  "language_info": {
   "codemirror_mode": {
    "name": "ipython",
    "version": 3
   },
   "file_extension": ".py",
   "mimetype": "text/x-python",
   "name": "python",
   "nbconvert_exporter": "python",
   "pygments_lexer": "ipython3",
   "version": "3.8.5"
  }
 },
 "nbformat": 4,
 "nbformat_minor": 2
}
