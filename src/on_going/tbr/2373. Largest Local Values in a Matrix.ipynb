{
 "cells": [
  {
   "cell_type": "code",
   "execution_count": 1,
   "metadata": {},
   "outputs": [],
   "source": [
    "from typing import List, Dict, Optional\n",
    "from collections import deque, Counter\n",
    "from sortedcontainers import SortedList\n",
    "\n",
    "# support for maintaining a list in sorted order\n",
    "# without having to sort the list after each insertion\n",
    "import bisect\n",
    "\n",
    "\n",
    "class Solution:\n",
    "    def largestLocal(self, grid: List[List[int]]) -> List[List[int]]:\n",
    "        def get_largest_value(row_idx: int, col_idx: int):\n",
    "            return max(\n",
    "                [\n",
    "                    max(grid[row_idx + i][col_idx : col_idx + 3])\n",
    "                    for i in range(3)\n",
    "                ]\n",
    "            )\n",
    "\n",
    "        n = len(grid)\n",
    "        for row_idx in range(n - 2):\n",
    "            for col_idx in range(n - 2):\n",
    "                grid[row_idx][col_idx] = get_largest_value(row_idx, col_idx)\n",
    "\n",
    "            grid[row_idx] = grid[row_idx][:-2]\n",
    "\n",
    "        return grid[:-2]\n",
    "\n",
    "    def largestLocal(self, grid: List[List[int]]) -> List[List[int]]:\n",
    "        def get_largest_value(\n",
    "            matrix: List[List[int]], row_idx: int, col_idx: int\n",
    "        ):\n",
    "            return max(\n",
    "                max(matrix[row_idx - 1][col_idx - 1 : col_idx + 1]),\n",
    "                max(matrix[row_idx][col_idx - 1 : col_idx + 1]),\n",
    "            )\n",
    "\n",
    "        n = len(grid)\n",
    "        two_two_matrix = [[0] * (n - 1) for _ in range(n - 1)]\n",
    "        three_three_matrix = [[0] * (n - 2) for _ in range(n - 2)]\n",
    "        for i in range(n - 1):\n",
    "            two_two_matrix[0][i] = get_largest_value(grid, 1, i + 1)\n",
    "            two_two_matrix[i][0] = get_largest_value(grid, i + 1, 1)\n",
    "\n",
    "        for row_idx in range(n - 2):\n",
    "            for col_idx in range(n - 2):\n",
    "                two_two_matrix[row_idx + 1][col_idx + 1] = get_largest_value(\n",
    "                    grid, row_idx + 2, col_idx + 2\n",
    "                )\n",
    "                three_three_matrix[row_idx][col_idx] = get_largest_value(\n",
    "                    two_two_matrix, row_idx + 1, col_idx + 1\n",
    "                )\n",
    "\n",
    "        return three_three_matrix"
   ]
  },
  {
   "cell_type": "code",
   "execution_count": 3,
   "metadata": {},
   "outputs": [
    {
     "data": {
      "text/plain": [
       "[1, 2]"
      ]
     },
     "execution_count": 3,
     "metadata": {},
     "output_type": "execute_result"
    }
   ],
   "source": [
    "[1, 2, 3][:-1]"
   ]
  },
  {
   "cell_type": "code",
   "execution_count": null,
   "metadata": {},
   "outputs": [],
   "source": []
  }
 ],
 "metadata": {
  "kernelspec": {
   "display_name": "base",
   "language": "python",
   "name": "python3"
  },
  "language_info": {
   "codemirror_mode": {
    "name": "ipython",
    "version": 3
   },
   "file_extension": ".py",
   "mimetype": "text/x-python",
   "name": "python",
   "nbconvert_exporter": "python",
   "pygments_lexer": "ipython3",
   "version": "3.8.5"
  }
 },
 "nbformat": 4,
 "nbformat_minor": 2
}
