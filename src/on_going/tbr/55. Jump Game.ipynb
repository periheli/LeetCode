{
 "cells": [
  {
   "cell_type": "code",
   "execution_count": 1,
   "metadata": {},
   "outputs": [],
   "source": [
    "from typing import List"
   ]
  },
  {
   "cell_type": "code",
   "execution_count": null,
   "metadata": {},
   "outputs": [],
   "source": [
    "class Solution:\n",
    "    def canJump(self, nums: List[int]) -> bool:\n",
    "        furthest_index = 0\n",
    "        n = len(nums)\n",
    "        for i, max_jump in enumerate(nums[:-1]):\n",
    "            if max_jump == 0:\n",
    "                if furthest_index == i:\n",
    "                    return False\n",
    "            else:\n",
    "                if max_jump + i > furthest_index:\n",
    "                    furthest_index = max_jump + i\n",
    "            if furthest_index >= n - 1:\n",
    "                return True\n",
    "        return True"
   ]
  }
 ],
 "metadata": {
  "kernelspec": {
   "display_name": "base",
   "language": "python",
   "name": "python3"
  },
  "language_info": {
   "codemirror_mode": {
    "name": "ipython",
    "version": 3
   },
   "file_extension": ".py",
   "mimetype": "text/x-python",
   "name": "python",
   "nbconvert_exporter": "python",
   "pygments_lexer": "ipython3",
   "version": "3.8.5"
  }
 },
 "nbformat": 4,
 "nbformat_minor": 2
}
