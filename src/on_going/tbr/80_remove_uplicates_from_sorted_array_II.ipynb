{
 "cells": [
  {
   "cell_type": "code",
   "execution_count": 2,
   "metadata": {},
   "outputs": [],
   "source": [
    "from typing import List"
   ]
  },
  {
   "cell_type": "code",
   "execution_count": 9,
   "metadata": {},
   "outputs": [],
   "source": [
    "class Solution:\n",
    "    def removeDuplicates(self, nums: List[int]) -> int:\n",
    "        if nums[0] == nums[-1]:\n",
    "            return 2\n",
    "\n",
    "        removed_count = 0\n",
    "        duplicate_count = 0\n",
    "        for i, num in enumerate(nums):\n",
    "            if num == nums[i - 1]:\n",
    "                duplicate_count += 1\n",
    "                if duplicate_count > 1:\n",
    "                    print(\"dup\")\n",
    "                    removed_count += 1\n",
    "                    continue\n",
    "            else:\n",
    "                duplicate_count = 0\n",
    "            if removed_count > 0:\n",
    "                nums[i - removed_count] = num\n",
    "            print(nums)\n",
    "\n",
    "        return len(nums) - removed_count"
   ]
  },
  {
   "cell_type": "code",
   "execution_count": 10,
   "metadata": {},
   "outputs": [
    {
     "name": "stdout",
     "output_type": "stream",
     "text": [
      "[1, 1, 1, 2, 2, 3]\n",
      "[1, 1, 1, 2, 2, 3]\n",
      "dup\n",
      "[1, 1, 2, 2, 2, 3]\n",
      "[1, 1, 2, 2, 2, 3]\n",
      "[1, 1, 2, 2, 3, 3]\n"
     ]
    },
    {
     "data": {
      "text/plain": [
       "5"
      ]
     },
     "execution_count": 10,
     "metadata": {},
     "output_type": "execute_result"
    }
   ],
   "source": [
    "nums = [1, 1, 1, 2, 2, 3]\n",
    "Solution().removeDuplicates(nums)"
   ]
  },
  {
   "cell_type": "code",
   "execution_count": null,
   "metadata": {},
   "outputs": [],
   "source": []
  }
 ],
 "metadata": {
  "kernelspec": {
   "display_name": "base",
   "language": "python",
   "name": "python3"
  },
  "language_info": {
   "codemirror_mode": {
    "name": "ipython",
    "version": 3
   },
   "file_extension": ".py",
   "mimetype": "text/x-python",
   "name": "python",
   "nbconvert_exporter": "python",
   "pygments_lexer": "ipython3",
   "version": "3.8.5"
  }
 },
 "nbformat": 4,
 "nbformat_minor": 2
}
