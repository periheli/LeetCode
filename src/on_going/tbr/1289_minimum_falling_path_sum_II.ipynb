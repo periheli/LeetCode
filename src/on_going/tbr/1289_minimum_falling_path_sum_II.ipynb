{
 "cells": [
  {
   "cell_type": "code",
   "execution_count": 56,
   "metadata": {},
   "outputs": [],
   "source": [
    "from typing import List\n",
    "from sortedcontainers import SortedList\n",
    "import heapq"
   ]
  },
  {
   "cell_type": "code",
   "execution_count": null,
   "metadata": {},
   "outputs": [],
   "source": [
    "from collections import sorted"
   ]
  },
  {
   "cell_type": "code",
   "execution_count": 54,
   "metadata": {},
   "outputs": [],
   "source": [
    "class Solution:\n",
    "    def minFallingPathSum(self, grid: List[List[int]]) -> int:\n",
    "        n = len(grid)\n",
    "        pre_min_sum_list = grid[0]\n",
    "        pre_possible_paths_list = []\n",
    "        for i in range(n):\n",
    "            pre_possible_paths_list.append(set([j for j in range(n) if j != i]))\n",
    "\n",
    "        for row in range(1, n - 1):\n",
    "            cur_col_min_sum = []\n",
    "            cur_possible_paths_list = []\n",
    "            print(pre_min_sum_list)\n",
    "            print(pre_possible_paths_list)\n",
    "            for col in range(n):\n",
    "                possible_paths = pre_possible_paths_list[col]\n",
    "\n",
    "                min_path = min(\n",
    "                    [(path, pre_min_sum_list[path]) for path in possible_paths],\n",
    "                    key=lambda x: x[1],\n",
    "                )\n",
    "                possible_paths.remove(min_path[0])\n",
    "                cur_col_min_sum.append(min_path[1] + grid[row][col])\n",
    "                cur_possible_paths_list.append(possible_paths)\n",
    "            pre_min_sum_list = cur_col_min_sum\n",
    "            pre_possible_paths_list = cur_possible_paths_list\n",
    "\n",
    "        print(pre_min_sum_list)\n",
    "        print(pre_possible_paths_list)\n",
    "\n",
    "        return pre_min_sum_list\n",
    "\n",
    "    def minFallingPathSum(self, grid: List[List[int]]) -> int:\n",
    "        def find_3_mins(num_list: List[int]):\n",
    "            three_mins = SortedList(\n",
    "                [(num, i) for i, num in enumerate(num_list[:3])]\n",
    "            )\n",
    "\n",
    "            for i, num in enumerate(num_list[3:]):\n",
    "                if num < three_mins[2][0]:\n",
    "                    three_mins.add((num, i + 3))\n",
    "                    three_mins.pop()\n",
    "\n",
    "            return three_mins\n",
    "\n",
    "        n = len(grid)\n",
    "        if n == 1:\n",
    "            return grid[0][0]\n",
    "        if n == 2:\n",
    "            return min(grid[0][0] + grid[1][1], grid[0][1] + grid[1][0])\n",
    "\n",
    "        pre_two_mins = find_3_mins(grid[0])[:2]\n",
    "\n",
    "        for row in grid[1:-1]:\n",
    "            three_mins = find_3_mins(row)\n",
    "            print(pre_two_mins)\n",
    "            print(three_mins)\n",
    "            cur_two_mins = []\n",
    "            if pre_two_mins[0][1] != three_mins[0][1]:\n",
    "                cur_two_mins.append(\n",
    "                    (pre_two_mins[0][0] + three_mins[0][0], three_mins[0][1])\n",
    "                )\n",
    "                if pre_two_mins[0][1] != three_mins[1][1]:\n",
    "                    cur_two_mins.append(\n",
    "                        (\n",
    "                            pre_two_mins[0][0] + three_mins[1][0],\n",
    "                            three_mins[1][1],\n",
    "                        )\n",
    "                    )\n",
    "                else:\n",
    "                    cur_two_mins.append(\n",
    "                        min(\n",
    "                            (\n",
    "                                pre_two_mins[1][0] + three_mins[1][0],\n",
    "                                three_mins[1][1],\n",
    "                            ),\n",
    "                            (\n",
    "                                pre_two_mins[0][0] + three_mins[2][0],\n",
    "                                three_mins[2][1],\n",
    "                            ),\n",
    "                        )\n",
    "                    )\n",
    "            else:\n",
    "                cur_two_mins.extend(\n",
    "                    SortedList(\n",
    "                        [\n",
    "                            (\n",
    "                                pre_two_mins[1][0] + three_mins[0][0],\n",
    "                                three_mins[0][1],\n",
    "                            ),\n",
    "                            (\n",
    "                                pre_two_mins[0][0] + three_mins[1][0],\n",
    "                                three_mins[1][1],\n",
    "                            ),\n",
    "                            (\n",
    "                                pre_two_mins[0][0] + three_mins[2][0],\n",
    "                                three_mins[2][1],\n",
    "                            ),\n",
    "                        ]\n",
    "                    )[:2]\n",
    "                )\n",
    "\n",
    "            pre_two_mins = cur_two_mins\n",
    "\n",
    "        last_three_mins = find_3_mins(grid[-1])\n",
    "        print(pre_two_mins)\n",
    "        print(last_three_mins)\n",
    "\n",
    "        if pre_two_mins[0][1] != last_three_mins[0][1]:\n",
    "            return pre_two_mins[0][0] + last_three_mins[0][0]\n",
    "        else:\n",
    "            return min(\n",
    "                pre_two_mins[1][0] + last_three_mins[0][0],\n",
    "                pre_two_mins[0][0] + last_three_mins[1][0],\n",
    "            )\n",
    "\n",
    "    def minFallingPathSum(self, grid: List[List[int]]) -> int:\n",
    "        # DP\n",
    "        for i in range(1, len(grid)):\n",
    "            r = heapq.nsmallest(2, grid[i - 1])\n",
    "            for j in range(len(grid[0])):\n",
    "                grid[i][j] += r[1] if grid[i - 1][j] == r[0] else r[0]\n",
    "        return min(grid[-1])"
   ]
  },
  {
   "cell_type": "code",
   "execution_count": 52,
   "metadata": {},
   "outputs": [
    {
     "name": "stdout",
     "output_type": "stream",
     "text": [
      "[(1, 0), (2, 1)]\n",
      "SortedList([(4, 0), (5, 1), (6, 2)])\n",
      "[(6, 0), (6, 1)]\n",
      "SortedList([(7, 0), (8, 1), (9, 2)])\n"
     ]
    },
    {
     "data": {
      "text/plain": [
       "13"
      ]
     },
     "execution_count": 52,
     "metadata": {},
     "output_type": "execute_result"
    }
   ],
   "source": [
    "grid = [[1, 2, 3], [4, 5, 6], [7, 8, 9]]\n",
    "Solution().minFallingPathSum(grid)"
   ]
  },
  {
   "cell_type": "markdown",
   "metadata": {},
   "source": [
    "# [Python3] O(nn) time and O(1) space without modifying the original matrix\n",
    "\n",
    "# Intuition\n",
    "<!-- Describe your first thoughts on how to solve this problem. -->\n",
    "Continuously find the minimum and the second minimum of each row. Simply use these minimum values without calculating the path for every single cell to save space.\n",
    "\n",
    "# Approach\n",
    "<!-- Describe your approach to solving the problem. -->\n",
    "Iterate over the grid row by row. At each row:\n",
    "- Find the three minimum values of the current row and their indices.\n",
    "- Calculate the current row minimum and second minimum based on the previous two minimums and the current three minimums.\n",
    "\n",
    "# Complexity\n",
    "- Time complexity: $O(n*n)$\n",
    "<!-- Add your time complexity here, e.g. $$O(n)$$ -->\n",
    "\n",
    "- Space complexity: $O(1)$\n",
    "<!-- Add your space complexity here, e.g. $$O(n)$$ -->\n",
    "\n",
    "# Code\n",
    "``` Python []\n",
    "\n",
    "from sortedcontainers import SortedList\n",
    "\n",
    "\n",
    "class Solution:\n",
    "\n",
    "    def minFallingPathSum(self, grid: List[List[int]]) -> int:\n",
    "        def find_3_mins(num_list: List[int]):\n",
    "            three_mins = SortedList([(num, i) for i, num in enumerate(num_list[:3])])\n",
    "\n",
    "            for i, num in enumerate(num_list[3:]):\n",
    "                if num < three_mins[2][0]:\n",
    "                    three_mins.add((num, i + 3))\n",
    "                    three_mins.pop()\n",
    "\n",
    "            return three_mins\n",
    "\n",
    "        n = len(grid)\n",
    "        if n == 1:\n",
    "            return grid[0][0]\n",
    "        if n == 2:\n",
    "            return min(grid[0][0] + grid[1][1], grid[0][1] + grid[1][0])\n",
    "\n",
    "        pre_two_mins = find_3_mins(grid[0])[:2]\n",
    "\n",
    "        for row in grid[1:-1]:\n",
    "            three_mins = find_3_mins(row)\n",
    "            cur_two_mins = []\n",
    "            if pre_two_mins[0][1] != three_mins[0][1]:\n",
    "                cur_two_mins.append(\n",
    "                    (pre_two_mins[0][0] + three_mins[0][0], three_mins[0][1])\n",
    "                )\n",
    "                if pre_two_mins[0][1] != three_mins[1][1]:\n",
    "                    cur_two_mins.append(\n",
    "                        (pre_two_mins[0][0] + three_mins[1][0], three_mins[1][1])\n",
    "                    )\n",
    "                else:\n",
    "                    cur_two_mins.append(\n",
    "                        min(\n",
    "                            (pre_two_mins[1][0] + three_mins[1][0], three_mins[1][1]),\n",
    "                            (pre_two_mins[0][0] + three_mins[2][0], three_mins[2][1]),\n",
    "                        )\n",
    "                    )\n",
    "            else:\n",
    "                cur_two_mins.extend(\n",
    "                    SortedList(\n",
    "                        [\n",
    "                            (pre_two_mins[1][0] + three_mins[0][0], three_mins[0][1]),\n",
    "                            (pre_two_mins[0][0] + three_mins[1][0], three_mins[1][1]),\n",
    "                            (pre_two_mins[0][0] + three_mins[2][0], three_mins[2][1]),\n",
    "                        ]\n",
    "                    )[:2]\n",
    "                )\n",
    "\n",
    "            pre_two_mins = cur_two_mins\n",
    "\n",
    "        last_three_mins = find_3_mins(grid[-1])\n",
    "        if pre_two_mins[0][1] != last_three_mins[0][1]:\n",
    "            return pre_two_mins[0][0] + last_three_mins[0][0]\n",
    "        else:\n",
    "            return min(\n",
    "                pre_two_mins[1][0] + last_three_mins[0][0],\n",
    "                pre_two_mins[0][0] + last_three_mins[1][0],\n",
    "            )\n",
    "```"
   ]
  },
  {
   "cell_type": "code",
   "execution_count": 55,
   "metadata": {},
   "outputs": [
    {
     "name": "stdout",
     "output_type": "stream",
     "text": [
      "[(1, 0), (99, 1)]\n",
      "SortedList([(0, 0), (1, 2), (2, 1)])\n",
      "[(2, 2), (3, 1)]\n",
      "SortedList([(4, 2), (99, 0), (99, 1)])\n"
     ]
    },
    {
     "data": {
      "text/plain": [
       "7"
      ]
     },
     "execution_count": 55,
     "metadata": {},
     "output_type": "execute_result"
    }
   ],
   "source": [
    "grid = [[1, 99, 99], [0, 2, 1], [99, 99, 4]]\n",
    "Solution().minFallingPathSum(grid)"
   ]
  },
  {
   "cell_type": "code",
   "execution_count": 15,
   "metadata": {},
   "outputs": [
    {
     "data": {
      "text/plain": [
       "[{1, 2, 3}, {0, 2, 3}, {0, 1, 3}, {0, 1, 2}]"
      ]
     },
     "execution_count": 15,
     "metadata": {},
     "output_type": "execute_result"
    }
   ],
   "source": [
    "n = 4\n",
    "pre_possible_paths_list = []\n",
    "for i in range(n):\n",
    "    pre_possible_paths_list.append(set([j for j in range(n) if j != i]))\n",
    "\n",
    "pre_possible_paths_list"
   ]
  },
  {
   "cell_type": "code",
   "execution_count": 23,
   "metadata": {},
   "outputs": [],
   "source": [
    "from sortedcontainers import SortedList"
   ]
  },
  {
   "cell_type": "code",
   "execution_count": 43,
   "metadata": {},
   "outputs": [],
   "source": [
    "def find_3_mins(num_list: List[int]):\n",
    "    three_mins = SortedList([(num, i) for i, num in enumerate(num_list[:3])])\n",
    "\n",
    "    for i, num in enumerate(num_list[3:]):\n",
    "        if num < three_mins[2][0]:\n",
    "            three_mins.add((num, i + 3))\n",
    "            three_mins.pop()\n",
    "\n",
    "    return three_mins"
   ]
  },
  {
   "cell_type": "code",
   "execution_count": 30,
   "metadata": {},
   "outputs": [],
   "source": [
    "sorted_list = SortedList([(2, 4), (2, 2), (1, 3)])"
   ]
  },
  {
   "cell_type": "code",
   "execution_count": 31,
   "metadata": {},
   "outputs": [
    {
     "data": {
      "text/plain": [
       "SortedList([(1, 3), (2, 2), (2, 4)])"
      ]
     },
     "execution_count": 31,
     "metadata": {},
     "output_type": "execute_result"
    }
   ],
   "source": [
    "sorted_list"
   ]
  },
  {
   "cell_type": "code",
   "execution_count": 35,
   "metadata": {},
   "outputs": [
    {
     "data": {
      "text/plain": [
       "(2, 4)"
      ]
     },
     "execution_count": 35,
     "metadata": {},
     "output_type": "execute_result"
    }
   ],
   "source": [
    "sorted_list.pop()"
   ]
  },
  {
   "cell_type": "code",
   "execution_count": 46,
   "metadata": {},
   "outputs": [
    {
     "data": {
      "text/plain": [
       "SortedList([(3, 2), (5, 4), (7, 1)])"
      ]
     },
     "execution_count": 46,
     "metadata": {},
     "output_type": "execute_result"
    }
   ],
   "source": [
    "find_3_mins([12, 7, 3, 12, 5, 12, 7, 8, 9])"
   ]
  },
  {
   "cell_type": "code",
   "execution_count": null,
   "metadata": {},
   "outputs": [],
   "source": []
  }
 ],
 "metadata": {
  "kernelspec": {
   "display_name": "base",
   "language": "python",
   "name": "python3"
  },
  "language_info": {
   "codemirror_mode": {
    "name": "ipython",
    "version": 3
   },
   "file_extension": ".py",
   "mimetype": "text/x-python",
   "name": "python",
   "nbconvert_exporter": "python",
   "pygments_lexer": "ipython3",
   "version": "3.8.5"
  }
 },
 "nbformat": 4,
 "nbformat_minor": 2
}
