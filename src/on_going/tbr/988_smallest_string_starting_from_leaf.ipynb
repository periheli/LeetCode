{
 "cells": [
  {
   "cell_type": "code",
   "execution_count": 1,
   "metadata": {},
   "outputs": [],
   "source": [
    "from typing import Optional\n",
    "from collections import deque"
   ]
  },
  {
   "cell_type": "code",
   "execution_count": null,
   "metadata": {},
   "outputs": [],
   "source": [
    "# Definition for a binary tree node.\n",
    "class TreeNode:\n",
    "    def __init__(self, val=0, left=None, right=None):\n",
    "        self.val = val\n",
    "        self.left = left\n",
    "        self.right = right\n",
    "\n",
    "\n",
    "class Solution:\n",
    "    def smallestFromLeaf(self, root: Optional[TreeNode]) -> str:\n",
    "        def int_to_char(i: int):\n",
    "            return chr(97 + i)\n",
    "\n",
    "        cur_node = root\n",
    "        cur_str = \"\"\n",
    "        smallest_str = int_to_char(26)\n",
    "        stack = deque()\n",
    "\n",
    "        while True:\n",
    "            cur_str = int_to_char(cur_node.val) + cur_str\n",
    "            if cur_node.left is not None:\n",
    "                if cur_node.right is not None:\n",
    "                    stack.append((cur_node.right, cur_str))\n",
    "                cur_node = cur_node.left\n",
    "            elif cur_node.right is not None:\n",
    "                cur_node = cur_node.right\n",
    "            else:\n",
    "                if smallest_str > cur_str:\n",
    "                    smallest_str = cur_str\n",
    "                if len(stack) > 0:\n",
    "                    cur_node, cur_str = stack.pop()\n",
    "                else:\n",
    "                    return smallest_str"
   ]
  },
  {
   "cell_type": "code",
   "execution_count": 13,
   "metadata": {},
   "outputs": [
    {
     "data": {
      "text/plain": [
       "'ab'"
      ]
     },
     "execution_count": 13,
     "metadata": {},
     "output_type": "execute_result"
    }
   ],
   "source": [
    "str(chr(97 + 1) + chr(96 + 2))"
   ]
  },
  {
   "cell_type": "code",
   "execution_count": 23,
   "metadata": {},
   "outputs": [
    {
     "data": {
      "text/plain": [
       "False"
      ]
     },
     "execution_count": 23,
     "metadata": {},
     "output_type": "execute_result"
    }
   ],
   "source": [
    "chr(96 + 26) < \"z\""
   ]
  },
  {
   "cell_type": "code",
   "execution_count": 25,
   "metadata": {},
   "outputs": [
    {
     "data": {
      "text/plain": [
       "'{'"
      ]
     },
     "execution_count": 25,
     "metadata": {},
     "output_type": "execute_result"
    }
   ],
   "source": [
    "chr(97 + 26)"
   ]
  },
  {
   "cell_type": "code",
   "execution_count": null,
   "metadata": {},
   "outputs": [],
   "source": []
  }
 ],
 "metadata": {
  "kernelspec": {
   "display_name": "base",
   "language": "python",
   "name": "python3"
  },
  "language_info": {
   "codemirror_mode": {
    "name": "ipython",
    "version": 3
   },
   "file_extension": ".py",
   "mimetype": "text/x-python",
   "name": "python",
   "nbconvert_exporter": "python",
   "pygments_lexer": "ipython3",
   "version": "3.8.5"
  }
 },
 "nbformat": 4,
 "nbformat_minor": 2
}
