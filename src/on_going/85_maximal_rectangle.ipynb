{
 "cells": [
  {
   "cell_type": "code",
   "execution_count": 17,
   "metadata": {},
   "outputs": [],
   "source": [
    "from typing import List"
   ]
  },
  {
   "cell_type": "code",
   "execution_count": 44,
   "metadata": {},
   "outputs": [],
   "source": [
    "class Solution:\n",
    "    def is_2x2_square(self, matrix: List[List[str]], i: int, j: int):\n",
    "        return \"1\" == matrix[i + 1][j] == matrix[i][j + 1] == matrix[i + 1][j + 1]\n",
    "\n",
    "    def scan_matrix(self, matrix: List[List[str]]):\n",
    "        num_rows = len(matrix)\n",
    "        num_cols = len(matrix[0])\n",
    "        max_rectangle = (0, 0)\n",
    "\n",
    "        num_ones = 0\n",
    "        for i in range(num_rows):\n",
    "            max_len = 0\n",
    "            prev_len = 0\n",
    "            for j in range(num_cols):\n",
    "                if matrix[i][j] == \"1\":\n",
    "                    num_ones += 1\n",
    "                    prev_len += 1\n",
    "                    max_len = max(prev_len, max_len)\n",
    "                else:\n",
    "                    prev_len = 0\n",
    "\n",
    "            if max_len > max_rectangle[1]:\n",
    "                max_rectangle = (1, max_len)\n",
    "\n",
    "        if num_ones == num_rows * num_cols:\n",
    "            return (num_rows, num_cols), None\n",
    "\n",
    "        for i in range(num_cols):\n",
    "            max_len = 0\n",
    "            prev_len = 0\n",
    "            for j in range(num_rows):\n",
    "                if matrix[j][i] == \"1\":\n",
    "                    prev_len += 1\n",
    "                    max_len = max(prev_len, max_len)\n",
    "                else:\n",
    "                    prev_len = 0\n",
    "\n",
    "            if max_len > max_rectangle[1]:\n",
    "                max_rectangle = (1, max_len)\n",
    "\n",
    "        min_i = num_rows\n",
    "        min_j = num_cols\n",
    "        max_i = max_j = -1\n",
    "        for i in range(num_rows - 1):\n",
    "            for j in range(num_cols - 1):\n",
    "                if matrix[i][j] == \"1\":\n",
    "                    if self.is_2x2_square(matrix, i, j):\n",
    "                        min_i = min(min_i, i)\n",
    "                        max_i = max(max_i, i)\n",
    "                        min_j = min(min_j, j)\n",
    "                        max_j = max(max_j, j)\n",
    "                    else:\n",
    "                        matrix[i][j] = \"0\"\n",
    "        if max_i == -1:\n",
    "            return max_rectangle, None\n",
    "\n",
    "        print(min_i, min_j, max_i, max_j)\n",
    "\n",
    "        if max_rectangle[1] < 4:\n",
    "            max_rectangle = (2, 2)\n",
    "\n",
    "        if (max_rectangle[0] * max_rectangle[1]) >= (\n",
    "            (max_i - min_i + 2) * (max_j - min_j + 2)\n",
    "        ):\n",
    "            return max_rectangle, None\n",
    "\n",
    "        new_matrix = [\n",
    "            [cell for cell in row[min_j : max_j + 1]]\n",
    "            for row in matrix[min_i : max_i + 1]\n",
    "        ]\n",
    "        return max_rectangle, new_matrix\n",
    "\n",
    "    def maximalRectangle(self, matrix: List[List[str]]) -> int:\n",
    "        depth = 0\n",
    "        max_rectangle, matrix = self.scan_matrix(matrix)\n",
    "        max_area = (max_rectangle[0] + depth) * (max_rectangle[1] + depth)\n",
    "        print(max_rectangle, max_area)\n",
    "        print(matrix)\n",
    "\n",
    "        while matrix is not None:\n",
    "            depth += 1\n",
    "            max_rectangle, matrix = self.scan_matrix(matrix)\n",
    "            cur_max_area = (max_rectangle[0] + depth) * (max_rectangle[1] + depth)\n",
    "            max_area = max(max_area, cur_max_area)\n",
    "            print(max_rectangle, cur_max_area)\n",
    "            print(matrix)\n",
    "\n",
    "        return max_area"
   ]
  },
  {
   "cell_type": "code",
   "execution_count": 45,
   "metadata": {},
   "outputs": [
    {
     "data": {
      "text/plain": [
       "[['1', '0', '1', '0', '0'],\n",
       " ['1', '0', '1', '1', '1'],\n",
       " ['1', '1', '1', '1', '1'],\n",
       " ['1', '0', '0', '1', '0']]"
      ]
     },
     "execution_count": 45,
     "metadata": {},
     "output_type": "execute_result"
    }
   ],
   "source": [
    "matrix = [\n",
    "    [\"1\", \"0\", \"1\", \"0\", \"0\"],\n",
    "    [\"1\", \"0\", \"1\", \"1\", \"1\"],\n",
    "    [\"1\", \"1\", \"1\", \"1\", \"1\"],\n",
    "    [\"1\", \"0\", \"0\", \"1\", \"0\"],\n",
    "]\n",
    "matrix"
   ]
  },
  {
   "cell_type": "code",
   "execution_count": 46,
   "metadata": {},
   "outputs": [
    {
     "name": "stdout",
     "output_type": "stream",
     "text": [
      "1 2 1 3\n",
      "(1, 5) 5\n",
      "[['1', '1']]\n",
      "(1, 2) 6\n",
      "None\n"
     ]
    },
    {
     "data": {
      "text/plain": [
       "6"
      ]
     },
     "execution_count": 46,
     "metadata": {},
     "output_type": "execute_result"
    }
   ],
   "source": [
    "Solution().maximalRectangle(matrix)"
   ]
  },
  {
   "cell_type": "code",
   "execution_count": null,
   "metadata": {},
   "outputs": [],
   "source": [
    "matrix = [\n",
    "    [\"1\", \"1\", \"1\", \"0\", \"0\"],\n",
    "    [\"1\", \"1\", \"1\", \"1\", \"1\"],\n",
    "    [\"1\", \"1\", \"1\", \"1\", \"1\"],\n",
    "    [\"1\", \"1\", \"1\", \"1\", \"0\"],\n",
    "]\n",
    "Solution().maximalRectangle(matrix)"
   ]
  },
  {
   "cell_type": "code",
   "execution_count": 15,
   "metadata": {},
   "outputs": [
    {
     "data": {
      "text/plain": [
       "[]"
      ]
     },
     "execution_count": 15,
     "metadata": {},
     "output_type": "execute_result"
    }
   ],
   "source": [
    "matrix[1:1]"
   ]
  },
  {
   "cell_type": "code",
   "execution_count": null,
   "metadata": {},
   "outputs": [],
   "source": []
  }
 ],
 "metadata": {
  "kernelspec": {
   "display_name": "base",
   "language": "python",
   "name": "python3"
  },
  "language_info": {
   "codemirror_mode": {
    "name": "ipython",
    "version": 3
   },
   "file_extension": ".py",
   "mimetype": "text/x-python",
   "name": "python",
   "nbconvert_exporter": "python",
   "pygments_lexer": "ipython3",
   "version": "3.8.5"
  }
 },
 "nbformat": 4,
 "nbformat_minor": 2
}
