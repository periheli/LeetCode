{
 "cells": [
  {
   "cell_type": "code",
   "execution_count": 1,
   "metadata": {},
   "outputs": [],
   "source": [
    "from typing import List, Dict, Optional\n",
    "from collections import deque\n",
    "from sortedcontainers import SortedList\n",
    "\n",
    "# support for maintaining a list in sorted order\n",
    "# without having to sort the list after each insertion\n",
    "import bisect\n",
    "\n",
    "\n",
    "# Definition for singly-linked list.\n",
    "class ListNode:\n",
    "    def __init__(self, val=0, next=None):\n",
    "        self.val = val\n",
    "        self.next = next\n",
    "\n",
    "\n",
    "class Solution:\n",
    "    def doubleIt(self, head: Optional[ListNode]) -> Optional[ListNode]:\n",
    "        def double_it_helper(node: ListNode):\n",
    "            if node.next is None:\n",
    "                return node\n",
    "            next_val = node.next.val\n",
    "            if next_val >= 5:\n",
    "                node.val += 1\n",
    "                node.next.val = (next_val - 5) * 2\n",
    "            else:\n",
    "                node.next.val = next_val * 2\n",
    "            node.next = double_it_helper(node.next)\n",
    "            return node\n",
    "\n",
    "        if head.val >= 5:\n",
    "            head.val = (head.val - 5) * 2\n",
    "            return ListNode(1, double_it_helper(head))\n",
    "        else:\n",
    "            head.val = head.val * 2\n",
    "            return double_it_helper(head)"
   ]
  },
  {
   "cell_type": "code",
   "execution_count": null,
   "metadata": {},
   "outputs": [],
   "source": []
  }
 ],
 "metadata": {
  "kernelspec": {
   "display_name": "base",
   "language": "python",
   "name": "python3"
  },
  "language_info": {
   "codemirror_mode": {
    "name": "ipython",
    "version": 3
   },
   "file_extension": ".py",
   "mimetype": "text/x-python",
   "name": "python",
   "nbconvert_exporter": "python",
   "pygments_lexer": "ipython3",
   "version": "3.8.5"
  }
 },
 "nbformat": 4,
 "nbformat_minor": 2
}
