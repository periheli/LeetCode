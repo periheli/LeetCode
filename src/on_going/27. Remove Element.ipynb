{
 "cells": [
  {
   "cell_type": "code",
   "execution_count": 1,
   "metadata": {},
   "outputs": [],
   "source": [
    "from typing import List"
   ]
  },
  {
   "cell_type": "code",
   "execution_count": null,
   "metadata": {},
   "outputs": [],
   "source": [
    "class Solution:\n",
    "    def removeElement(self, nums: List[int], val: int) -> int:\n",
    "        if len(nums) == 0:\n",
    "            return 0\n",
    "\n",
    "        left_pointer = 0\n",
    "        right_pointer = len(nums) - 1\n",
    "\n",
    "        for _ in range(right_pointer):\n",
    "            if nums[right_pointer] == val:\n",
    "                right_pointer -= 1\n",
    "            else:\n",
    "                if nums[left_pointer] == val:\n",
    "                    nums[left_pointer], nums[right_pointer] = (\n",
    "                        nums[right_pointer],\n",
    "                        nums[left_pointer],\n",
    "                    )\n",
    "                left_pointer += 1\n",
    "\n",
    "        if nums[left_pointer] == val:\n",
    "            left_pointer -= 1\n",
    "\n",
    "        return left_pointer + 1"
   ]
  }
 ],
 "metadata": {
  "kernelspec": {
   "display_name": "base",
   "language": "python",
   "name": "python3"
  },
  "language_info": {
   "codemirror_mode": {
    "name": "ipython",
    "version": 3
   },
   "file_extension": ".py",
   "mimetype": "text/x-python",
   "name": "python",
   "nbconvert_exporter": "python",
   "pygments_lexer": "ipython3",
   "version": "3.8.5"
  }
 },
 "nbformat": 4,
 "nbformat_minor": 2
}
