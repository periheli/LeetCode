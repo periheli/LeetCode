{
 "cells": [
  {
   "cell_type": "code",
   "execution_count": 4,
   "metadata": {},
   "outputs": [],
   "source": [
    "from typing import List, Dict, Optional\n",
    "from collections import deque, Counter\n",
    "from sortedcontainers import SortedList\n",
    "\n",
    "# support for maintaining a list in sorted order\n",
    "# without having to sort the list after each insertion\n",
    "import bisect\n",
    "from heapq import heappop, heappush\n",
    "\n",
    "\n",
    "class Solution:\n",
    "    def matrixScore(self, grid: List[List[int]]) -> int:\n",
    "        n = len(grid[0])\n",
    "        m = len(grid)\n",
    "        # if n == 1:\n",
    "        #     return m\n",
    "        \n",
    "        bit_count = [0] * n\n",
    "        for bit_list in grid:\n",
    "            bit_count[0] += 1\n",
    "            if bit_list[0] == 0:\n",
    "                rotate = True\n",
    "            else:\n",
    "                rotate = False\n",
    "            for i, bit in enumerate(bit_list[1:]):\n",
    "                if rotate:\n",
    "                    if bit == 0:\n",
    "                        bit_count[i+1]+= 1\n",
    "                else:\n",
    "                    if bit == 1:\n",
    "                        bit_count[i+1]+=1\n",
    "        print(bit_count)          \n",
    "        max_score = 0\n",
    "        for count in bit_count:\n",
    "            max_score = max_score*2 + max(count, m-count)\n",
    "            \n",
    "        return max_score"
   ]
  },
  {
   "cell_type": "code",
   "execution_count": 5,
   "metadata": {},
   "outputs": [
    {
     "name": "stdout",
     "output_type": "stream",
     "text": [
      "[3, 2, 1, 0]\n"
     ]
    },
    {
     "data": {
      "text/plain": [
       "39"
      ]
     },
     "execution_count": 5,
     "metadata": {},
     "output_type": "execute_result"
    }
   ],
   "source": [
    "grid = [[0,0,1,1],[1,0,1,0],[1,1,0,0]]\n",
    "Solution().matrixScore(grid)"
   ]
  },
  {
   "cell_type": "code",
   "execution_count": null,
   "metadata": {},
   "outputs": [],
   "source": []
  }
 ],
 "metadata": {
  "kernelspec": {
   "display_name": "base",
   "language": "python",
   "name": "python3"
  },
  "language_info": {
   "codemirror_mode": {
    "name": "ipython",
    "version": 3
   },
   "file_extension": ".py",
   "mimetype": "text/x-python",
   "name": "python",
   "nbconvert_exporter": "python",
   "pygments_lexer": "ipython3",
   "version": "3.10.12"
  }
 },
 "nbformat": 4,
 "nbformat_minor": 2
}
