{
 "cells": [
  {
   "cell_type": "code",
   "execution_count": 1,
   "metadata": {},
   "outputs": [],
   "source": [
    "from typing import List, Dict, Optional, Set, Tuple\n",
    "from collections import deque, Counter\n",
    "from sortedcontainers import SortedList\n",
    "\n",
    "# support for maintaining a list in sorted order\n",
    "# without having to sort the list after each insertion\n",
    "import bisect\n",
    "from heapq import heappop, heappush\n",
    "\n",
    "\n",
    "class Solution:\n",
    "    def subsetXORSum(self, nums: List[int]) -> int:\n",
    "        # https://leetcode.com/problems/sum-of-all-subset-xor-totals/submissions/1263165992/\n",
    "        \"\"\"\n",
    "        an efficient approach: find bitwise OR of array. ith bit contribution to to xor sum is 2**(n-1).\n",
    "        The result is 2**(n-1) * bitORSum\n",
    "\n",
    "        Explanation:\n",
    "\n",
    "        consider ith bit for the final result. If there is no element whose ith bit is 1, then all xor subset\n",
    "        sums has 0 in ith bit; if there are k (k>=1) elements whose ith bits are 1, then there are in total\n",
    "        comb(k, 1) + comb(k,3) + .. = 2**(k-1) ways to select odd number our of these k elements to make the subset\n",
    "        xor sum's ith bit to be 1, and there are 2**(n-k) ways to choose from the remaining elements whose ith bits\n",
    "        are 0s. Therefore, we have in total 2**(k-1) * 2**(n-k) = 2**(n-1) subsets whose xor sums have 1 in their\n",
    "        ith bit, which means the contribution to the final sum is 2**(n-1) * 2**i. Notice this result is irrelevant\n",
    "        to k.\n",
    "\n",
    "        So we only need to determine whether there is any element whose ith bit is 1. We use bitwise OR sum to do this.\n",
    "\n",
    "        Time complexity: O(n), Space: O(1)\n",
    "        \"\"\"\n",
    "        res = 0\n",
    "        for num in nums:\n",
    "            res |= num\n",
    "\n",
    "        return res << (len(nums) - 1)"
   ]
  },
  {
   "cell_type": "code",
   "execution_count": 2,
   "metadata": {},
   "outputs": [
    {
     "data": {
      "text/plain": [
       "<itertools.accumulate at 0x2ed46c83180>"
      ]
     },
     "execution_count": 2,
     "metadata": {},
     "output_type": "execute_result"
    }
   ],
   "source": [
    "from itertools import accumulate\n",
    "\n",
    "a = [1, 2, 3, 4]\n",
    "accumulate(a, lambda x, y: x * y)"
   ]
  },
  {
   "cell_type": "code",
   "execution_count": 3,
   "metadata": {},
   "outputs": [
    {
     "data": {
      "text/plain": [
       "2"
      ]
     },
     "execution_count": 3,
     "metadata": {},
     "output_type": "execute_result"
    }
   ],
   "source": [
    "1 << 1"
   ]
  },
  {
   "cell_type": "code",
   "execution_count": null,
   "metadata": {},
   "outputs": [],
   "source": []
  }
 ],
 "metadata": {
  "kernelspec": {
   "display_name": "base",
   "language": "python",
   "name": "python3"
  },
  "language_info": {
   "codemirror_mode": {
    "name": "ipython",
    "version": 3
   },
   "file_extension": ".py",
   "mimetype": "text/x-python",
   "name": "python",
   "nbconvert_exporter": "python",
   "pygments_lexer": "ipython3",
   "version": "3.8.5"
  }
 },
 "nbformat": 4,
 "nbformat_minor": 2
}
