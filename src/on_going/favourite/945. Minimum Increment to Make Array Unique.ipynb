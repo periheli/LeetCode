{
 "cells": [
  {
   "cell_type": "code",
   "execution_count": 1,
   "metadata": {},
   "outputs": [],
   "source": [
    "from typing import List, Dict, Optional, Set, Tuple\n",
    "from collections import deque, Counter\n",
    "from sortedcontainers import SortedList\n",
    "import random\n",
    "\n",
    "# support for maintaining a list in sorted order\n",
    "# without having to sort the list after each insertion\n",
    "import bisect\n",
    "from heapq import (\n",
    "    heappop,\n",
    "    heappush,\n",
    "    heapify,\n",
    "    heapreplace,\n",
    ")\n",
    "\n",
    "\n",
    "class Solution:\n",
    "    def minIncrementForUnique(self, nums: List[int]) -> int:\n",
    "        n = len(nums)\n",
    "        if n == 1:\n",
    "            return 0\n",
    "        nums.sort()\n",
    "        res = 0\n",
    "        for i in range(1, n):\n",
    "            if nums[i] <= nums[i - 1]:\n",
    "                res += nums[i - 1] + 1 - nums[i]\n",
    "                nums[i] = nums[i - 1] + 1\n",
    "        return res\n",
    "\n",
    "    def minIncrementForUnique11(self, nums: List[int]) -> int:\n",
    "        n = len(nums)\n",
    "        if n == 1:\n",
    "            return 0\n",
    "        nums.sort()\n",
    "        res = 0\n",
    "        prev_num = -1\n",
    "        for num in nums:\n",
    "            prev_num = max(num, prev_num + 1)\n",
    "            res += prev_num - num\n",
    "        return res\n",
    "\n",
    "    def minIncrementForUnique2(self, nums: List[int]) -> int:\n",
    "        n = len(nums)\n",
    "        if n == 1:\n",
    "            return 0\n",
    "        counter = [0] * (max(nums) + 1)\n",
    "        for num in nums:\n",
    "            counter[num] += 1\n",
    "\n",
    "        res = 0\n",
    "        for i in range(len(counter) - 1):\n",
    "            if counter[i] > 1:\n",
    "                counter[i + 1] += counter[i] - 1\n",
    "                res += counter[i] - 1\n",
    "        res += counter[-1] * (counter[-1] - 1) // 2\n",
    "        return res\n",
    "\n",
    "    def minIncrementForUnique3(self, nums: List[int]) -> int:\n",
    "        # Union Find\n",
    "\n",
    "        parents = {}\n",
    "\n",
    "        def find(num: int):\n",
    "            if num in parents:\n",
    "                parents[num] = find(parents[num] + 1)\n",
    "            else:\n",
    "                parents[num] = num\n",
    "            return parents[num]\n",
    "\n",
    "        return sum(find(num) - num for num in nums)"
   ]
  },
  {
   "cell_type": "code",
   "execution_count": null,
   "metadata": {},
   "outputs": [],
   "source": []
  },
  {
   "cell_type": "code",
   "execution_count": null,
   "metadata": {},
   "outputs": [],
   "source": [
    "# https://leetcode.com/problems/minimum-increment-to-make-array-unique/solutions/197687/java-c-python-straight-forward/?envType=daily-question&envId=2024-06-14"
   ]
  }
 ],
 "metadata": {
  "kernelspec": {
   "display_name": "base",
   "language": "python",
   "name": "python3"
  },
  "language_info": {
   "codemirror_mode": {
    "name": "ipython",
    "version": 3
   },
   "file_extension": ".py",
   "mimetype": "text/x-python",
   "name": "python",
   "nbconvert_exporter": "python",
   "pygments_lexer": "ipython3",
   "version": "3.8.10"
  }
 },
 "nbformat": 4,
 "nbformat_minor": 2
}
