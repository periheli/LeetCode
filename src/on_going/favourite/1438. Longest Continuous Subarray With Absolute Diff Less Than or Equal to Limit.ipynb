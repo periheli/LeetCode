{
 "cells": [
  {
   "cell_type": "code",
   "execution_count": 8,
   "metadata": {},
   "outputs": [],
   "source": [
    "from typing import List, Dict, Optional, Set, Tuple\n",
    "from collections import deque, Counter\n",
    "from sortedcontainers import SortedList\n",
    "import random\n",
    "\n",
    "# support for maintaining a list in sorted order\n",
    "# without having to sort the list after each insertion\n",
    "import bisect\n",
    "from heapq import heappop, heappush, heapify, heapreplace, nlargest\n",
    "\n",
    "\n",
    "class Solution:\n",
    "    def longestSubarray(self, nums: List[int], limit: int) -> int:\n",
    "        def find_min_idx(left: int, right: int):\n",
    "            min_idx = left\n",
    "            for i in range(left + 1, right + 1):\n",
    "                if nums[i] <= nums[min_idx]:\n",
    "                    min_idx = i\n",
    "            return min_idx\n",
    "\n",
    "        def find_max_idx(left: int, right: int):\n",
    "            max_idx = left\n",
    "            for i in range(left + 1, right + 1):\n",
    "                if nums[i] >= nums[max_idx]:\n",
    "                    max_idx = i\n",
    "            return max_idx\n",
    "\n",
    "        res = 1\n",
    "        left = min_idx = max_idx = 0\n",
    "        for right in range(len(nums)):\n",
    "            print(right, min_idx, max_idx)\n",
    "            if nums[right] >= nums[max_idx]:\n",
    "                max_idx = right\n",
    "                while abs(nums[max_idx] - nums[min_idx]) > limit:\n",
    "                    print(min_idx, max_idx)\n",
    "                    left = min_idx\n",
    "                    min_idx = find_min_idx(min_idx + 1, right)\n",
    "\n",
    "            elif nums[right] <= nums[min_idx]:\n",
    "                min_idx = right\n",
    "                while abs(nums[max_idx] - nums[min_idx]) > limit:\n",
    "                    print(min_idx, max_idx)\n",
    "                    left = max_idx\n",
    "                    max_idx = find_max_idx(max_idx + 1, right)\n",
    "            res = max(res, right - left + 1)\n",
    "            print(right, left, min_idx, max_idx)\n",
    "        return res"
   ]
  },
  {
   "cell_type": "markdown",
   "metadata": {},
   "source": [
    "https://leetcode.com/problems/longest-continuous-subarray-with-absolute-diff-less-than-or-equal-to-limit/solutions/609771/java-c-python-deques-o-n/?envType=daily-question&envId=2024-06-23"
   ]
  },
  {
   "cell_type": "code",
   "execution_count": 9,
   "metadata": {},
   "outputs": [
    {
     "name": "stdout",
     "output_type": "stream",
     "text": [
      "0 0 0\n",
      "0 0 0 0\n",
      "1 0 0\n",
      "1 0\n",
      "1 0 1 1\n",
      "2 1 1\n",
      "2 0 1 2\n",
      "3 1 2\n",
      "3 0 1 3\n",
      "4 1 3\n",
      "1 4\n",
      "3 4\n",
      "4 3 4 4\n",
      "5 4 4\n",
      "5 3 4 5\n",
      "6 4 5\n",
      "6 5\n",
      "6 5 6 6\n",
      "7 6 6\n",
      "7 5 6 7\n"
     ]
    },
    {
     "data": {
      "text/plain": [
       "4"
      ]
     },
     "execution_count": 9,
     "metadata": {},
     "output_type": "execute_result"
    }
   ],
   "source": [
    "nums = [4, 2, 2, 2, 4, 4, 2, 2]\n",
    "limit = 0\n",
    "Solution().longestSubarray(nums, limit)"
   ]
  }
 ],
 "metadata": {
  "kernelspec": {
   "display_name": "base",
   "language": "python",
   "name": "python3"
  },
  "language_info": {
   "codemirror_mode": {
    "name": "ipython",
    "version": 3
   },
   "file_extension": ".py",
   "mimetype": "text/x-python",
   "name": "python",
   "nbconvert_exporter": "python",
   "pygments_lexer": "ipython3",
   "version": "3.8.10"
  }
 },
 "nbformat": 4,
 "nbformat_minor": 2
}
