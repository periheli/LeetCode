{
 "cells": [
  {
   "cell_type": "code",
   "execution_count": 1,
   "metadata": {},
   "outputs": [],
   "source": [
    "from typing import List, Dict, Optional, Set, Tuple\n",
    "from collections import deque, Counter\n",
    "from sortedcontainers import SortedList\n",
    "import random\n",
    "\n",
    "# support for maintaining a list in sorted order\n",
    "# without having to sort the list after each insertion\n",
    "import bisect\n",
    "from heapq import (\n",
    "    heappop,\n",
    "    heappush,\n",
    "    heapify,\n",
    "    heapreplace,\n",
    "    _heappop_max,\n",
    "    _heapify_max,\n",
    ")\n",
    "\n",
    "\n",
    "class Solution:\n",
    "    def specialArray(self, nums: List[int]) -> int:\n",
    "        n = len(nums)\n",
    "        sorted_nums = sorted(nums, reverse=True)\n",
    "        if sorted_nums[-1] >= n:\n",
    "            return n\n",
    "\n",
    "        for i in range(n - 1):\n",
    "            if sorted_nums[i] < i + 1:\n",
    "                return -1\n",
    "            if sorted_nums[i] != sorted_nums[i + 1]:\n",
    "                if sorted_nums[i + 1] < i + 1:\n",
    "                    return i + 1\n",
    "        return -1  # test case: [0]\n",
    "\n",
    "    def specialArray_99_99(self, nums: List[int]) -> int:\n",
    "        n = len(nums)\n",
    "        sorted_nums = sorted(nums, reverse=True)\n",
    "        if sorted_nums[-1] >= n:\n",
    "            return n\n",
    "\n",
    "        for i in range(n - 1):\n",
    "            if sorted_nums[i] < i + 1:\n",
    "                return -1\n",
    "            if sorted_nums[i + 1] < i + 1:\n",
    "                return i + 1\n",
    "        return -1"
   ]
  },
  {
   "cell_type": "code",
   "execution_count": null,
   "metadata": {},
   "outputs": [],
   "source": []
  }
 ],
 "metadata": {
  "kernelspec": {
   "display_name": "base",
   "language": "python",
   "name": "python3"
  },
  "language_info": {
   "codemirror_mode": {
    "name": "ipython",
    "version": 3
   },
   "file_extension": ".py",
   "mimetype": "text/x-python",
   "name": "python",
   "nbconvert_exporter": "python",
   "pygments_lexer": "ipython3",
   "version": "3.8.10"
  }
 },
 "nbformat": 4,
 "nbformat_minor": 2
}
