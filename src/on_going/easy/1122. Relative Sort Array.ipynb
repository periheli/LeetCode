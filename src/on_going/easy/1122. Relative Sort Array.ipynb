{
 "cells": [
  {
   "cell_type": "code",
   "execution_count": 1,
   "metadata": {},
   "outputs": [],
   "source": [
    "from typing import List, Dict, Optional, Set, Tuple\n",
    "from collections import deque, Counter\n",
    "from sortedcontainers import SortedList\n",
    "\n",
    "# support for maintaining a list in sorted order\n",
    "# without having to sort the list after each insertion\n",
    "import bisect\n",
    "from heapq import heappop, heappush\n",
    "\n",
    "\n",
    "class Solution:\n",
    "    def relativeSortArray(self, arr1: List[int], arr2: List[int]) -> List[int]:\n",
    "        counter = {num: 0 for num in arr2}\n",
    "        tail = SortedList()\n",
    "        for num in arr1:\n",
    "            if num in counter.keys():\n",
    "                counter[num] += 1\n",
    "            else:\n",
    "                tail.add(num)\n",
    "\n",
    "        head = []\n",
    "        for num, count in counter.items():\n",
    "            head.extend([num] * count)\n",
    "\n",
    "        return head + list(tail)\n",
    "\n",
    "    def relativeSortArray2(self, arr1: List[int], arr2: List[int]) -> List[int]:\n",
    "        hashmap = {num: index for index, num in enumerate(arr2)}\n",
    "        return sorted(arr1, key=lambda num: hashmap.get(num, len(arr2) + num))"
   ]
  },
  {
   "cell_type": "code",
   "execution_count": null,
   "metadata": {},
   "outputs": [],
   "source": []
  }
 ],
 "metadata": {
  "kernelspec": {
   "display_name": "base",
   "language": "python",
   "name": "python3"
  },
  "language_info": {
   "codemirror_mode": {
    "name": "ipython",
    "version": 3
   },
   "file_extension": ".py",
   "mimetype": "text/x-python",
   "name": "python",
   "nbconvert_exporter": "python",
   "pygments_lexer": "ipython3",
   "version": "3.8.10"
  }
 },
 "nbformat": 4,
 "nbformat_minor": 2
}
