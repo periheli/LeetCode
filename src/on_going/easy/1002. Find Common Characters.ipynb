{
 "cells": [
  {
   "cell_type": "code",
   "execution_count": 6,
   "metadata": {},
   "outputs": [],
   "source": [
    "from typing import List, Dict, Optional, Set, Tuple\n",
    "from collections import deque, Counter\n",
    "from sortedcontainers import SortedList\n",
    "\n",
    "# support for maintaining a list in sorted order\n",
    "# without having to sort the list after each insertion\n",
    "import bisect\n",
    "from heapq import heappop, heappush\n",
    "\n",
    "\n",
    "class Solution:\n",
    "    def commonChars(self, words: List[str]) -> List[str]:\n",
    "        counter = Counter(words[0])\n",
    "        for word in words:\n",
    "            cur_counter = Counter(word)\n",
    "            for char in list(counter):\n",
    "                if char in cur_counter:\n",
    "                    counter[char] = min(cur_counter[char], counter[char])\n",
    "                else:\n",
    "                    del counter[char]\n",
    "\n",
    "        res = []\n",
    "        for char, count in counter.items():\n",
    "            res.extend([char] * count)\n",
    "        return res\n",
    "\n",
    "    def commonChars_v2(self, words: List[str]) -> List[str]:\n",
    "        res = []\n",
    "        for char in set(words[0]):\n",
    "            res.extend([char] * min([word.count(char) for word in words]))\n",
    "        return res"
   ]
  },
  {
   "cell_type": "code",
   "execution_count": null,
   "metadata": {},
   "outputs": [],
   "source": []
  }
 ],
 "metadata": {
  "kernelspec": {
   "display_name": "base",
   "language": "python",
   "name": "python3"
  },
  "language_info": {
   "codemirror_mode": {
    "name": "ipython",
    "version": 3
   },
   "file_extension": ".py",
   "mimetype": "text/x-python",
   "name": "python",
   "nbconvert_exporter": "python",
   "pygments_lexer": "ipython3",
   "version": "3.8.10"
  }
 },
 "nbformat": 4,
 "nbformat_minor": 2
}
