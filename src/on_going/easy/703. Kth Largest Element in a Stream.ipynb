{
 "cells": [
  {
   "cell_type": "code",
   "execution_count": 1,
   "metadata": {},
   "outputs": [],
   "source": [
    "from typing import List, Dict, Optional, Set, Tuple\n",
    "from collections import deque, Counter\n",
    "from sortedcontainers import SortedList\n",
    "import random\n",
    "import math\n",
    "\n",
    "# support for maintaining a list in sorted order\n",
    "# without having to sort the list after each insertion\n",
    "import bisect\n",
    "from heapq import (\n",
    "    heappop,\n",
    "    heappush,\n",
    "    heapify,\n",
    "    heapreplace,\n",
    "    nlargest,\n",
    "    heappushpop,\n",
    ")\n",
    "\n",
    "\n",
    "class KthLargest:\n",
    "    def __init__(self, k: int, nums: List[int]):\n",
    "        self.min_heap = sorted(nums)[-k:]\n",
    "        heapify(self.min_heap)\n",
    "        if len(self.min_heap) == k - 1:\n",
    "            heappush(self.min_heap, -(10**4))\n",
    "\n",
    "    def __init__(self, k: int, nums: List[int]):\n",
    "        self.min_heap = nums\n",
    "        heapify(self.min_heap)\n",
    "        if len(self.min_heap) == k - 1:\n",
    "            heappush(self.min_heap, -(10**4))\n",
    "        else:\n",
    "            while len(self.min_heap) > k:\n",
    "                heappop(self.min_heap)\n",
    "\n",
    "    def add(self, val: int) -> int:\n",
    "        heappushpop(self.min_heap, val)\n",
    "        return self.min_heap[0]\n",
    "\n",
    "\n",
    "# Your KthLargest object will be instantiated and called as such:\n",
    "# obj = KthLargest(k, nums)\n",
    "# param_1 = obj.add(val)"
   ]
  },
  {
   "cell_type": "code",
   "execution_count": null,
   "metadata": {},
   "outputs": [],
   "source": []
  }
 ],
 "metadata": {
  "kernelspec": {
   "display_name": "base",
   "language": "python",
   "name": "python3"
  },
  "language_info": {
   "codemirror_mode": {
    "name": "ipython",
    "version": 3
   },
   "file_extension": ".py",
   "mimetype": "text/x-python",
   "name": "python",
   "nbconvert_exporter": "python",
   "pygments_lexer": "ipython3",
   "version": "3.8.10"
  }
 },
 "nbformat": 4,
 "nbformat_minor": 2
}
