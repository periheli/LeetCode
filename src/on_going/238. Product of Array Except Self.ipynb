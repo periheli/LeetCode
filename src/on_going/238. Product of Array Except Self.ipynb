{
 "cells": [
  {
   "cell_type": "code",
   "execution_count": null,
   "metadata": {},
   "outputs": [],
   "source": [
    "from typing import List, Dict, Optional\n",
    "from collections import deque\n",
    "from sortedcontainers import SortedList\n",
    "\n",
    "# support for maintaining a list in sorted order\n",
    "# without having to sort the list after each insertion\n",
    "import bisect\n",
    "\n",
    "\n",
    "class Solution:\n",
    "    def productExceptSelf(self, nums: List[int]) -> List[int]:\n",
    "        n = len(nums)\n",
    "        if n <= 1:\n",
    "            return nums            \n",
    "\n",
    "        forward_products = [1] * n\n",
    "        backward_products = [1] * n\n",
    "        for i in range(1, n):\n",
    "            forward_products[i] = forward_products[i - 1] * nums[i - 1]\n",
    "            backward_products[n - i - 1] = backward_products[n - i] * nums[n - i]\n",
    "\n",
    "        return [\n",
    "            prefix * suffix\n",
    "            for prefix, suffix in zip(forward_products, backward_products)\n",
    "        ]"
   ]
  },
  {
   "cell_type": "code",
   "execution_count": null,
   "metadata": {},
   "outputs": [],
   "source": []
  }
 ],
 "metadata": {
  "language_info": {
   "name": "python"
  }
 },
 "nbformat": 4,
 "nbformat_minor": 2
}
