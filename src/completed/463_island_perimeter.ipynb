{
 "cells": [
  {
   "cell_type": "code",
   "execution_count": 1,
   "metadata": {},
   "outputs": [],
   "source": [
    "from typing import List"
   ]
  },
  {
   "cell_type": "code",
   "execution_count": null,
   "metadata": {},
   "outputs": [],
   "source": [
    "class Solution:\n",
    "    def islandPerimeter(self, grid: List[List[int]]) -> int:\n",
    "        def num_forward_connections(i: int, j: int):\n",
    "            count = 0\n",
    "            if i + 1 < num_rows:\n",
    "                if grid[i + 1][j] == 1:\n",
    "                    count += 1\n",
    "            if j + 1 < num_cols:\n",
    "                if grid[i][j + 1] == 1:\n",
    "                    count += 1\n",
    "            return count\n",
    "\n",
    "        num_rows = len(grid)\n",
    "        num_cols = len(grid[0])\n",
    "        peri = 0\n",
    "        for i in range(num_rows):\n",
    "            for j in range(num_cols):\n",
    "                if grid[i][j] == 1:\n",
    "                    peri += 4 - num_forward_connections(i, j) * 2\n",
    "\n",
    "        return peri"
   ]
  },
  {
   "cell_type": "markdown",
   "metadata": {},
   "source": [
    "# Intuition\n",
    "<!-- Describe your first thoughts on how to solve this problem. -->\n",
    "- Instead of counting the yellow stripes as the perimeter, count the black stripes and the land cells.\n",
    "\n",
    "    $$Perimeter = 4 * num\\_cells - 2 * num\\_blacks$$\n",
    "\n",
    "- This help considering only the forward cells of the current cell at erery iteration in order to count the black stripes.\n",
    "\n",
    "\n",
    "# Approach\n",
    "<!-- Describe your approach to solving the problem. -->\n",
    "Iterate over the `grid`, for each land cell at row `i`, col `j`:\n",
    "- Count the `num_forward_connections` (number of black stripes). Only check the forward cells, cells at (`i+1,j`) and (`i,j+1`)\n",
    "- Continuously increase the perimeter instead of using 2 variables for counting. So, increase the perimeter `peri` by `4 - 2*num_forward_connections`\n",
    "\n",
    "# Complexity\n",
    "- Time complexity: $O(n*m)$\n",
    "<!-- Add your time complexity here, e.g. $$O(n)$$ -->\n",
    "\n",
    "- Space complexity: $O(1)$\n",
    "<!-- Add your space complexity here, e.g. $$O(n)$$ -->\n",
    "\n",
    "# Code\n",
    "``` Python []\n",
    "class Solution:\n",
    "    def islandPerimeter(self, grid: List[List[int]]) -> int:\n",
    "        def num_forward_connections(i: int, j: int):\n",
    "            count = 0\n",
    "            if i + 1 < num_rows:\n",
    "                if grid[i + 1][j] == 1:\n",
    "                    count += 1\n",
    "            if j + 1 < num_cols:\n",
    "                if grid[i][j + 1] == 1:\n",
    "                    count += 1\n",
    "            return count\n",
    "\n",
    "        num_rows = len(grid)\n",
    "        num_cols = len(grid[0])\n",
    "        peri = 0\n",
    "        for i in range(num_rows):\n",
    "            for j in range(num_cols):\n",
    "                if grid[i][j] == 1:\n",
    "                    peri += 4 - num_forward_connections(i, j) * 2\n",
    "\n",
    "        return peri\n",
    "```"
   ]
  },
  {
   "cell_type": "markdown",
   "metadata": {},
   "source": []
  }
 ],
 "metadata": {
  "kernelspec": {
   "display_name": "base",
   "language": "python",
   "name": "python3"
  },
  "language_info": {
   "codemirror_mode": {
    "name": "ipython",
    "version": 3
   },
   "file_extension": ".py",
   "mimetype": "text/x-python",
   "name": "python",
   "nbconvert_exporter": "python",
   "pygments_lexer": "ipython3",
   "version": "3.8.5"
  }
 },
 "nbformat": 4,
 "nbformat_minor": 2
}
