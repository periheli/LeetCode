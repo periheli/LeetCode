{
 "cells": [
  {
   "cell_type": "code",
   "execution_count": 1,
   "metadata": {},
   "outputs": [],
   "source": [
    "from typing import List, Dict, Optional, Set, Tuple\n",
    "from collections import deque, Counter\n",
    "from sortedcontainers import SortedList\n",
    "import random\n",
    "\n",
    "# support for maintaining a list in sorted order\n",
    "# without having to sort the list after each insertion\n",
    "import bisect\n",
    "from heapq import (\n",
    "    heappop,\n",
    "    heappush,\n",
    "    heapify,\n",
    "    heapreplace,\n",
    "    _heappop_max,\n",
    "    _heapify_max,\n",
    ")\n",
    "\n",
    "\n",
    "class Solution:\n",
    "    def singleNumber(self, nums: List[int]) -> int:\n",
    "        max_num_bits = 32\n",
    "        bit1_counter = [0] * max_num_bits\n",
    "        neg_counter = 0\n",
    "        for num in nums:\n",
    "            if num < 0:\n",
    "                neg_counter += 1\n",
    "                num = -num\n",
    "            for i, bit in enumerate(bin(num)[:1:-1]):\n",
    "                if bit == \"1\":\n",
    "                    bit1_counter[i] += 1\n",
    "\n",
    "        res = 0\n",
    "        for i in range(max_num_bits):\n",
    "            if bit1_counter[i] % 3 == 1:\n",
    "                res += 1 << i\n",
    "\n",
    "        if neg_counter % 3 == 1:\n",
    "            return -res\n",
    "        else:\n",
    "            return res\n",
    "\n",
    "    def singleNumber(self, nums: List[int]) -> int:\n",
    "        return [num for num, count in Counter(nums).items() if count == 1][0]\n",
    "    \n",
    "\n",
    "    def singleNumber(self, nums: List[int]) -> int:\n",
    "        ones = 0\n",
    "        twos = 0\n",
    "\n",
    "        for num in nums:\n",
    "            ones ^= (num & ~twos)\n",
    "            twos ^= (num & ~ones)\n",
    "\n",
    "        return ones"
   ]
  },
  {
   "cell_type": "code",
   "execution_count": 12,
   "metadata": {},
   "outputs": [
    {
     "data": {
      "text/plain": [
       "'011'"
      ]
     },
     "execution_count": 12,
     "metadata": {},
     "output_type": "execute_result"
    }
   ],
   "source": [
    "bin(6)[:1:-1]"
   ]
  },
  {
   "cell_type": "code",
   "execution_count": 16,
   "metadata": {},
   "outputs": [
    {
     "data": {
      "text/plain": [
       "4"
      ]
     },
     "execution_count": 16,
     "metadata": {},
     "output_type": "execute_result"
    }
   ],
   "source": [
    "1 << 2"
   ]
  },
  {
   "cell_type": "code",
   "execution_count": null,
   "metadata": {},
   "outputs": [],
   "source": []
  }
 ],
 "metadata": {
  "kernelspec": {
   "display_name": "base",
   "language": "python",
   "name": "python3"
  },
  "language_info": {
   "codemirror_mode": {
    "name": "ipython",
    "version": 3
   },
   "file_extension": ".py",
   "mimetype": "text/x-python",
   "name": "python",
   "nbconvert_exporter": "python",
   "pygments_lexer": "ipython3",
   "version": "3.8.5"
  }
 },
 "nbformat": 4,
 "nbformat_minor": 2
}
