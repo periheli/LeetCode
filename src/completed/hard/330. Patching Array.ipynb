{
 "cells": [
  {
   "cell_type": "code",
   "execution_count": 1,
   "metadata": {},
   "outputs": [],
   "source": [
    "from typing import List, Dict, Optional, Set, Tuple\n",
    "from collections import deque, Counter\n",
    "from sortedcontainers import SortedList\n",
    "import random\n",
    "\n",
    "# support for maintaining a list in sorted order\n",
    "# without having to sort the list after each insertion\n",
    "import bisect\n",
    "from heapq import heappop, heappush, heapify, heapreplace\n",
    "\n",
    "\n",
    "class Solution:\n",
    "    def minPatches(self, nums: List[int], n: int) -> int:\n",
    "        patch_count = 0\n",
    "        acc_sum = 0\n",
    "        for num in nums:\n",
    "            while acc_sum + 1 < num:\n",
    "                acc_sum += acc_sum + 1\n",
    "                patch_count += 1\n",
    "                if acc_sum >= n:\n",
    "                    return patch_count\n",
    "\n",
    "            acc_sum += num\n",
    "            if acc_sum >= n:\n",
    "                return patch_count\n",
    "\n",
    "        while acc_sum < n:\n",
    "            acc_sum += acc_sum + 1\n",
    "            patch_count += 1\n",
    "\n",
    "        return patch_count\n",
    "\n",
    "    def minPatches2(self, nums: List[int], n: int) -> int:\n",
    "        patch_count = 0\n",
    "        acc_sum = 0\n",
    "        i = 0\n",
    "        while acc_sum < n:\n",
    "            if i >= len(nums) or acc_sum + 1 < nums[i]:\n",
    "                acc_sum += acc_sum + 1\n",
    "                patch_count += 1\n",
    "            else:\n",
    "                acc_sum += nums[i]\n",
    "                i += 1\n",
    "\n",
    "        return patch_count\n",
    "\n",
    "    def minPatches3(self, nums: List[int], n: int) -> int:\n",
    "        patch_count = 0\n",
    "        acc_sum = 0\n",
    "        i = 0\n",
    "        while acc_sum < n:\n",
    "            if i < len(nums) and acc_sum + 1 >= nums[i]:\n",
    "                acc_sum += nums[i]\n",
    "                i += 1\n",
    "            else:\n",
    "                acc_sum += acc_sum + 1\n",
    "                patch_count += 1\n",
    "\n",
    "        return patch_count\n",
    "\n",
    "    def minPatches3(self, nums: List[int], n: int) -> int:\n",
    "        patch_count = 0\n",
    "        next_num = 1  # = acc_sum + 1\n",
    "        i = 0\n",
    "        while next_num <= n:\n",
    "            if i < len(nums) and next_num >= nums[i]:\n",
    "                next_num += nums[i]\n",
    "                i += 1\n",
    "            else:\n",
    "                next_num += next_num\n",
    "                patch_count += 1\n",
    "\n",
    "        return patch_count"
   ]
  },
  {
   "cell_type": "code",
   "execution_count": 1,
   "metadata": {},
   "outputs": [],
   "source": [
    "a = 1"
   ]
  },
  {
   "cell_type": "code",
   "execution_count": 2,
   "metadata": {},
   "outputs": [],
   "source": [
    "a = [2, 3, 4]"
   ]
  },
  {
   "cell_type": "code",
   "execution_count": null,
   "metadata": {},
   "outputs": [],
   "source": []
  }
 ],
 "metadata": {
  "kernelspec": {
   "display_name": "base",
   "language": "python",
   "name": "python3"
  },
  "language_info": {
   "codemirror_mode": {
    "name": "ipython",
    "version": 3
   },
   "file_extension": ".py",
   "mimetype": "text/x-python",
   "name": "python",
   "nbconvert_exporter": "python",
   "pygments_lexer": "ipython3",
   "version": "3.8.10"
  }
 },
 "nbformat": 4,
 "nbformat_minor": 2
}
