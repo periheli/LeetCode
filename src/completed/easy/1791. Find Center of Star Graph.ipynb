{
 "cells": [
  {
   "cell_type": "code",
   "execution_count": 1,
   "metadata": {},
   "outputs": [],
   "source": [
    "from typing import List, Dict, Optional, Set, Tuple\n",
    "from collections import deque, Counter\n",
    "from sortedcontainers import SortedList\n",
    "import random\n",
    "\n",
    "# support for maintaining a list in sorted order\n",
    "# without having to sort the list after each insertion\n",
    "import bisect\n",
    "from heapq import heappop, heappush, heapify, heapreplace, nlargest\n",
    "\n",
    "\n",
    "class Solution:\n",
    "    def findCenter(self, edges: List[List[int]]) -> int:\n",
    "        for node in edges[0]:\n",
    "            if node in edges[1]:\n",
    "                return node\n",
    "\n",
    "    def findCenter2(self, edges: List[List[int]]) -> int:\n",
    "        if edges[0][0] in edges[1]:\n",
    "            return edges[0][0]\n",
    "        return edges[0][1]\n",
    "\n",
    "    def findCenter22(self, edges: List[List[int]]) -> int:\n",
    "        return edges[0][0] if edges[0][0] in edges[1] else edges[0][1]\n",
    "\n",
    "    def findCenter3(self, edges: List[List[int]]) -> int:\n",
    "        if edges[0][0] == edges[1][0] or edges[0][0] == edges[1][1]:\n",
    "            return edges[0][0]\n",
    "        return edges[0][1]"
   ]
  },
  {
   "cell_type": "code",
   "execution_count": null,
   "metadata": {},
   "outputs": [],
   "source": []
  }
 ],
 "metadata": {
  "kernelspec": {
   "display_name": "base",
   "language": "python",
   "name": "python3"
  },
  "language_info": {
   "codemirror_mode": {
    "name": "ipython",
    "version": 3
   },
   "file_extension": ".py",
   "mimetype": "text/x-python",
   "name": "python",
   "nbconvert_exporter": "python",
   "pygments_lexer": "ipython3",
   "version": "3.8.5"
  }
 },
 "nbformat": 4,
 "nbformat_minor": 2
}
