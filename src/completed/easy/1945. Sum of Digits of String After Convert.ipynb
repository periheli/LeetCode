{
 "cells": [
  {
   "cell_type": "code",
   "execution_count": 1,
   "metadata": {},
   "outputs": [],
   "source": [
    "from typing import List, Dict, Optional, Set, Tuple\n",
    "from collections import deque, Counter\n",
    "from sortedcontainers import SortedList\n",
    "import random\n",
    "import math\n",
    "\n",
    "# support for maintaining a list in sorted order\n",
    "# without having to sort the list after each insertion\n",
    "import bisect\n",
    "from heapq import (\n",
    "    heappop,\n",
    "    heappush,\n",
    "    heapify,\n",
    "    heapreplace,\n",
    "    nlargest,\n",
    "    heappushpop,\n",
    ")\n",
    "\n",
    "\n",
    "class Solution:\n",
    "    def getLucky(self, s: str, k: int) -> int:\n",
    "        def char_to_int(char: str):\n",
    "            sum_digits = 0\n",
    "            for digit in str(ord(char) - 96):\n",
    "                sum_digits += int(digit)\n",
    "            return sum_digits\n",
    "\n",
    "        first_res = 0\n",
    "        for char in s:\n",
    "            first_res += char_to_int(char)\n",
    "\n",
    "        res = first_res\n",
    "        while res >= 10 and k > 1:\n",
    "            k -= 1\n",
    "            res = sum([int(digit) for digit in str(res)])\n",
    "\n",
    "        return res"
   ]
  },
  {
   "cell_type": "code",
   "execution_count": null,
   "metadata": {},
   "outputs": [],
   "source": []
  }
 ],
 "metadata": {
  "kernelspec": {
   "display_name": "base",
   "language": "python",
   "name": "python3"
  },
  "language_info": {
   "codemirror_mode": {
    "name": "ipython",
    "version": 3
   },
   "file_extension": ".py",
   "mimetype": "text/x-python",
   "name": "python",
   "nbconvert_exporter": "python",
   "pygments_lexer": "ipython3",
   "version": "3.8.10"
  }
 },
 "nbformat": 4,
 "nbformat_minor": 2
}
