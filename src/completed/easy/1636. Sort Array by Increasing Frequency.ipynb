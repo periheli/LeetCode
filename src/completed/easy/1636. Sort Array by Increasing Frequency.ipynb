{
 "cells": [
  {
   "cell_type": "code",
   "execution_count": 1,
   "metadata": {},
   "outputs": [],
   "source": [
    "from typing import List, Dict, Optional, Set, Tuple\n",
    "from collections import deque, Counter, defaultdict\n",
    "from sortedcontainers import SortedList\n",
    "import random\n",
    "\n",
    "# support for maintaining a list in sorted order\n",
    "# without having to sort the list after each insertion\n",
    "import bisect\n",
    "from heapq import heappop, heappush, heapify, heapreplace, nlargest\n",
    "\n",
    "\n",
    "class Solution:\n",
    "    def frequencySort(self, nums: List[int]) -> List[int]:\n",
    "        counter = defaultdict(lambda: 0)\n",
    "        for num in nums:\n",
    "            counter[-num] += 1\n",
    "        res = []\n",
    "        for num, count in sorted([(v, k) for k, v in counter.items()]):\n",
    "            res.extend([-num] * count)\n",
    "\n",
    "        return res\n",
    "\n",
    "    def frequencySort_lambda(self, nums: List[int]) -> List[int]:\n",
    "        counter = Counter(nums)\n",
    "        return sorted(nums, key=lambda num: (counter[num], -num))"
   ]
  },
  {
   "cell_type": "code",
   "execution_count": null,
   "metadata": {},
   "outputs": [],
   "source": []
  }
 ],
 "metadata": {
  "kernelspec": {
   "display_name": "base",
   "language": "python",
   "name": "python3"
  },
  "language_info": {
   "codemirror_mode": {
    "name": "ipython",
    "version": 3
   },
   "file_extension": ".py",
   "mimetype": "text/x-python",
   "name": "python",
   "nbconvert_exporter": "python",
   "pygments_lexer": "ipython3",
   "version": "3.8.10"
  }
 },
 "nbformat": 4,
 "nbformat_minor": 2
}
