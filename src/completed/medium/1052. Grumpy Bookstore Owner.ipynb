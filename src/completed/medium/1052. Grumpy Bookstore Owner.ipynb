{
 "cells": [
  {
   "cell_type": "code",
   "execution_count": 1,
   "metadata": {},
   "outputs": [],
   "source": [
    "from typing import List, Dict, Optional, Set, Tuple\n",
    "from collections import deque, Counter\n",
    "from sortedcontainers import SortedList\n",
    "import random\n",
    "\n",
    "# support for maintaining a list in sorted order\n",
    "# without having to sort the list after each insertion\n",
    "import bisect\n",
    "from heapq import heappop, heappush, heapify, heapreplace, nlargest\n",
    "\n",
    "\n",
    "class Solution:\n",
    "    def maxSatisfied(\n",
    "        self, customers: List[int], grumpy: List[int], minutes: int\n",
    "    ) -> int:\n",
    "        acc_count = 0\n",
    "        cur_increase = 0\n",
    "        for count, is_grumpy in zip(customers[:minutes], grumpy[:minutes]):\n",
    "            acc_count += count * (not is_grumpy)\n",
    "            cur_increase += count * is_grumpy\n",
    "\n",
    "        left_index = 0\n",
    "        max_increase = cur_increase\n",
    "        for count, is_grumpy in zip(customers[minutes:], grumpy[minutes:]):\n",
    "            acc_count += count * (not is_grumpy)\n",
    "\n",
    "            left = customers[left_index] * grumpy[left_index]\n",
    "            left_index += 1\n",
    "            right = count * is_grumpy\n",
    "            cur_increase += right - left\n",
    "            max_increase = max(max_increase, cur_increase)\n",
    "\n",
    "        return acc_count + max_increase"
   ]
  },
  {
   "cell_type": "code",
   "execution_count": null,
   "metadata": {},
   "outputs": [],
   "source": []
  }
 ],
 "metadata": {
  "kernelspec": {
   "display_name": "base",
   "language": "python",
   "name": "python3"
  },
  "language_info": {
   "codemirror_mode": {
    "name": "ipython",
    "version": 3
   },
   "file_extension": ".py",
   "mimetype": "text/x-python",
   "name": "python",
   "nbconvert_exporter": "python",
   "pygments_lexer": "ipython3",
   "version": "3.8.10"
  }
 },
 "nbformat": 4,
 "nbformat_minor": 2
}
