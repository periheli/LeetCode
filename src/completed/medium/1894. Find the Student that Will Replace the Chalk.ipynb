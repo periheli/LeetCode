{
 "cells": [
  {
   "cell_type": "code",
   "execution_count": 7,
   "metadata": {},
   "outputs": [],
   "source": [
    "from itertools import accumulate\n",
    "from typing import List, Dict, Optional, Set, Tuple\n",
    "from collections import deque, Counter\n",
    "from sortedcontainers import SortedList\n",
    "import random\n",
    "import math\n",
    "\n",
    "# support for maintaining a list in sorted order\n",
    "# without having to sort the list after each insertion\n",
    "import bisect\n",
    "from heapq import (\n",
    "    heappop,\n",
    "    heappush,\n",
    "    heapify,\n",
    "    heapreplace,\n",
    "    nlargest,\n",
    "    heappushpop,\n",
    ")\n",
    "\n",
    "\n",
    "class Solution:\n",
    "    def chalkReplacerBinarySearch(self, chalk: List[int], k: int) -> int:\n",
    "        acc_chalk = [chalk[0]]\n",
    "        for num in chalk[1:]:\n",
    "            acc_chalk.append(acc_chalk[-1] + num)\n",
    "\n",
    "        total_chalk = acc_chalk[-1]\n",
    "        return bisect.bisect(acc_chalk, k % total_chalk)\n",
    "\n",
    "    def chalkReplacerBinarySearchInplace(\n",
    "        self, chalk: List[int], k: int\n",
    "    ) -> int:\n",
    "        for i, num in enumerate(chalk[1:]):\n",
    "            chalk[i + 1] = chalk[i] + num\n",
    "\n",
    "        total_chalk = chalk[-1]\n",
    "        return bisect.bisect(chalk, k % total_chalk)\n",
    "\n",
    "    def chalkReplacerIterate(self, chalk: List[int], k: int) -> int:\n",
    "        k %= sum(chalk)\n",
    "\n",
    "        for i, num in enumerate(chalk):\n",
    "            if num > k:\n",
    "                return i\n",
    "            k -= num\n",
    "\n",
    "    def chalkReplacer1Line(self, chalk: List[int], k: int) -> int:\n",
    "        return bisect.bisect(list(accumulate(chalk)), k % sum(chalk))"
   ]
  },
  {
   "cell_type": "code",
   "execution_count": null,
   "metadata": {},
   "outputs": [],
   "source": []
  }
 ],
 "metadata": {
  "kernelspec": {
   "display_name": "base",
   "language": "python",
   "name": "python3"
  },
  "language_info": {
   "codemirror_mode": {
    "name": "ipython",
    "version": 3
   },
   "file_extension": ".py",
   "mimetype": "text/x-python",
   "name": "python",
   "nbconvert_exporter": "python",
   "pygments_lexer": "ipython3",
   "version": "3.8.10"
  }
 },
 "nbformat": 4,
 "nbformat_minor": 2
}
