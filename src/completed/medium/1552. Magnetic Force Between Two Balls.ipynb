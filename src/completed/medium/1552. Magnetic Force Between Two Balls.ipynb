{
 "cells": [
  {
   "cell_type": "code",
   "execution_count": 11,
   "metadata": {},
   "outputs": [],
   "source": [
    "from typing import List, Dict, Optional, Set, Tuple\n",
    "from collections import deque, Counter\n",
    "from sortedcontainers import SortedList\n",
    "import random\n",
    "\n",
    "# support for maintaining a list in sorted order\n",
    "# without having to sort the list after each insertion\n",
    "import bisect\n",
    "from heapq import heappop, heappush, heapify, heapreplace, nlargest\n",
    "\n",
    "\n",
    "class Solution:\n",
    "    def maxDistance(self, position: List[int], m: int) -> int:\n",
    "        sorted_position = sorted(position)\n",
    "\n",
    "        def feasible(force: int):\n",
    "            counter = 1\n",
    "            prev_pos = sorted_position[0]\n",
    "            for pos in sorted_position[1:]:\n",
    "                if pos - prev_pos >= force:\n",
    "                    counter += 1\n",
    "                    if counter == m:\n",
    "                        return True\n",
    "                    prev_pos = pos\n",
    "            return False\n",
    "\n",
    "        low, high = 1, sorted_position[-1] - sorted_position[0]\n",
    "        while low < high:\n",
    "            mid = (low + high) // 2\n",
    "            if feasible(mid + 1):\n",
    "                low = mid + 1\n",
    "            else:\n",
    "                high = mid\n",
    "        return low"
   ]
  },
  {
   "cell_type": "code",
   "execution_count": 12,
   "metadata": {},
   "outputs": [
    {
     "data": {
      "text/plain": [
       "3"
      ]
     },
     "execution_count": 12,
     "metadata": {},
     "output_type": "execute_result"
    }
   ],
   "source": [
    "position = [1, 2, 3, 4, 7]\n",
    "m = 3\n",
    "Solution().maxDistance(position, m)"
   ]
  },
  {
   "cell_type": "code",
   "execution_count": null,
   "metadata": {},
   "outputs": [],
   "source": []
  },
  {
   "cell_type": "code",
   "execution_count": null,
   "metadata": {},
   "outputs": [],
   "source": []
  }
 ],
 "metadata": {
  "kernelspec": {
   "display_name": "base",
   "language": "python",
   "name": "python3"
  },
  "language_info": {
   "codemirror_mode": {
    "name": "ipython",
    "version": 3
   },
   "file_extension": ".py",
   "mimetype": "text/x-python",
   "name": "python",
   "nbconvert_exporter": "python",
   "pygments_lexer": "ipython3",
   "version": "3.8.10"
  }
 },
 "nbformat": 4,
 "nbformat_minor": 2
}
