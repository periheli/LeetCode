{
 "cells": [
  {
   "cell_type": "code",
   "execution_count": 1,
   "metadata": {},
   "outputs": [],
   "source": [
    "from typing import List, Dict, Optional, Set, Tuple\n",
    "from collections import deque, Counter\n",
    "from sortedcontainers import SortedList\n",
    "import random\n",
    "from math import sqrt\n",
    "\n",
    "# support for maintaining a list in sorted order\n",
    "# without having to sort the list after each insertion\n",
    "import bisect\n",
    "from heapq import heappop, heappush, heapify, heapreplace, nlargest\n",
    "\n",
    "\n",
    "class Solution:\n",
    "    def judgeSquareSum_2Pointers(self, c: int) -> bool:\n",
    "        a, b = 0, int(sqrt(c))\n",
    "        while a <= b:\n",
    "            if a**2 + b**2 < c:\n",
    "                a += 1\n",
    "            elif a**2 + b**2 > c:\n",
    "                b -= 1\n",
    "            else:\n",
    "                return True\n",
    "        return False\n",
    "\n",
    "    def judgeSquareSum_2Pointers2(self, c: int) -> bool:\n",
    "        a, b = 0, int(sqrt(c))\n",
    "        while a <= b:\n",
    "            total = a**2 + b**2\n",
    "            if total < c:\n",
    "                a += 1\n",
    "            elif total > c:\n",
    "                b -= 1\n",
    "            else:\n",
    "                return True\n",
    "        return False\n",
    "\n",
    "    def judgeSquareSum_Set(self, c: int) -> bool:\n",
    "        # Set\n",
    "        sqrt_c = int(sqrt(c))\n",
    "        square_set = set(i**2 for i in range(sqrt_c + 1))\n",
    "        for square in square_set:\n",
    "            if c - square in square_set:\n",
    "                return True\n",
    "        return False\n",
    "\n",
    "    def judgeSquareSum_Fermat(self, c: int) -> bool:\n",
    "        divisor = 2\n",
    "        while divisor**2 <= c:\n",
    "            count = 0\n",
    "            while c % divisor == 0:\n",
    "                c //= divisor\n",
    "                count += 1\n",
    "            if divisor % 4 == 3 and count % 2 == 1:\n",
    "                return False\n",
    "            divisor += 1\n",
    "        return c % 4 != 3"
   ]
  },
  {
   "cell_type": "markdown",
   "metadata": {},
   "source": [
    "https://leetcode.com/problems/sum-of-square-numbers/solutions/5324398/beats-100-explained-with-video-c-java-python-js-maths-interview-solution/\n",
    "\n",
    "https://leetcode.com/problems/sum-of-square-numbers/solutions/104935/fermat\n",
    "\n",
    "https://leetcode.com/problems/perfect-squares/description/\n",
    "\n",
    "https://leetcode.com/problems/perfect-squares/solutions/71533/osqrtn-in-ruby-c-c/"
   ]
  }
 ],
 "metadata": {
  "kernelspec": {
   "display_name": "base",
   "language": "python",
   "name": "python3"
  },
  "language_info": {
   "codemirror_mode": {
    "name": "ipython",
    "version": 3
   },
   "file_extension": ".py",
   "mimetype": "text/x-python",
   "name": "python",
   "nbconvert_exporter": "python",
   "pygments_lexer": "ipython3",
   "version": "3.8.5"
  }
 },
 "nbformat": 4,
 "nbformat_minor": 2
}
