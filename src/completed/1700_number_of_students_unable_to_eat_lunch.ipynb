{
 "cells": [
  {
   "cell_type": "code",
   "execution_count": null,
   "metadata": {},
   "outputs": [],
   "source": [
    "from typing import List\n",
    "from collections import Counter"
   ]
  },
  {
   "cell_type": "code",
   "execution_count": null,
   "metadata": {},
   "outputs": [],
   "source": [
    "class Solution:\n",
    "    def countStudents(self, students: List[int], sandwiches: List[int]) -> int:\n",
    "        student_1_counter = sum(students)\n",
    "        student_0_counter = len(students) - student_1_counter\n",
    "\n",
    "        for sandwich in sandwiches:\n",
    "            if sandwich:\n",
    "                if student_1_counter == 0:\n",
    "                    return student_0_counter\n",
    "                student_1_counter -= 1\n",
    "            else:\n",
    "                if student_0_counter == 0:\n",
    "                    return student_1_counter\n",
    "                student_0_counter -= 1\n",
    "\n",
    "        return 0\n",
    "\n",
    "    def countStudents(self, students: List[int], sandwiches: List[int]) -> int:\n",
    "        # shorter solution using Counter\n",
    "        counter = Counter(students)\n",
    "\n",
    "        for sandwich in sandwiches:\n",
    "            if counter[sandwich] == 0:\n",
    "                return counter[not sandwich]\n",
    "            counter[sandwich] -= 1\n",
    "\n",
    "        return 0"
   ]
  },
  {
   "cell_type": "markdown",
   "metadata": {},
   "source": [
    "# Intuition\n",
    "<!-- Describe your first thoughts on how to solve this problem. -->\n",
    "The order of the student queue does not matter, the order and the accumulated count in the sandwich list are what matter. The process will only stop when there is no student (in the queue) who prefers the top of sandwiches stack.\n",
    "\n",
    "# Approach\n",
    "<!-- Describe your approach to solving the problem. -->\n",
    "- Count the number of each sandwich type in the `students` queue.\n",
    "- Iterate over the `sandwiches` list. For each `sandwich` type, decrease the corresponding counter. But if the counter is already zero, return the counter of the other type.\n",
    "\n",
    "# Complexity\n",
    "- Time complexity: $O(n)$\n",
    "<!-- Add your time complexity here, e.g. $$O(n)$$ -->\n",
    "\n",
    "- Space complexity: $O(1)$\n",
    "<!-- Add your space complexity here, e.g. $$O(n)$$ -->\n",
    "\n",
    "# Code\n",
    "```Python []\n",
    "class Solution:\n",
    "    def countStudents(self, students: List[int], sandwiches: List[int]) -> int:\n",
    "        student_1_counter = sum(students)\n",
    "        student_0_counter = len(students) - student_1_counter\n",
    "\n",
    "        for sandwich in sandwiches:\n",
    "            if sandwich:\n",
    "                if student_1_counter == 0:\n",
    "                    return student_0_counter\n",
    "                student_1_counter -= 1\n",
    "            else:\n",
    "                if student_0_counter == 0:\n",
    "                    return student_1_counter\n",
    "                student_0_counter -= 1\n",
    "\n",
    "        return 0\n",
    "```"
   ]
  },
  {
   "cell_type": "markdown",
   "metadata": {},
   "source": []
  }
 ],
 "metadata": {
  "kernelspec": {
   "display_name": "base",
   "language": "python",
   "name": "python3"
  },
  "language_info": {
   "name": "python",
   "version": "3.8.5"
  }
 },
 "nbformat": 4,
 "nbformat_minor": 2
}
