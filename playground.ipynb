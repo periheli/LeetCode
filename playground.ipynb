{
 "cells": [
  {
   "cell_type": "markdown",
   "metadata": {},
   "source": [
    "# Import"
   ]
  },
  {
   "cell_type": "code",
   "execution_count": 8,
   "metadata": {},
   "outputs": [],
   "source": [
    "from typing import List, Dict\n",
    "from collections import deque\n",
    "from sortedcontainers import SortedList\n",
    "# support for maintaining a list in sorted order\n",
    "# without having to sort the list after each insertion\n",
    "import bisect"
   ]
  },
  {
   "cell_type": "markdown",
   "metadata": {},
   "source": [
    "Array/String - E\n",
    "Array/String - M\n",
    "Two Pointers - E\n",
    "Two Pointers - M\n",
    "Sliding Window - M\n",
    "Matrix - M\n",
    "Hashmap - E\n",
    "Hashmap - M\n",
    "Intervals - E\n",
    "Intervals - M\n",
    "Stack - E\n",
    "Stack - M\n",
    "Linked List - E\n",
    "Linked List - M\n",
    "Binary Tree General - E\n",
    "Binary Tree General - M\n",
    "Binary Tree BFS - E\n",
    "Binary Tree BFS - M\n",
    "Binary Search Tree - E\n",
    "Binary Search Tree - M\n",
    "Graph General - M\n",
    "Graph BFS - M\n",
    "Trie - M\n",
    "Backtracking - M\n",
    "Divide $ Conquer - E\n",
    "Divide $ Conquer - M\n",
    "Kadane's Algorithm - M\n",
    "Binary Search - E\n",
    "Binary Search - M\n",
    "Heap - M\n",
    "Bit Manipulation - E\n",
    "Bit Manipulation - M\n",
    "Math - E\n",
    "Math - M\n",
    "1D DP - E\n",
    "1D Dp - M\n",
    "Multidimensional DP - M"
   ]
  },
  {
   "cell_type": "markdown",
   "metadata": {},
   "source": [
    "# Test"
   ]
  },
  {
   "cell_type": "code",
   "execution_count": 5,
   "metadata": {},
   "outputs": [
    {
     "data": {
      "text/plain": [
       "('c', [0, 2, 4])"
      ]
     },
     "execution_count": 5,
     "metadata": {},
     "output_type": "execute_result"
    }
   ],
   "source": [
    "a = {\"a\": [1, 3], \"b\": [5], \"c\": [0, 2, 4]}\n",
    "max(a.items(), key=lambda x: len(x[1]))"
   ]
  },
  {
   "cell_type": "code",
   "execution_count": 8,
   "metadata": {},
   "outputs": [
    {
     "name": "stdout",
     "output_type": "stream",
     "text": [
      "1\n",
      "2\n"
     ]
    }
   ],
   "source": [
    "for i in range(1, 3):\n",
    "    print(i)"
   ]
  },
  {
   "cell_type": "code",
   "execution_count": 14,
   "metadata": {},
   "outputs": [
    {
     "data": {
      "text/plain": [
       "{'a', 'b', 'c'}"
      ]
     },
     "execution_count": 14,
     "metadata": {},
     "output_type": "execute_result"
    }
   ],
   "source": [
    "a = \"abc\"\n",
    "set(a)"
   ]
  },
  {
   "cell_type": "code",
   "execution_count": 1,
   "metadata": {},
   "outputs": [
    {
     "data": {
      "text/plain": [
       "deque(['a', 'b', 'c'])"
      ]
     },
     "execution_count": 1,
     "metadata": {},
     "output_type": "execute_result"
    }
   ],
   "source": [
    "stack = deque(\"abc\")\n",
    "stack"
   ]
  },
  {
   "cell_type": "code",
   "execution_count": 5,
   "metadata": {},
   "outputs": [
    {
     "data": {
      "text/plain": [
       "\"['a', 'b', 'c']\""
      ]
     },
     "execution_count": 5,
     "metadata": {},
     "output_type": "execute_result"
    }
   ],
   "source": [
    "str(list(stack))"
   ]
  },
  {
   "cell_type": "code",
   "execution_count": 9,
   "metadata": {},
   "outputs": [],
   "source": [
    "a = 'a'"
   ]
  },
  {
   "cell_type": "code",
   "execution_count": 20,
   "metadata": {},
   "outputs": [
    {
     "data": {
      "text/plain": [
       "0"
      ]
     },
     "execution_count": 20,
     "metadata": {},
     "output_type": "execute_result"
    }
   ],
   "source": [
    "ord(\"a\") - 97"
   ]
  },
  {
   "cell_type": "code",
   "execution_count": 15,
   "metadata": {},
   "outputs": [
    {
     "data": {
      "text/plain": [
       "[[], []]"
      ]
     },
     "execution_count": 15,
     "metadata": {},
     "output_type": "execute_result"
    }
   ],
   "source": [
    "[[]] * 2"
   ]
  },
  {
   "cell_type": "code",
   "execution_count": 21,
   "metadata": {},
   "outputs": [
    {
     "data": {
      "text/plain": [
       "0"
      ]
     },
     "execution_count": 21,
     "metadata": {},
     "output_type": "execute_result"
    }
   ],
   "source": [
    "len({})"
   ]
  },
  {
   "cell_type": "code",
   "execution_count": 3,
   "metadata": {},
   "outputs": [
    {
     "data": {
      "text/plain": [
       "'a'"
      ]
     },
     "execution_count": 3,
     "metadata": {},
     "output_type": "execute_result"
    }
   ],
   "source": [
    "chr(97)"
   ]
  },
  {
   "cell_type": "code",
   "execution_count": 7,
   "metadata": {},
   "outputs": [
    {
     "data": {
      "text/plain": [
       "65"
      ]
     },
     "execution_count": 7,
     "metadata": {},
     "output_type": "execute_result"
    }
   ],
   "source": [
    "ord(\"A\")"
   ]
  },
  {
   "cell_type": "code",
   "execution_count": 9,
   "metadata": {},
   "outputs": [],
   "source": [
    "# Disjoint Set Union\n",
    "# https://cp-algorithms.com/data_structures/disjoint_set_union.html\n",
    "class SimpleUnionFind: \n",
    "    parent: Dict[int, int] = {}\n",
    "    def __init__(self, num_elems: int):\n",
    "        for i in range(num_elems):\n",
    "            self.parent[i] = i\n",
    "\n",
    "    def find_set(self, elem: int):\n",
    "        if self.parent[elem] == elem:\n",
    "            return elem    \n",
    "        return self.find_set(self.parent[elem])\n",
    "\n",
    "    def union_sets(self, elem_1: int, elem_2: int):\n",
    "        set_1 = self.find_set(elem_1)\n",
    "        set_2 = self.find_set(elem_2)\n",
    "        self.parent[set_2] = set_1\n",
    "        "
   ]
  },
  {
   "cell_type": "code",
   "execution_count": 10,
   "metadata": {},
   "outputs": [],
   "source": [
    "#\n",
    "class UnionFind: # DisjointSetUnion\n",
    "    parent: List[int]\n",
    "    rank: List[int]\n",
    "\n",
    "    def __init__(self, num_elems: int):\n",
    "        self.parent = list(range(num_elems))\n",
    "        self.rank = [0] * num_elems\n",
    "\n",
    "    def find_set(self, elem: int):\n",
    "        if self.parent[elem] == elem:\n",
    "            return elem    \n",
    "        return self.find_set(self.parent[elem])\n",
    "\n",
    "    def union_by_rank(self, u, v):\n",
    "        i = self.find_set(u)\n",
    "        j = self.find_set(v)\n",
    "        if i == j:\n",
    "            return\n",
    "        if self.rank[i] < self.rank[j]:\n",
    "            self.parent[i] = j\n",
    "        elif self.rank[i] > self.rank[j]:\n",
    "            self.parent[j] = i\n",
    "        else:\n",
    "            self.parent[i] = j\n",
    "            self.rank[j] += 1"
   ]
  },
  {
   "cell_type": "code",
   "execution_count": null,
   "metadata": {},
   "outputs": [],
   "source": []
  }
 ],
 "metadata": {
  "kernelspec": {
   "display_name": "Python 3",
   "language": "python",
   "name": "python3"
  },
  "language_info": {
   "codemirror_mode": {
    "name": "ipython",
    "version": 3
   },
   "file_extension": ".py",
   "mimetype": "text/x-python",
   "name": "python",
   "nbconvert_exporter": "python",
   "pygments_lexer": "ipython3",
   "version": "3.8.5"
  }
 },
 "nbformat": 4,
 "nbformat_minor": 2
}
