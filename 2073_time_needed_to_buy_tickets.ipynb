{
 "cells": [
  {
   "cell_type": "code",
   "execution_count": 1,
   "metadata": {},
   "outputs": [],
   "source": [
    "from typing import List"
   ]
  },
  {
   "cell_type": "code",
   "execution_count": null,
   "metadata": {},
   "outputs": [],
   "source": [
    "class Solution:\n",
    "    def timeRequiredToBuy(self, tickets: List[int], k: int) -> int:\n",
    "        num_tickets = tickets[k]\n",
    "        time_taken = num_tickets\n",
    "        for i, num in enumerate(tickets):\n",
    "            if i < k:\n",
    "                time_taken += min(num, num_tickets)\n",
    "            elif i > k:\n",
    "                time_taken += min(num, num_tickets - 1)\n",
    "\n",
    "        return time_taken"
   ]
  },
  {
   "cell_type": "markdown",
   "metadata": {},
   "source": [
    "# Intuition\n",
    "<!-- Describe your first thoughts on how to solve this problem. -->\n",
    "With `num_tickets` is the number of tickets that the person at position `k` would like to buy. The people queuing in front of the person at position `k` will have at most `num_tickets` times to buy tickets, while the others will have at most `num_tickets - 1` times.\n",
    "\n",
    "\n",
    "# Approach\n",
    "<!-- Describe your approach to solving the problem. -->\n",
    "Iterate over the `tickets` list, for each index `i` and number of tickets to buy `num`:\n",
    "- If `i` < `k`: increase `time_taken` by `min(num, num_tickets)`\n",
    "- If `i` > `k`: increase `time_taken` by `min(num, num_tickets-1)`\n",
    "- If `i` = `k`: increase `time_taken` by `num_tickets`\n",
    "\n",
    "# Complexity\n",
    "- Time complexity: $O(n)$\n",
    "<!-- Add your time complexity here, e.g. $$O(n)$$ -->\n",
    "\n",
    "- Space complexity: $O(1)$\n",
    "<!-- Add your space complexity here, e.g. $$O(n)$$ -->\n",
    "\n",
    "# Code\n",
    "``` Python []\n",
    "class Solution:\n",
    "    def timeRequiredToBuy(self, tickets: List[int], k: int) -> int:\n",
    "        num_tickets = tickets[k]\n",
    "        time_taken = num_tickets\n",
    "        for i, num in enumerate(tickets):\n",
    "            if i < k:\n",
    "                time_taken += min(num, num_tickets)\n",
    "            elif i > k:\n",
    "                time_taken += min(num, num_tickets - 1)\n",
    "\n",
    "        return time_taken\n",
    "```"
   ]
  },
  {
   "cell_type": "markdown",
   "metadata": {},
   "source": []
  }
 ],
 "metadata": {
  "kernelspec": {
   "display_name": "base",
   "language": "python",
   "name": "python3"
  },
  "language_info": {
   "codemirror_mode": {
    "name": "ipython",
    "version": 3
   },
   "file_extension": ".py",
   "mimetype": "text/x-python",
   "name": "python",
   "nbconvert_exporter": "python",
   "pygments_lexer": "ipython3",
   "version": "3.8.5"
  }
 },
 "nbformat": 4,
 "nbformat_minor": 2
}
