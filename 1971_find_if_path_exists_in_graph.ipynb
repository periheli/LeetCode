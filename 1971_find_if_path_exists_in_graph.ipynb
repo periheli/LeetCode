{
 "cells": [
  {
   "cell_type": "code",
   "execution_count": 2,
   "metadata": {},
   "outputs": [],
   "source": [
    "from typing import List, Dict"
   ]
  },
  {
   "cell_type": "code",
   "execution_count": null,
   "metadata": {},
   "outputs": [],
   "source": [
    "class SimpleUnionFind:\n",
    "    parent: Dict[int, int] = {}\n",
    "\n",
    "    def __init__(self, num_elems: int) -> None:\n",
    "        for i in range(num_elems):\n",
    "            self.parent[i] = i\n",
    "\n",
    "    def find_set(self, elem: int):\n",
    "        if self.parent[elem] == elem:\n",
    "            return elem\n",
    "        return self.find_set(self.parent[elem])\n",
    "\n",
    "    def union_sets(self, elem_1: int, elem_2: int):\n",
    "        set_1 = self.find_set(elem_1)\n",
    "        set_2 = self.find_set(elem_2)\n",
    "        self.parent[set_2] = set_1\n",
    "\n",
    "\n",
    "class Solution:\n",
    "    def validPath(self, n: int, edges: List[List[int]], source: int, destination: int) -> bool:\n",
    "        if source == destination:\n",
    "            return True\n",
    "        \n",
    "        if len(edges) == 0:\n",
    "            return False\n",
    "        \n",
    "        union_find = SimpleUnionFind(n)\n",
    "        for edge in edges:\n",
    "            union_find.union_sets(edge[0], edge[1])\n",
    "            \n",
    "        return union_find.find_set(source) == union_find.find_set(destination)"
   ]
  }
 ],
 "metadata": {
  "kernelspec": {
   "display_name": "base",
   "language": "python",
   "name": "python3"
  },
  "language_info": {
   "codemirror_mode": {
    "name": "ipython",
    "version": 3
   },
   "file_extension": ".py",
   "mimetype": "text/x-python",
   "name": "python",
   "nbconvert_exporter": "python",
   "pygments_lexer": "ipython3",
   "version": "3.8.5"
  }
 },
 "nbformat": 4,
 "nbformat_minor": 2
}
