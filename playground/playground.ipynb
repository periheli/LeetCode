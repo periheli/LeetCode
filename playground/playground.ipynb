{
 "cells": [
  {
   "cell_type": "markdown",
   "metadata": {},
   "source": [
    "# Import"
   ]
  },
  {
   "cell_type": "code",
   "execution_count": 2,
   "metadata": {},
   "outputs": [],
   "source": [
    "from typing import List, Dict, Optional\n",
    "from collections import deque\n",
    "from sortedcontainers import SortedList\n",
    "\n",
    "# support for maintaining a list in sorted order\n",
    "# without having to sort the list after each insertion\n",
    "import bisect\n",
    "\n",
    "import pandas as pd\n",
    "import numpy as np"
   ]
  },
  {
   "cell_type": "markdown",
   "metadata": {},
   "source": [
    "Array/String - E\n",
    "Array/String - M\n",
    "Two Pointers - E\n",
    "Two Pointers - M\n",
    "Sliding Window - M\n",
    "Matrix - M\n",
    "Hashmap - E\n",
    "Hashmap - M\n",
    "Intervals - E\n",
    "Intervals - M\n",
    "Stack - E\n",
    "Stack - M\n",
    "Linked List - E\n",
    "Linked List - M\n",
    "Binary Tree General - E\n",
    "Binary Tree General - M\n",
    "Binary Tree BFS - E\n",
    "Binary Tree BFS - M\n",
    "Binary Search Tree - E\n",
    "Binary Search Tree - M\n",
    "Graph General - M\n",
    "Graph BFS - M\n",
    "Trie - M\n",
    "Backtracking - M\n",
    "Divide $ Conquer - E\n",
    "Divide $ Conquer - M\n",
    "Kadane's Algorithm - M\n",
    "Binary Search - E\n",
    "Binary Search - M\n",
    "Heap - M\n",
    "Bit Manipulation - E\n",
    "Bit Manipulation - M\n",
    "Math - E\n",
    "Math - M\n",
    "1D DP - E\n",
    "1D Dp - M\n",
    "Multidimensional DP - M"
   ]
  },
  {
   "cell_type": "code",
   "execution_count": null,
   "metadata": {},
   "outputs": [],
   "source": [
    "def get_bit(num: int, pos: int):\n",
    "    return num >> pos & 1"
   ]
  },
  {
   "cell_type": "code",
   "execution_count": null,
   "metadata": {},
   "outputs": [],
   "source": [
    "def bit_list_to_int(bit_list: List[int]):\n",
    "    res = 0\n",
    "    for pos, bit in enumerate(bit_list):\n",
    "        if bit == 1:\n",
    "            res |= bit << pos\n",
    "    return res"
   ]
  },
  {
   "cell_type": "markdown",
   "metadata": {},
   "source": [
    "# Test Pandas"
   ]
  },
  {
   "cell_type": "code",
   "execution_count": 3,
   "metadata": {},
   "outputs": [
    {
     "data": {
      "text/html": [
       "<div>\n",
       "<style scoped>\n",
       "    .dataframe tbody tr th:only-of-type {\n",
       "        vertical-align: middle;\n",
       "    }\n",
       "\n",
       "    .dataframe tbody tr th {\n",
       "        vertical-align: top;\n",
       "    }\n",
       "\n",
       "    .dataframe thead th {\n",
       "        text-align: right;\n",
       "    }\n",
       "</style>\n",
       "<table border=\"1\" class=\"dataframe\">\n",
       "  <thead>\n",
       "    <tr style=\"text-align: right;\">\n",
       "      <th></th>\n",
       "      <th>A</th>\n",
       "      <th>B</th>\n",
       "      <th>C</th>\n",
       "      <th>D</th>\n",
       "    </tr>\n",
       "  </thead>\n",
       "  <tbody>\n",
       "    <tr>\n",
       "      <th>0</th>\n",
       "      <td>1.0</td>\n",
       "      <td>6.0</td>\n",
       "      <td>a</td>\n",
       "      <td>1</td>\n",
       "    </tr>\n",
       "    <tr>\n",
       "      <th>1</th>\n",
       "      <td>2.0</td>\n",
       "      <td>7.0</td>\n",
       "      <td>a</td>\n",
       "      <td>3</td>\n",
       "    </tr>\n",
       "    <tr>\n",
       "      <th>2</th>\n",
       "      <td>3.0</td>\n",
       "      <td>NaN</td>\n",
       "      <td>c</td>\n",
       "      <td>4</td>\n",
       "    </tr>\n",
       "    <tr>\n",
       "      <th>3</th>\n",
       "      <td>NaN</td>\n",
       "      <td>9.0</td>\n",
       "      <td>c</td>\n",
       "      <td>4</td>\n",
       "    </tr>\n",
       "    <tr>\n",
       "      <th>4</th>\n",
       "      <td>5.0</td>\n",
       "      <td>10.0</td>\n",
       "      <td>b</td>\n",
       "      <td>2</td>\n",
       "    </tr>\n",
       "    <tr>\n",
       "      <th>5</th>\n",
       "      <td>NaN</td>\n",
       "      <td>6.0</td>\n",
       "      <td>a</td>\n",
       "      <td>2</td>\n",
       "    </tr>\n",
       "    <tr>\n",
       "      <th>6</th>\n",
       "      <td>1.0</td>\n",
       "      <td>0.0</td>\n",
       "      <td>a</td>\n",
       "      <td>2</td>\n",
       "    </tr>\n",
       "  </tbody>\n",
       "</table>\n",
       "</div>"
      ],
      "text/plain": [
       "     A     B  C  D\n",
       "0  1.0   6.0  a  1\n",
       "1  2.0   7.0  a  3\n",
       "2  3.0   NaN  c  4\n",
       "3  NaN   9.0  c  4\n",
       "4  5.0  10.0  b  2\n",
       "5  NaN   6.0  a  2\n",
       "6  1.0   0.0  a  2"
      ]
     },
     "execution_count": 3,
     "metadata": {},
     "output_type": "execute_result"
    }
   ],
   "source": [
    "df = pd.DataFrame(\n",
    "    {\n",
    "        \"A\": [1, 2, 3, np.nan, 5, np.nan, 1],\n",
    "        \"B\": [6, 7, np.nan, 9, 10, 6, 0],\n",
    "        \"C\": [\"a\", \"a\", \"c\", \"c\", \"b\", \"a\", \"a\"],\n",
    "        \"D\": [1, 3, 4, 4, 2, 2, 2],\n",
    "    }\n",
    ")\n",
    "df"
   ]
  },
  {
   "cell_type": "code",
   "execution_count": null,
   "metadata": {},
   "outputs": [],
   "source": [
    "df_2 = pd.DataFrame(\n",
    "    {\n",
    "        \"C\": [\"a\", \"b\", \"c\"],\n",
    "        \"E\": [\"A\", \"B\", \"C\"],\n",
    "    }\n",
    ")"
   ]
  },
  {
   "cell_type": "code",
   "execution_count": null,
   "metadata": {},
   "outputs": [],
   "source": [
    "df.drop_duplicates(subset=[\"C\"])"
   ]
  },
  {
   "cell_type": "code",
   "execution_count": null,
   "metadata": {},
   "outputs": [],
   "source": [
    "df.dropna(subset=[\"C\"])"
   ]
  },
  {
   "cell_type": "code",
   "execution_count": null,
   "metadata": {},
   "outputs": [],
   "source": [
    "df.dropna(subset=[\"C\", \"A\"], how=\"all\")"
   ]
  },
  {
   "cell_type": "code",
   "execution_count": null,
   "metadata": {},
   "outputs": [],
   "source": [
    "df.dropna(subset=[\"C\", \"A\"], how=\"any\")"
   ]
  },
  {
   "cell_type": "code",
   "execution_count": null,
   "metadata": {},
   "outputs": [],
   "source": [
    "def nth_highest(df: pd.DataFrame, col: str, n: int):\n",
    "    values = sorted(df[\"D\"].unique(), reverse=True)\n",
    "    if len(values) < n:\n",
    "        return pd.DataFrame({\"value\": [None]})\n",
    "    return pd.DataFrame({\"value\": [values[n - 1]]})"
   ]
  },
  {
   "cell_type": "code",
   "execution_count": null,
   "metadata": {},
   "outputs": [],
   "source": [
    "unique_values = df[\"D\"].unique()\n",
    "unique_values.sort()\n",
    "unique_values"
   ]
  },
  {
   "cell_type": "code",
   "execution_count": null,
   "metadata": {},
   "outputs": [],
   "source": [
    "df[\"row_num\"] = (\n",
    "    df.sort_values(by=[\"C\", \"D\"], ascending=[True, False])\n",
    "    .groupby([\"C\"])[\"D\"]\n",
    "    .cumcount()\n",
    ")\n",
    "df[\"rank\"] = df.groupby([\"C\"])[\"D\"].rank()\n",
    "df[\"rank_2\"] = df.groupby([\"C\"])[\"D\"].rank(method=\"min\", ascending=False)\n",
    "df[\"dense_rank\"] = df.groupby([\"C\"])[\"D\"].rank(method=\"dense\")\n",
    "df[\"max\"] = df.groupby([\"C\"])[\"D\"].transform(max)\n",
    "df.sort_values(by=[\"C\", \"D\"])"
   ]
  },
  {
   "cell_type": "code",
   "execution_count": null,
   "metadata": {},
   "outputs": [],
   "source": [
    "df[\"max\"] = df.groupby([\"C\"])[\"D\"].transform(max)\n",
    "df[df[\"D\"] == df[\"max\"]].merge(\n",
    "    df_2, left_on=\"C\", right_on=\"C\", suffixes=(\"\", \"_right\")\n",
    ")"
   ]
  },
  {
   "cell_type": "code",
   "execution_count": null,
   "metadata": {},
   "outputs": [],
   "source": [
    "df.rename(columns={\"C\": \"id\"})"
   ]
  },
  {
   "cell_type": "code",
   "execution_count": null,
   "metadata": {},
   "outputs": [],
   "source": [
    "df.groupby([\"C\"])[\"D\"].transform(max)"
   ]
  },
  {
   "cell_type": "code",
   "execution_count": null,
   "metadata": {},
   "outputs": [],
   "source": [
    "df.groupby([\"C\"])[\"D\"].max()"
   ]
  },
  {
   "cell_type": "code",
   "execution_count": null,
   "metadata": {},
   "outputs": [],
   "source": [
    "df.merge(df_2, left_on=\"C\", right_on=\"C\", suffixes=(\"_left\", \"_right\"))"
   ]
  },
  {
   "cell_type": "code",
   "execution_count": null,
   "metadata": {},
   "outputs": [],
   "source": [
    "# use if there only 1 max\n",
    "df.loc[df.groupby([\"C\"])[\"D\"].idxmax()]"
   ]
  },
  {
   "cell_type": "code",
   "execution_count": null,
   "metadata": {},
   "outputs": [],
   "source": [
    "# def department_highest_salary(\n",
    "#     employee: pd.DataFrame, department: pd.DataFrame\n",
    "# ) -> pd.DataFrame:\n",
    "#     employee[\"max\"] = employee.groupby([\"departmentId\"])[\"salary\"].transform(\n",
    "#         max\n",
    "#     )\n",
    "#     employee = employee[employee[\"salary\"] == employee[\"max\"]]\n",
    "#     return employee.merge(\n",
    "#         department,\n",
    "#         left_on=\"departmentId\",\n",
    "#         right_on=\"id\",\n",
    "#         suffixes=(\"\", \"_dept\"),\n",
    "#     ).rename(\n",
    "#         columns={\n",
    "#             \"name_dept\": \"Department\",\n",
    "#             \"name\": \"Employee\",\n",
    "#             \"salary\": \"Salary\",\n",
    "#         }\n",
    "#     )[\n",
    "#         [\"Department\", \"Employee\", \"Salary\"]\n",
    "#     ]"
   ]
  },
  {
   "cell_type": "code",
   "execution_count": null,
   "metadata": {},
   "outputs": [],
   "source": [
    "df[\"D\"].rank(method=\"dense\")"
   ]
  },
  {
   "cell_type": "code",
   "execution_count": null,
   "metadata": {},
   "outputs": [],
   "source": [
    "df.sort_values(by=\"D\")"
   ]
  },
  {
   "cell_type": "code",
   "execution_count": null,
   "metadata": {},
   "outputs": [],
   "source": [
    "# def order_scores(scores: pd.DataFrame) -> pd.DataFrame:\n",
    "#     scores[\"rank\"] = scores[\"score\"].rank(method=\"dense\", ascending=False)\n",
    "#     return scores.sort_values(by=\"rank\")[[\"score\", \"rank\"]]"
   ]
  },
  {
   "cell_type": "code",
   "execution_count": null,
   "metadata": {},
   "outputs": [],
   "source": [
    "df"
   ]
  },
  {
   "cell_type": "code",
   "execution_count": null,
   "metadata": {},
   "outputs": [],
   "source": [
    "def get_cate(value: int):\n",
    "    if value < 3:\n",
    "        return \"< 3\"\n",
    "    elif value < 4:\n",
    "        return \"= 3\"\n",
    "    else:\n",
    "        return \"= 4\"\n",
    "\n",
    "\n",
    "df[\"category\"] = df[\"D\"].map(lambda val: get_cate(val))\n",
    "df"
   ]
  },
  {
   "cell_type": "code",
   "execution_count": null,
   "metadata": {},
   "outputs": [],
   "source": [
    "df.groupby(\"category\", as_index=False).agg(accounts_count=(\"D\", \"count\"))"
   ]
  },
  {
   "cell_type": "code",
   "execution_count": null,
   "metadata": {},
   "outputs": [],
   "source": [
    "# column_name = \"A\"\n",
    "# groupby_df = df.groupby(\"C\", as_index=False).agg(\n",
    "#     quantile_5=(column_name, lambda s: s.quantile(0.05)),\n",
    "#     quantile_25=(column_name, lambda s: s.quantile(0.25)),\n",
    "#     quantile_50=(column_name, \"median\"),\n",
    "#     quantile_75=(column_name, lambda s: s.quantile(0.75)),\n",
    "#     quantile_95=(column_name, lambda s: s.quantile(0.95)),\n",
    "#     mean=(column_name, \"mean\"),\n",
    "#     std=(column_name, \"std\"),\n",
    "# )"
   ]
  },
  {
   "cell_type": "code",
   "execution_count": null,
   "metadata": {},
   "outputs": [],
   "source": [
    "def count_salary_categories(accounts: pd.DataFrame) -> pd.DataFrame:\n",
    "    def get_cate(value: int):\n",
    "        if value < 20000:\n",
    "            return \"Low Salary\"\n",
    "        elif value <= 50000:\n",
    "            return \"Average Salary\"\n",
    "        else:\n",
    "            return \"High Salary\"\n",
    "\n",
    "    accounts[\"category\"] = accounts[\"income\"].map(lambda val: get_cate(val))\n",
    "    return accounts.groupby(\"category\", as_index=False).agg(\n",
    "        accounts_count=(\"account_id\", \"count\")\n",
    "    )\n",
    "\n",
    "\n",
    "def count_salary_categories_v2(accounts: pd.DataFrame) -> pd.DataFrame:\n",
    "    low_salary_count = accounts[accounts[\"income\"] < 20000].shape[0]\n",
    "    average_salary_count = accounts[\n",
    "        (accounts[\"income\"] >= 20000) & (accounts[\"income\"] <= 50000)\n",
    "    ].shape[0]\n",
    "    high_salary_count = accounts[accounts[\"income\"] > 50000].shape[0]\n",
    "\n",
    "    return pd.DataFrame(\n",
    "        {\n",
    "            \"category\": [\"Low Salary\", \"Average Salary\", \"High Salary\"],\n",
    "            \"accounts_count\": [\n",
    "                low_salary_count,\n",
    "                average_salary_count,\n",
    "                high_salary_count,\n",
    "            ],\n",
    "        }\n",
    "    )"
   ]
  },
  {
   "cell_type": "code",
   "execution_count": null,
   "metadata": {},
   "outputs": [],
   "source": [
    "count_sr = df.groupby(\"A\").size()\n",
    "res_sr = count_sr[count_sr > 1]\n",
    "pd.DataFrame({\"A\": res_sr.index}).merge(df, on=\"A\")"
   ]
  },
  {
   "cell_type": "code",
   "execution_count": null,
   "metadata": {},
   "outputs": [],
   "source": [
    "count_df = df.groupby(\"A\").size().reset_index(name=\"count\")\n",
    "# count_df.merge(df, left_on=\"A\", right_on=\"A\")\n",
    "# count_sr[count_sr > 1]"
   ]
  },
  {
   "cell_type": "code",
   "execution_count": 12,
   "metadata": {},
   "outputs": [
    {
     "data": {
      "text/html": [
       "<div>\n",
       "<style scoped>\n",
       "    .dataframe tbody tr th:only-of-type {\n",
       "        vertical-align: middle;\n",
       "    }\n",
       "\n",
       "    .dataframe tbody tr th {\n",
       "        vertical-align: top;\n",
       "    }\n",
       "\n",
       "    .dataframe thead th {\n",
       "        text-align: right;\n",
       "    }\n",
       "</style>\n",
       "<table border=\"1\" class=\"dataframe\">\n",
       "  <thead>\n",
       "    <tr style=\"text-align: right;\">\n",
       "      <th></th>\n",
       "      <th>A</th>\n",
       "      <th>B</th>\n",
       "      <th>C</th>\n",
       "      <th>D</th>\n",
       "    </tr>\n",
       "  </thead>\n",
       "  <tbody>\n",
       "    <tr>\n",
       "      <th>0</th>\n",
       "      <td>1.0</td>\n",
       "      <td>6.0</td>\n",
       "      <td>a</td>\n",
       "      <td>1</td>\n",
       "    </tr>\n",
       "    <tr>\n",
       "      <th>6</th>\n",
       "      <td>1.0</td>\n",
       "      <td>0.0</td>\n",
       "      <td>a</td>\n",
       "      <td>2</td>\n",
       "    </tr>\n",
       "  </tbody>\n",
       "</table>\n",
       "</div>"
      ],
      "text/plain": [
       "     A    B  C  D\n",
       "0  1.0  6.0  a  1\n",
       "6  1.0  0.0  a  2"
      ]
     },
     "execution_count": 12,
     "metadata": {},
     "output_type": "execute_result"
    }
   ],
   "source": [
    "count_sr = (\n",
    "    df.groupby(\"A\", as_index=False)\n",
    "    .agg(\n",
    "        num_rows=(\"D\", \"count\"),\n",
    "    )\n",
    "    .query(\"num_rows >= 2\")[\"A\"]\n",
    ")\n",
    "\n",
    "df[df[\"A\"].isin(count_sr)]"
   ]
  },
  {
   "cell_type": "code",
   "execution_count": null,
   "metadata": {},
   "outputs": [],
   "source": [
    "def find_managers(employee: pd.DataFrame) -> pd.DataFrame:\n",
    "    count_sr = employee.groupby(\"managerId\").size()\n",
    "    res_sr = count_sr[count_sr >= 5]\n",
    "    return pd.DataFrame({\"id\": res_sr.index}).merge(employee, on=\"id\")[\n",
    "        [\"name\"]\n",
    "    ]\n",
    "\n",
    "\n",
    "def find_managers_v2(employee: pd.DataFrame) -> pd.DataFrame:\n",
    "    managers = (\n",
    "        employee.groupby(\"managerId\", as_index=False)\n",
    "        .agg(\n",
    "            direct_reports=(\"id\", \"count\"),\n",
    "        )\n",
    "        .query(\"direct_reports >= 5\")[\"managerId\"]\n",
    "    )\n",
    "\n",
    "    return employee[employee[\"id\"].isin(managers)][[\"name\"]]\n",
    "\n",
    "\n",
    "def find_managers_v3(employee: pd.DataFrame) -> pd.DataFrame:\n",
    "    manager_df = (\n",
    "        employee.groupby(\"managerId\").size().reset_index(name=\"direct_reports\")\n",
    "    )\n",
    "    manager_df = manager_df[manager_df[\"direct_reports\"] >= 5]\n",
    "    return manager_df.merge(\n",
    "        employee[[\"id\", \"name\"]], left_on=\"managerId\", right_on=\"id\"\n",
    "    )[[\"name\"]]"
   ]
  },
  {
   "cell_type": "code",
   "execution_count": null,
   "metadata": {},
   "outputs": [],
   "source": []
  },
  {
   "cell_type": "code",
   "execution_count": null,
   "metadata": {},
   "outputs": [],
   "source": []
  },
  {
   "cell_type": "markdown",
   "metadata": {},
   "source": [
    "# Test"
   ]
  },
  {
   "cell_type": "code",
   "execution_count": null,
   "metadata": {},
   "outputs": [],
   "source": [
    "a = {\"a\": [1, 3], \"b\": [5], \"c\": [0, 2, 4]}\n",
    "max(a.items(), key=lambda x: len(x[1]))"
   ]
  },
  {
   "cell_type": "code",
   "execution_count": null,
   "metadata": {},
   "outputs": [],
   "source": [
    "for i in range(1, 3):\n",
    "    print(i)"
   ]
  },
  {
   "cell_type": "code",
   "execution_count": null,
   "metadata": {},
   "outputs": [],
   "source": [
    "a = \"abc\"\n",
    "set(a)"
   ]
  },
  {
   "cell_type": "code",
   "execution_count": null,
   "metadata": {},
   "outputs": [],
   "source": [
    "stack = deque(\"abc\")\n",
    "stack"
   ]
  },
  {
   "cell_type": "code",
   "execution_count": null,
   "metadata": {},
   "outputs": [],
   "source": [
    "str(list(stack))"
   ]
  },
  {
   "cell_type": "code",
   "execution_count": null,
   "metadata": {},
   "outputs": [],
   "source": [
    "a = \"a\""
   ]
  },
  {
   "cell_type": "code",
   "execution_count": null,
   "metadata": {},
   "outputs": [],
   "source": [
    "ord(\"a\") - 97"
   ]
  },
  {
   "cell_type": "code",
   "execution_count": null,
   "metadata": {},
   "outputs": [],
   "source": [
    "[[]] * 2"
   ]
  },
  {
   "cell_type": "code",
   "execution_count": null,
   "metadata": {},
   "outputs": [],
   "source": [
    "len({})"
   ]
  },
  {
   "cell_type": "code",
   "execution_count": null,
   "metadata": {},
   "outputs": [],
   "source": [
    "chr(97)"
   ]
  },
  {
   "cell_type": "code",
   "execution_count": null,
   "metadata": {},
   "outputs": [],
   "source": [
    "ord(\"A\")"
   ]
  },
  {
   "cell_type": "code",
   "execution_count": null,
   "metadata": {},
   "outputs": [],
   "source": [
    "# Disjoint Set Union\n",
    "# https://cp-algorithms.com/data_structures/disjoint_set_union.html\n",
    "class SimpleUnionFind:\n",
    "    parent: Dict[int, int] = {}\n",
    "\n",
    "    def __init__(self, num_elems: int):\n",
    "        for i in range(num_elems):\n",
    "            self.parent[i] = i\n",
    "\n",
    "    def find_set(self, elem: int):\n",
    "        if self.parent[elem] == elem:\n",
    "            return elem\n",
    "        return self.find_set(self.parent[elem])\n",
    "\n",
    "    def union_sets(self, elem_1: int, elem_2: int):\n",
    "        set_1 = self.find_set(elem_1)\n",
    "        set_2 = self.find_set(elem_2)\n",
    "        self.parent[set_2] = set_1"
   ]
  },
  {
   "cell_type": "code",
   "execution_count": null,
   "metadata": {},
   "outputs": [],
   "source": [
    "#\n",
    "class UnionFind:  # DisjointSetUnion\n",
    "    parent: List[int]\n",
    "    rank: List[int]\n",
    "\n",
    "    def __init__(self, num_elems: int):\n",
    "        self.parent = list(range(num_elems))\n",
    "        self.rank = [0] * num_elems\n",
    "\n",
    "    def find_set(self, elem: int):\n",
    "        if self.parent[elem] == elem:\n",
    "            return elem\n",
    "        return self.find_set(self.parent[elem])\n",
    "\n",
    "    def union_sets(self, elem_1, elem_2):\n",
    "        set_1 = self.find_set(elem_1)\n",
    "        set_2 = self.find_set(elem_2)\n",
    "\n",
    "        if self.rank[set_1] < self.rank[set_2]:\n",
    "            self.parent[set_1] = set_2\n",
    "        elif self.rank[set_1] > self.rank[set_2]:\n",
    "            self.parent[set_2] = set_1\n",
    "        else:\n",
    "            self.parent[set_1] = set_2\n",
    "            self.rank[set_2] += 1"
   ]
  },
  {
   "cell_type": "code",
   "execution_count": null,
   "metadata": {},
   "outputs": [],
   "source": [
    "#\n",
    "class UnionFind:  # DisjointSetUnion\n",
    "    parent: List[int]\n",
    "    rank: List[int]\n",
    "\n",
    "    def __init__(self, num_elems: int):\n",
    "        self.parent = list(range(num_elems))\n",
    "        self.rank = [0] * num_elems\n",
    "\n",
    "    def find_set(self, elem: int):\n",
    "        if self.parent[elem] == elem:\n",
    "            return elem\n",
    "        self.parent[elem] = self.find_set(self.parent[elem])\n",
    "        return self.parent[elem]\n",
    "\n",
    "    def union_sets(self, elem_1, elem_2):\n",
    "        set_1 = self.find_set(elem_1)\n",
    "        set_2 = self.find_set(elem_2)\n",
    "\n",
    "        if self.rank[set_1] < self.rank[set_2]:\n",
    "            self.parent[set_1] = set_2\n",
    "        elif self.rank[set_1] > self.rank[set_2]:\n",
    "            self.parent[set_2] = set_1\n",
    "        else:\n",
    "            self.parent[set_1] = set_2\n",
    "            self.rank[set_2] += 1"
   ]
  },
  {
   "cell_type": "code",
   "execution_count": null,
   "metadata": {},
   "outputs": [],
   "source": []
  }
 ],
 "metadata": {
  "kernelspec": {
   "display_name": "Python 3",
   "language": "python",
   "name": "python3"
  },
  "language_info": {
   "codemirror_mode": {
    "name": "ipython",
    "version": 3
   },
   "file_extension": ".py",
   "mimetype": "text/x-python",
   "name": "python",
   "nbconvert_exporter": "python",
   "pygments_lexer": "ipython3",
   "version": "3.8.10"
  }
 },
 "nbformat": 4,
 "nbformat_minor": 2
}
