{
 "cells": [
  {
   "cell_type": "code",
   "execution_count": 1,
   "metadata": {},
   "outputs": [],
   "source": [
    "from typing import List, Dict, Optional\n",
    "from collections import deque, Counter\n",
    "from sortedcontainers import SortedList\n",
    "\n",
    "# support for maintaining a list in sorted order\n",
    "# without having to sort the list after each insertion\n",
    "import bisect\n",
    "from heapq import heappop, heappush\n",
    "\n",
    "\n",
    "class Solution:\n",
    "    def maximumSafenessFactor(self, grid: List[List[int]]) -> int:\n",
    "        thieves = []\n",
    "        m, n = len(grid), len(grid[0])\n",
    "        for i in range(m):\n",
    "            for j in range(n):\n",
    "                if grid[i][j] == 1:\n",
    "                    thieves.append([i, j])\n",
    "\n",
    "        visited = [[0] * n for _ in range(m)]\n",
    "        distance = [[0] * n for _ in range(m)]\n",
    "\n",
    "        # find the minimum mahatten distance of each cell to theives\n",
    "        depth = 0\n",
    "        while thieves:\n",
    "            new_thieves = []\n",
    "            for i, j in thieves:\n",
    "                if not visited[i][j]:\n",
    "                    visited[i][j] = 1\n",
    "                    distance[i][j] = depth\n",
    "                    for x, y in [[i + 1, j], [i - 1, j], [i, j + 1], [i, j - 1]]:\n",
    "                        if 0 <= x < m and 0 <= y < n:\n",
    "                            new_thieves.append([x, y])\n",
    "            thieves = new_thieves\n",
    "            depth += 1\n",
    "\n",
    "        # start from 0,0 and use dijkstra\n",
    "        visited = [[0] * n for _ in range(m)]\n",
    "        pq = [[-distance[0][0], 0, 0]]\n",
    "        while pq:\n",
    "            dis, i, j = heappop(pq)\n",
    "            if visited[i][j]:\n",
    "                continue\n",
    "            visited[i][j] = 1\n",
    "            if i == m - 1 and j == n - 1:\n",
    "                return -dis\n",
    "\n",
    "            for x, y in [[i + 1, j], [i - 1, j], [i, j + 1], [i, j - 1]]:\n",
    "                if 0 <= x < m and 0 <= y < n:\n",
    "                    heappush(pq, [-min(-dis, distance[x][y]), x, y])\n",
    "\n",
    "        return -1"
   ]
  },
  {
   "cell_type": "code",
   "execution_count": null,
   "metadata": {},
   "outputs": [],
   "source": []
  }
 ],
 "metadata": {
  "kernelspec": {
   "display_name": "base",
   "language": "python",
   "name": "python3"
  },
  "language_info": {
   "codemirror_mode": {
    "name": "ipython",
    "version": 3
   },
   "file_extension": ".py",
   "mimetype": "text/x-python",
   "name": "python",
   "nbconvert_exporter": "python",
   "pygments_lexer": "ipython3",
   "version": "3.8.5"
  }
 },
 "nbformat": 4,
 "nbformat_minor": 2
}
