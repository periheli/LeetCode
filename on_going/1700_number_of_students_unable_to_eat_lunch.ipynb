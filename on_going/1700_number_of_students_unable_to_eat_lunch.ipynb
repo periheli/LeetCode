{
 "cells": [
  {
   "cell_type": "code",
   "execution_count": null,
   "metadata": {},
   "outputs": [],
   "source": [
    "from typing import List"
   ]
  },
  {
   "cell_type": "code",
   "execution_count": null,
   "metadata": {},
   "outputs": [],
   "source": [
    "class Solution:\n",
    "    def countStudents(self, students: List[int], sandwiches: List[int]) -> int:\n",
    "        num_students = len(students)\n",
    "        student_1_counter = sum(students)\n",
    "        student_0_counter = len(students) - student_1_counter\n",
    "\n",
    "        for sandwich in sandwiches:\n",
    "            if sandwich:\n",
    "                if student_1_counter == 0:\n",
    "                    return student_0_counter\n",
    "                student_1_counter -= 1\n",
    "            else:\n",
    "                if student_0_counter == 0:\n",
    "                    return student_1_counter\n",
    "                student_0_counter -= 1\n",
    "\n",
    "        return 0"
   ]
  }
 ],
 "metadata": {
  "kernelspec": {
   "display_name": "base",
   "language": "python",
   "name": "python3"
  },
  "language_info": {
   "name": "python",
   "version": "3.8.5"
  }
 },
 "nbformat": 4,
 "nbformat_minor": 2
}
