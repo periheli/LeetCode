{
 "cells": [
  {
   "cell_type": "code",
   "execution_count": 1,
   "metadata": {},
   "outputs": [],
   "source": [
    "from typing import List"
   ]
  },
  {
   "cell_type": "code",
   "execution_count": null,
   "metadata": {},
   "outputs": [],
   "source": [
    "class Solution:\n",
    "    def maxProfit(self, prices: List[int]) -> int:\n",
    "        cur_min_price = prices[0]\n",
    "        cur_max_price = prices[0]\n",
    "        max_profit = 0\n",
    "        for price in prices[1:]:\n",
    "            if price < cur_min_price:\n",
    "                cur_min_price = price\n",
    "                cur_max_price = price\n",
    "            elif price > cur_max_price:\n",
    "                cur_max_price = price\n",
    "                if cur_max_price - cur_min_price > max_profit:\n",
    "                    max_profit = cur_max_price - cur_min_price\n",
    "\n",
    "        return max_profit\n",
    "\n",
    "    def maxProfit(self, prices: List[int]) -> int:\n",
    "        min_price = prices[0]\n",
    "        max_profit = 0\n",
    "        for price in prices[1:]:\n",
    "            if price < min_price:\n",
    "                min_price = price\n",
    "            elif price - min_price > max_profit:\n",
    "                max_profit = price - min_price\n",
    "\n",
    "        return max_profit\n",
    "\n",
    "    with open(\"user.out\", \"w\") as f:\n",
    "        for case in map(loads, stdin):\n",
    "            f.write(f\"{maxProfit(case)}\\n\")\n",
    "    exit(0)"
   ]
  }
 ],
 "metadata": {
  "kernelspec": {
   "display_name": "base",
   "language": "python",
   "name": "python3"
  },
  "language_info": {
   "codemirror_mode": {
    "name": "ipython",
    "version": 3
   },
   "file_extension": ".py",
   "mimetype": "text/x-python",
   "name": "python",
   "nbconvert_exporter": "python",
   "pygments_lexer": "ipython3",
   "version": "3.8.5"
  }
 },
 "nbformat": 4,
 "nbformat_minor": 2
}
