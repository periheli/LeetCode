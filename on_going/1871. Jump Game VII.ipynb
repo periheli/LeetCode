{
 "cells": [
  {
   "cell_type": "code",
   "execution_count": 19,
   "metadata": {},
   "outputs": [],
   "source": [
    "from typing import List, Dict, Optional\n",
    "from collections import deque\n",
    "from sortedcontainers import SortedList\n",
    "\n",
    "# support for maintaining a list in sorted order\n",
    "# without having to sort the list after each insertion\n",
    "import bisect\n",
    "\n",
    "\n",
    "class Solution:\n",
    "    def canReach(self, s: str, minJump: int, maxJump: int) -> bool:\n",
    "        if s[-1] == \"1\":\n",
    "            return False\n",
    "\n",
    "        n = len(s)\n",
    "        index_stack = deque([0])\n",
    "        visited_index_set = set()\n",
    "        while len(index_stack) > 0:\n",
    "            index = index_stack.pop()\n",
    "            visited_index_set.add(index)\n",
    "            if index + minJump <= n - 1:\n",
    "                if index + maxJump >= n - 1:\n",
    "                    return True\n",
    "\n",
    "                for i in range(index + maxJump, index + minJump - 1, -1):\n",
    "                    if s[i] == \"0\" and i not in visited_index_set:\n",
    "                        index_stack.append(i)\n",
    "                        if i + minJump <= index + maxJump + 1:\n",
    "                            break\n",
    "            # print(index_stack)\n",
    "\n",
    "        return False"
   ]
  },
  {
   "cell_type": "code",
   "execution_count": 20,
   "metadata": {},
   "outputs": [
    {
     "data": {
      "text/plain": [
       "False"
      ]
     },
     "execution_count": 20,
     "metadata": {},
     "output_type": "execute_result"
    }
   ],
   "source": [
    "minJump = 7\n",
    "maxJump = 13\n",
    "s = \"010111100110011001111001000011110100000110101111010101110011111100000100011011001111001110011111001001101000000110101101100001000111110000100110000011000110001111001011111100000000110110000000001010000110111101011111010010001000011011000011111110000000\"\n",
    "Solution().canReach(s, minJump, maxJump)"
   ]
  }
 ],
 "metadata": {
  "kernelspec": {
   "display_name": "base",
   "language": "python",
   "name": "python3"
  },
  "language_info": {
   "codemirror_mode": {
    "name": "ipython",
    "version": 3
   },
   "file_extension": ".py",
   "mimetype": "text/x-python",
   "name": "python",
   "nbconvert_exporter": "python",
   "pygments_lexer": "ipython3",
   "version": "3.8.5"
  }
 },
 "nbformat": 4,
 "nbformat_minor": 2
}
