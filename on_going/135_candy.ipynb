{
 "cells": [
  {
   "cell_type": "code",
   "execution_count": 2,
   "metadata": {},
   "outputs": [],
   "source": [
    "from typing import List"
   ]
  },
  {
   "cell_type": "code",
   "execution_count": null,
   "metadata": {},
   "outputs": [],
   "source": [
    "[1, 6, 10, 8, 7, 3, 2]"
   ]
  },
  {
   "cell_type": "code",
   "execution_count": null,
   "metadata": {},
   "outputs": [],
   "source": [
    "class Solution:\n",
    "    def candy(self, ratings: List[int]) -> int:\n",
    "        def sum_n(n: int):\n",
    "            return n * (n + 1) // 2\n",
    "\n",
    "        num_candies = 0\n",
    "        direction = 0\n",
    "        last_top_counter = 0\n",
    "        counter = 1\n",
    "\n",
    "        for i in range(1, len(ratings)):\n",
    "            if ratings[i] == ratings[i - 1]:\n",
    "                num_candies += sum_n(counter)\n",
    "                if direction == -1 and last_top_counter > counter:\n",
    "                    num_candies += last_top_counter - counter\n",
    "\n",
    "                direction = 0\n",
    "                last_top_counter = 0\n",
    "                counter = 1\n",
    "\n",
    "            elif ratings[i] > ratings[i - 1]:\n",
    "                if direction == -1:\n",
    "                    num_candies += (sum_n(counter) - 1)\n",
    "                    if last_top_counter > counter:\n",
    "                        num_candies += last_top_counter - counter\n",
    "                    counter = 2\n",
    "                else:\n",
    "                    counter += 1\n",
    "\n",
    "                direction = 1\n",
    "                last_top_counter = 0\n",
    "            else:\n",
    "                if direction == 1:\n",
    "                    num_candies += sum_n(counter-1)\n",
    "                    last_top_counter = counter\n",
    "                    counter = 2\n",
    "                else:\n",
    "                    counter += 1\n",
    "\n",
    "                direction = -1\n",
    "\n",
    "        num_candies += sum_n(counter)\n",
    "        if direction == -1 and last_top_counter > counter:\n",
    "            num_candies += last_top_counter - counter\n",
    "\n",
    "        return num_candies"
   ]
  }
 ],
 "metadata": {
  "kernelspec": {
   "display_name": "base",
   "language": "python",
   "name": "python3"
  },
  "language_info": {
   "codemirror_mode": {
    "name": "ipython",
    "version": 3
   },
   "file_extension": ".py",
   "mimetype": "text/x-python",
   "name": "python",
   "nbconvert_exporter": "python",
   "pygments_lexer": "ipython3",
   "version": "3.8.5"
  }
 },
 "nbformat": 4,
 "nbformat_minor": 2
}
