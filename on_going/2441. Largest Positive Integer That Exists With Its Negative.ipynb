{
 "cells": [
  {
   "cell_type": "code",
   "execution_count": 1,
   "metadata": {},
   "outputs": [],
   "source": [
    "from typing import List"
   ]
  },
  {
   "cell_type": "code",
   "execution_count": null,
   "metadata": {},
   "outputs": [],
   "source": [
    "class Solution:\n",
    "\n",
    "    def findMaxK(self, nums: List[int]) -> int:\n",
    "        neg_set = set([num for num in nums if num < 0])\n",
    "        res = -1\n",
    "\n",
    "        for num in nums:\n",
    "            if num > res and -num in neg_set:\n",
    "                res = num\n",
    "\n",
    "        return res\n",
    "\n",
    "    def findMaxK(self, nums: List[int]) -> int:\n",
    "        num_set = set(nums)\n",
    "        res = -1\n",
    "\n",
    "        for num in num_set:\n",
    "            if num > res and -num in num_set:\n",
    "                res = num\n",
    "\n",
    "        return res\n",
    "\n",
    "    def findMaxK(self, nums: List[int]) -> int:\n",
    "        num_set = set(nums)\n",
    "        return max({num for num in num_set if -num in num_set}, default=-1)"
   ]
  }
 ],
 "metadata": {
  "kernelspec": {
   "display_name": "base",
   "language": "python",
   "name": "python3"
  },
  "language_info": {
   "codemirror_mode": {
    "name": "ipython",
    "version": 3
   },
   "file_extension": ".py",
   "mimetype": "text/x-python",
   "name": "python",
   "nbconvert_exporter": "python",
   "pygments_lexer": "ipython3",
   "version": "3.8.5"
  }
 },
 "nbformat": 4,
 "nbformat_minor": 2
}
