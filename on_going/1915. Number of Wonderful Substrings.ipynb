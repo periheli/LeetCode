{
 "cells": [
  {
   "cell_type": "code",
   "execution_count": 71,
   "metadata": {},
   "outputs": [],
   "source": [
    "class Solution:\n",
    "    def wonderfulSubstrings(self, word: str) -> int:\n",
    "        n = len(word)\n",
    "        char_set = set(word)\n",
    "        is_odd_dp = [\n",
    "            [{c: False for c in char_set} for _ in range(i)]\n",
    "            + [{c: c == word[i] for c in char_set}]\n",
    "            for i in range(n)\n",
    "        ]\n",
    "        num_odd_dp = [[0] * i + [1] for i in range(n)]\n",
    "        print(is_odd_dp)\n",
    "        print(num_odd_dp)\n",
    "        res = n\n",
    "        for row, char in enumerate(word):\n",
    "            for col in range(row):\n",
    "                if is_odd_dp[row - 1][col][char]:\n",
    "                    is_odd_dp[row][col] = {\n",
    "                        **is_odd_dp[row - 1][col],\n",
    "                        char: False,\n",
    "                    }\n",
    "                    num_odd_dp[row][col] = num_odd_dp[row - 1][col] - 1\n",
    "                else:\n",
    "                    is_odd_dp[row][col] = {\n",
    "                        **is_odd_dp[row - 1][col],\n",
    "                        char: True,\n",
    "                    }\n",
    "                    num_odd_dp[row][col] = num_odd_dp[row - 1][col] + 1\n",
    "\n",
    "                if num_odd_dp[row][col] <= 1:\n",
    "                    res += 1\n",
    "\n",
    "            print(is_odd_dp)\n",
    "            print(num_odd_dp)\n",
    "\n",
    "        return res\n",
    "\n",
    "    def wonderfulSubstrings(self, word: str) -> int:\n",
    "        n = len(word)\n",
    "        char_set = set(word)\n",
    "        prev_is_odd = []\n",
    "        prev_num_odd = []\n",
    "\n",
    "        res = n\n",
    "        for row, char in enumerate(word):\n",
    "            cur_is_odd = [{c: False for c in char_set} for _ in range(row)] + [\n",
    "                {c: c == char for c in char_set}\n",
    "            ]\n",
    "            cur_num_odd = [0] * row + [1]\n",
    "            for col in range(row):\n",
    "                if prev_is_odd[col][char]:\n",
    "                    cur_is_odd[col] = {\n",
    "                        **prev_is_odd[col],\n",
    "                        char: False,\n",
    "                    }\n",
    "                    cur_num_odd[col] = prev_num_odd[col] - 1\n",
    "                else:\n",
    "                    cur_is_odd[col] = {\n",
    "                        **prev_is_odd[col],\n",
    "                        char: True,\n",
    "                    }\n",
    "                    cur_num_odd[col] = prev_num_odd[col] + 1\n",
    "\n",
    "                if cur_num_odd[col] <= 1:\n",
    "                    res += 1\n",
    "\n",
    "            prev_is_odd = cur_is_odd\n",
    "            prev_num_odd = cur_num_odd\n",
    "            print(prev_is_odd)\n",
    "            print(prev_num_odd)\n",
    "\n",
    "        return res"
   ]
  },
  {
   "cell_type": "code",
   "execution_count": 72,
   "metadata": {},
   "outputs": [
    {
     "data": {
      "text/plain": [
       "{'a', 'b', 'c'}"
      ]
     },
     "execution_count": 72,
     "metadata": {},
     "output_type": "execute_result"
    }
   ],
   "source": [
    "set(\"abccc\")"
   ]
  },
  {
   "cell_type": "code",
   "execution_count": 73,
   "metadata": {},
   "outputs": [
    {
     "data": {
      "text/plain": [
       "{1: 1, 2: 3}"
      ]
     },
     "execution_count": 73,
     "metadata": {},
     "output_type": "execute_result"
    }
   ],
   "source": [
    "{**{1: 1, 2: 2}, 2:3}"
   ]
  },
  {
   "cell_type": "code",
   "execution_count": 74,
   "metadata": {},
   "outputs": [
    {
     "name": "stdout",
     "output_type": "stream",
     "text": [
      "[{'d': False, 'i': False, 'f': True, 'h': False, 'b': False, 'e': False, 'c': False, 'a': False}]\n",
      "[1]\n",
      "[{'d': False, 'i': True, 'f': True, 'h': False, 'b': False, 'e': False, 'c': False, 'a': False}, {'d': False, 'i': True, 'f': False, 'h': False, 'b': False, 'e': False, 'c': False, 'a': False}]\n",
      "[2, 1]\n",
      "[{'d': False, 'i': True, 'f': True, 'h': False, 'b': False, 'e': False, 'c': False, 'a': True}, {'d': False, 'i': True, 'f': False, 'h': False, 'b': False, 'e': False, 'c': False, 'a': True}, {'d': False, 'i': False, 'f': False, 'h': False, 'b': False, 'e': False, 'c': False, 'a': True}]\n",
      "[3, 2, 1]\n",
      "[{'d': False, 'i': True, 'f': True, 'h': False, 'b': True, 'e': False, 'c': False, 'a': True}, {'d': False, 'i': True, 'f': False, 'h': False, 'b': True, 'e': False, 'c': False, 'a': True}, {'d': False, 'i': False, 'f': False, 'h': False, 'b': True, 'e': False, 'c': False, 'a': True}, {'d': False, 'i': False, 'f': False, 'h': False, 'b': True, 'e': False, 'c': False, 'a': False}]\n",
      "[4, 3, 2, 1]\n",
      "[{'d': False, 'i': True, 'f': True, 'h': True, 'b': True, 'e': False, 'c': False, 'a': True}, {'d': False, 'i': True, 'f': False, 'h': True, 'b': True, 'e': False, 'c': False, 'a': True}, {'d': False, 'i': False, 'f': False, 'h': True, 'b': True, 'e': False, 'c': False, 'a': True}, {'d': False, 'i': False, 'f': False, 'h': True, 'b': True, 'e': False, 'c': False, 'a': False}, {'d': False, 'i': False, 'f': False, 'h': True, 'b': False, 'e': False, 'c': False, 'a': False}]\n",
      "[5, 4, 3, 2, 1]\n",
      "[{'d': False, 'i': True, 'f': True, 'h': True, 'b': True, 'e': True, 'c': False, 'a': True}, {'d': False, 'i': True, 'f': False, 'h': True, 'b': True, 'e': True, 'c': False, 'a': True}, {'d': False, 'i': False, 'f': False, 'h': True, 'b': True, 'e': True, 'c': False, 'a': True}, {'d': False, 'i': False, 'f': False, 'h': True, 'b': True, 'e': True, 'c': False, 'a': False}, {'d': False, 'i': False, 'f': False, 'h': True, 'b': False, 'e': True, 'c': False, 'a': False}, {'d': False, 'i': False, 'f': False, 'h': False, 'b': False, 'e': True, 'c': False, 'a': False}]\n",
      "[6, 5, 4, 3, 2, 1]\n",
      "[{'d': True, 'i': True, 'f': True, 'h': True, 'b': True, 'e': True, 'c': False, 'a': True}, {'d': True, 'i': True, 'f': False, 'h': True, 'b': True, 'e': True, 'c': False, 'a': True}, {'d': True, 'i': False, 'f': False, 'h': True, 'b': True, 'e': True, 'c': False, 'a': True}, {'d': True, 'i': False, 'f': False, 'h': True, 'b': True, 'e': True, 'c': False, 'a': False}, {'d': True, 'i': False, 'f': False, 'h': True, 'b': False, 'e': True, 'c': False, 'a': False}, {'d': True, 'i': False, 'f': False, 'h': False, 'b': False, 'e': True, 'c': False, 'a': False}, {'d': True, 'i': False, 'f': False, 'h': False, 'b': False, 'e': False, 'c': False, 'a': False}]\n",
      "[7, 6, 5, 4, 3, 2, 1]\n",
      "[{'d': True, 'i': True, 'f': True, 'h': True, 'b': True, 'e': True, 'c': True, 'a': True}, {'d': True, 'i': True, 'f': False, 'h': True, 'b': True, 'e': True, 'c': True, 'a': True}, {'d': True, 'i': False, 'f': False, 'h': True, 'b': True, 'e': True, 'c': True, 'a': True}, {'d': True, 'i': False, 'f': False, 'h': True, 'b': True, 'e': True, 'c': True, 'a': False}, {'d': True, 'i': False, 'f': False, 'h': True, 'b': False, 'e': True, 'c': True, 'a': False}, {'d': True, 'i': False, 'f': False, 'h': False, 'b': False, 'e': True, 'c': True, 'a': False}, {'d': True, 'i': False, 'f': False, 'h': False, 'b': False, 'e': False, 'c': True, 'a': False}, {'d': False, 'i': False, 'f': False, 'h': False, 'b': False, 'e': False, 'c': True, 'a': False}]\n",
      "[8, 7, 6, 5, 4, 3, 2, 1]\n",
      "[{'d': True, 'i': True, 'f': True, 'h': True, 'b': True, 'e': False, 'c': True, 'a': True}, {'d': True, 'i': True, 'f': False, 'h': True, 'b': True, 'e': False, 'c': True, 'a': True}, {'d': True, 'i': False, 'f': False, 'h': True, 'b': True, 'e': False, 'c': True, 'a': True}, {'d': True, 'i': False, 'f': False, 'h': True, 'b': True, 'e': False, 'c': True, 'a': False}, {'d': True, 'i': False, 'f': False, 'h': True, 'b': False, 'e': False, 'c': True, 'a': False}, {'d': True, 'i': False, 'f': False, 'h': False, 'b': False, 'e': False, 'c': True, 'a': False}, {'d': True, 'i': False, 'f': False, 'h': False, 'b': False, 'e': True, 'c': True, 'a': False}, {'d': False, 'i': False, 'f': False, 'h': False, 'b': False, 'e': True, 'c': True, 'a': False}, {'d': False, 'i': False, 'f': False, 'h': False, 'b': False, 'e': True, 'c': False, 'a': False}]\n",
      "[7, 6, 5, 4, 3, 2, 3, 2, 1]\n"
     ]
    },
    {
     "data": {
      "text/plain": [
       "9"
      ]
     },
     "execution_count": 74,
     "metadata": {},
     "output_type": "execute_result"
    }
   ],
   "source": [
    "word = \"fiabhedce\"\n",
    "Solution().wonderfulSubstrings(word)"
   ]
  },
  {
   "cell_type": "code",
   "execution_count": null,
   "metadata": {},
   "outputs": [],
   "source": []
  }
 ],
 "metadata": {
  "kernelspec": {
   "display_name": "base",
   "language": "python",
   "name": "python3"
  },
  "language_info": {
   "codemirror_mode": {
    "name": "ipython",
    "version": 3
   },
   "file_extension": ".py",
   "mimetype": "text/x-python",
   "name": "python",
   "nbconvert_exporter": "python",
   "pygments_lexer": "ipython3",
   "version": "3.8.5"
  }
 },
 "nbformat": 4,
 "nbformat_minor": 2
}
