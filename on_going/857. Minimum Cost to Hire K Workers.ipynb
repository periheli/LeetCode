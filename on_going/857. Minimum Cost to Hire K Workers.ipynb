{
 "cells": [
  {
   "cell_type": "code",
   "execution_count": 1,
   "metadata": {},
   "outputs": [],
   "source": [
    "from typing import List, Dict, Optional\n",
    "from collections import deque, Counter\n",
    "from sortedcontainers import SortedList\n",
    "\n",
    "# support for maintaining a list in sorted order\n",
    "# without having to sort the list after each insertion\n",
    "import bisect\n",
    "\n",
    "\n",
    "class Solution:\n",
    "    def mincostToHireWorkers(self, quality: List[int], wage: List[int], k: int) -> float:\n",
    "        "
   ]
  },
  {
   "cell_type": "code",
   "execution_count": null,
   "metadata": {},
   "outputs": [],
   "source": [
    "[2, 4, 1]\n",
    "[7/3, 5/3, 1]\n",
    "\n",
    "\n",
    "[7/3, 4, 1]\n",
    "\n",
    "\n",
    "[3, 1, 10, 10, 1]\n",
    "\n",
    "[4/7, 8/7, 2/7, 2/7, 1]\n",
    "\n",
    "[3, 8, 10, 10, 7]\n",
    "\n",
    "\n",
    "\n",
    "\n",
    "(3 + 10 + 10) * (4/7)\n",
    "\n",
    "\n",
    "[4/7, 8, ]\n"
   ]
  }
 ],
 "metadata": {
  "kernelspec": {
   "display_name": "base",
   "language": "python",
   "name": "python3"
  },
  "language_info": {
   "codemirror_mode": {
    "name": "ipython",
    "version": 3
   },
   "file_extension": ".py",
   "mimetype": "text/x-python",
   "name": "python",
   "nbconvert_exporter": "python",
   "pygments_lexer": "ipython3",
   "version": "3.8.5"
  }
 },
 "nbformat": 4,
 "nbformat_minor": 2
}
