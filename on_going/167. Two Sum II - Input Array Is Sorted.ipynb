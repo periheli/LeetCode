{
 "cells": [
  {
   "cell_type": "code",
   "execution_count": 1,
   "metadata": {},
   "outputs": [],
   "source": [
    "from typing import List"
   ]
  },
  {
   "cell_type": "code",
   "execution_count": null,
   "metadata": {},
   "outputs": [],
   "source": [
    "class Solution:\n",
    "    def twoSum(self, numbers: List[int], target: int) -> List[int]:\n",
    "        left_pointer = 0\n",
    "        right_pointer = len(numbers) - 1\n",
    "\n",
    "        # while left_pointer < right_pointer:\n",
    "        for _ in range(right_pointer):\n",
    "            two_sum = numbers[left_pointer] + numbers[right_pointer]\n",
    "            if two_sum > target:\n",
    "                right_pointer -= 1\n",
    "            elif two_sum < target:\n",
    "                left_pointer += 1\n",
    "            else:\n",
    "                return [left_pointer + 1, right_pointer + 1]"
   ]
  },
  {
   "cell_type": "markdown",
   "metadata": {},
   "source": []
  }
 ],
 "metadata": {
  "kernelspec": {
   "display_name": "base",
   "language": "python",
   "name": "python3"
  },
  "language_info": {
   "codemirror_mode": {
    "name": "ipython",
    "version": 3
   },
   "file_extension": ".py",
   "mimetype": "text/x-python",
   "name": "python",
   "nbconvert_exporter": "python",
   "pygments_lexer": "ipython3",
   "version": "3.8.5"
  }
 },
 "nbformat": 4,
 "nbformat_minor": 2
}
