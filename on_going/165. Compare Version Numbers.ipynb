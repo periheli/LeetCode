{
 "cells": [
  {
   "cell_type": "code",
   "execution_count": 15,
   "metadata": {},
   "outputs": [],
   "source": [
    "from typing import List"
   ]
  },
  {
   "cell_type": "code",
   "execution_count": 16,
   "metadata": {},
   "outputs": [],
   "source": [
    "class Solution:\n",
    "    def compareVersion(self, version1: str, version2: str) -> int:\n",
    "\n",
    "        def compare_2_list(list_1: List[int], list_2: List[int]):\n",
    "            for a, b in zip(list_1, list_2):\n",
    "                if a < b:\n",
    "                    return -1\n",
    "                if a > b:\n",
    "                    return 1\n",
    "\n",
    "            for num in list_2[len(list_1) :]:\n",
    "                if num > 0:\n",
    "                    return -1\n",
    "\n",
    "            return 0\n",
    "\n",
    "        ver1_list = [int(num) for num in version1.split(\".\")]\n",
    "        ver2_list = [int(num) for num in version2.split(\".\")]\n",
    "\n",
    "        if len(ver2_list) >= len(ver1_list):\n",
    "            return compare_2_list(ver1_list, ver2_list)\n",
    "        else:\n",
    "            return -compare_2_list(ver2_list, ver1_list)\n",
    "\n",
    "    def compareVersion(self, version1: str, version2: str) -> int:\n",
    "        ver1_list = [num.strip(\"0\") for num in version1.split(\".\")]\n",
    "        ver2_list = [num.strip(\"0\") for num in version2.split(\".\")]\n",
    "\n",
    "        ver1_str = \"\".join(ver1_list)\n",
    "        ver2_str = \"\".join(ver2_list)\n",
    "\n",
    "        if ver1_str < ver2_str:\n",
    "            return -1\n",
    "        elif ver1_str < ver2_str:\n",
    "            return 1\n",
    "        else:\n",
    "            return 0"
   ]
  },
  {
   "cell_type": "code",
   "execution_count": 8,
   "metadata": {},
   "outputs": [
    {
     "name": "stdout",
     "output_type": "stream",
     "text": [
      "['1', '']\n",
      "['1', '', '']\n"
     ]
    },
    {
     "data": {
      "text/plain": [
       "1"
      ]
     },
     "execution_count": 8,
     "metadata": {},
     "output_type": "execute_result"
    }
   ],
   "source": [
    "version1 = \"1.0\"\n",
    "version2 = \"1.0.0\"\n",
    "Solution().compareVersion(version1, version2)"
   ]
  },
  {
   "cell_type": "code",
   "execution_count": 12,
   "metadata": {},
   "outputs": [
    {
     "data": {
      "text/plain": [
       "''"
      ]
     },
     "execution_count": 12,
     "metadata": {},
     "output_type": "execute_result"
    }
   ],
   "source": [
    "\"000\".lstrip(\"0\")"
   ]
  },
  {
   "cell_type": "code",
   "execution_count": 14,
   "metadata": {},
   "outputs": [
    {
     "data": {
      "text/plain": [
       "0"
      ]
     },
     "execution_count": 14,
     "metadata": {},
     "output_type": "execute_result"
    }
   ],
   "source": [
    "int(\"000\")"
   ]
  },
  {
   "cell_type": "code",
   "execution_count": 11,
   "metadata": {},
   "outputs": [
    {
     "data": {
      "text/plain": [
       "False"
      ]
     },
     "execution_count": 11,
     "metadata": {},
     "output_type": "execute_result"
    }
   ],
   "source": [
    "[\"1\", \"2\"] < [\"1\", \"\", \"\"]"
   ]
  },
  {
   "cell_type": "code",
   "execution_count": null,
   "metadata": {},
   "outputs": [],
   "source": []
  }
 ],
 "metadata": {
  "kernelspec": {
   "display_name": "base",
   "language": "python",
   "name": "python3"
  },
  "language_info": {
   "codemirror_mode": {
    "name": "ipython",
    "version": 3
   },
   "file_extension": ".py",
   "mimetype": "text/x-python",
   "name": "python",
   "nbconvert_exporter": "python",
   "pygments_lexer": "ipython3",
   "version": "3.8.5"
  }
 },
 "nbformat": 4,
 "nbformat_minor": 2
}
