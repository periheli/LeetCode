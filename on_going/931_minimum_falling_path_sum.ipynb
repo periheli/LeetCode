{
 "cells": [
  {
   "cell_type": "code",
   "execution_count": 4,
   "metadata": {},
   "outputs": [],
   "source": [
    "from typing import List"
   ]
  },
  {
   "cell_type": "code",
   "execution_count": 14,
   "metadata": {},
   "outputs": [],
   "source": [
    "class Solution:\n",
    "    def minFallingPathSum(self, matrix: List[List[int]]) -> int:\n",
    "        n = len(matrix)\n",
    "        if n == 1:\n",
    "            return matrix[0][0]\n",
    "\n",
    "        prev_row = matrix[0]\n",
    "        for row in matrix[1:]:\n",
    "            prev_row = [\n",
    "                min(prev_row[max(i - 1, 0) : min(i + 2, n)]) + cell\n",
    "                for i, cell in enumerate(row)\n",
    "            ]\n",
    "\n",
    "        return min(prev_row)\n",
    "\n",
    "    def minFallingPathSum(self, matrix: List[List[int]]) -> int:\n",
    "        n = len(matrix)\n",
    "        if n == 1:\n",
    "            return matrix[0][0]\n",
    "\n",
    "        prev_row = matrix[0]\n",
    "        for row in range(1, n):\n",
    "            print(prev_row)\n",
    "            prev_row = (\n",
    "                [matrix[row][0] + min(prev_row[:2])]\n",
    "                + [\n",
    "                    matrix[row][i] + min(prev_row[i - 1 : i + 2])\n",
    "                    for i in range(1, n - 1)\n",
    "                ]\n",
    "                + [matrix[row][-1] + min(prev_row[-2:])]\n",
    "            )\n",
    "\n",
    "        print(prev_row)\n",
    "        return min(prev_row)"
   ]
  },
  {
   "cell_type": "code",
   "execution_count": 15,
   "metadata": {},
   "outputs": [
    {
     "name": "stdout",
     "output_type": "stream",
     "text": [
      "[2, 1, 3]\n",
      "[7, 6, 5]\n",
      "[13, 13, 14]\n"
     ]
    },
    {
     "data": {
      "text/plain": [
       "13"
      ]
     },
     "execution_count": 15,
     "metadata": {},
     "output_type": "execute_result"
    }
   ],
   "source": [
    "matrix = [[2,1,3],[6,5,4],[7,8,9]]\n",
    "Solution().minFallingPathSum(matrix)"
   ]
  },
  {
   "cell_type": "code",
   "execution_count": 16,
   "metadata": {},
   "outputs": [
    {
     "name": "stdout",
     "output_type": "stream",
     "text": [
      "[-80, -13, 22]\n",
      "[3, 14, -18]\n",
      "[76, -66, 43]\n"
     ]
    },
    {
     "data": {
      "text/plain": [
       "-66"
      ]
     },
     "execution_count": 16,
     "metadata": {},
     "output_type": "execute_result"
    }
   ],
   "source": [
    "matrix = [\n",
    "    [-80,-13,22],\n",
    "    [83,94,-5],\n",
    "    [73,-48,61]]\n",
    "Solution().minFallingPathSum(matrix)"
   ]
  },
  {
   "cell_type": "code",
   "execution_count": null,
   "metadata": {},
   "outputs": [],
   "source": []
  }
 ],
 "metadata": {
  "kernelspec": {
   "display_name": "base",
   "language": "python",
   "name": "python3"
  },
  "language_info": {
   "codemirror_mode": {
    "name": "ipython",
    "version": 3
   },
   "file_extension": ".py",
   "mimetype": "text/x-python",
   "name": "python",
   "nbconvert_exporter": "python",
   "pygments_lexer": "ipython3",
   "version": "3.8.5"
  }
 },
 "nbformat": 4,
 "nbformat_minor": 2
}
