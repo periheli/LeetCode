{
 "cells": [
  {
   "cell_type": "code",
   "execution_count": 1,
   "metadata": {},
   "outputs": [],
   "source": [
    "from typing import Optional\n",
    "from collections import deque"
   ]
  },
  {
   "cell_type": "code",
   "execution_count": null,
   "metadata": {},
   "outputs": [],
   "source": [
    "# Definition for a binary tree node.\n",
    "class TreeNode:\n",
    "    def __init__(self, val=0, left=None, right=None):\n",
    "        self.val = val\n",
    "        self.left = left\n",
    "        self.right = right\n",
    "\n",
    "\n",
    "class Solution:\n",
    "    def addOneRow(\n",
    "        self, root: Optional[TreeNode], val: int, depth: int\n",
    "    ) -> Optional[TreeNode]:\n",
    "        if depth == 1:\n",
    "            return TreeNode(val, left=root)\n",
    "\n",
    "        cur_node = root\n",
    "        cur_depth = 2\n",
    "        stack = deque()\n",
    "\n",
    "        while True:\n",
    "            if cur_depth == depth:\n",
    "                cur_node.left = TreeNode(val, left=cur_node.left)\n",
    "                cur_node.right = TreeNode(val, right=cur_node.right)\n",
    "                if len(stack) == 0:\n",
    "                    return root\n",
    "                else:\n",
    "                    cur_node, cur_depth = stack.pop()\n",
    "\n",
    "            else:\n",
    "                if cur_node.left is not None:\n",
    "                    if cur_node.right is not None:\n",
    "                        stack.append((cur_node.right, cur_depth + 1))\n",
    "                    cur_node = cur_node.left\n",
    "                    cur_depth += 1\n",
    "                elif cur_node.right is not None:\n",
    "                    cur_node = cur_node.right\n",
    "                    cur_depth += 1\n",
    "                else:\n",
    "                    if len(stack) == 0:\n",
    "                        return root\n",
    "                    else:\n",
    "                        cur_node, cur_depth = stack.pop()"
   ]
  }
 ],
 "metadata": {
  "kernelspec": {
   "display_name": "base",
   "language": "python",
   "name": "python3"
  },
  "language_info": {
   "codemirror_mode": {
    "name": "ipython",
    "version": 3
   },
   "file_extension": ".py",
   "mimetype": "text/x-python",
   "name": "python",
   "nbconvert_exporter": "python",
   "pygments_lexer": "ipython3",
   "version": "3.8.5"
  }
 },
 "nbformat": 4,
 "nbformat_minor": 2
}
