{
 "cells": [
  {
   "cell_type": "code",
   "execution_count": 5,
   "metadata": {},
   "outputs": [],
   "source": [
    "class Solution:\n",
    "    def reversePrefix(self, word: str, ch: str) -> str:\n",
    "        ch_idx = word.find(ch)\n",
    "        if ch_idx == -1:\n",
    "            return word\n",
    "        word_list = list(word)\n",
    "        for i in range(ch_idx // 2 + 1):\n",
    "            word_list[i], word_list[ch_idx - i] = word_list[ch_idx - i], word_list[i]\n",
    "\n",
    "        return \"\".join(word_list)"
   ]
  },
  {
   "cell_type": "code",
   "execution_count": 4,
   "metadata": {},
   "outputs": [
    {
     "data": {
      "text/plain": [
       "3"
      ]
     },
     "execution_count": 4,
     "metadata": {},
     "output_type": "execute_result"
    }
   ],
   "source": [
    "word = \"xyxzxez\"\n",
    "ch = \"z\"\n",
    "word.find(ch)"
   ]
  },
  {
   "cell_type": "markdown",
   "metadata": {},
   "source": [
    "# Intuition\n",
    "<!-- Describe your first thoughts on how to solve this problem. -->\n",
    "Using swap to reverse string\n",
    "\n",
    "# Approach\n",
    "<!-- Describe your approach to solving the problem. -->\n",
    "- Find the index of the `ch` in `word`\n",
    "- Convert `word` to `list` to swap elements\n",
    "- Reverse the substring [0, `ch_idx`] using inplaced swaps\n",
    "- Convert the swapped list to str\n",
    "\n",
    "# Complexity\n",
    "- Time complexity: $O(n)$\n",
    "<!-- Add your time complexity here, e.g. $$O(n)$$ -->\n",
    "\n",
    "- Space complexity: $O(1)$\n",
    "<!-- Add your space complexity here, e.g. $$O(n)$$ -->\n",
    "\n",
    "# Code\n",
    "``` Python []\n",
    "class Solution:\n",
    "    def reversePrefix(self, word: str, ch: str) -> str:\n",
    "        ch_idx = word.find(ch)\n",
    "        if ch_idx == -1:\n",
    "            return word\n",
    "        word_list = list(word)\n",
    "        for i in range(ch_idx//2+1):\n",
    "            word_list[i], word_list[ch_idx - i] = word_list[ch_idx - i], word_list[i]\n",
    "\n",
    "        return \"\".join(word_list)\n",
    "```"
   ]
  }
 ],
 "metadata": {
  "kernelspec": {
   "display_name": "base",
   "language": "python",
   "name": "python3"
  },
  "language_info": {
   "codemirror_mode": {
    "name": "ipython",
    "version": 3
   },
   "file_extension": ".py",
   "mimetype": "text/x-python",
   "name": "python",
   "nbconvert_exporter": "python",
   "pygments_lexer": "ipython3",
   "version": "3.8.5"
  }
 },
 "nbformat": 4,
 "nbformat_minor": 2
}
