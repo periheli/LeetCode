{
 "cells": [
  {
   "cell_type": "code",
   "execution_count": 14,
   "metadata": {},
   "outputs": [],
   "source": [
    "from typing import List, Dict, Optional\n",
    "from collections import deque, Counter\n",
    "from sortedcontainers import SortedList\n",
    "\n",
    "# support for maintaining a list in sorted order\n",
    "# without having to sort the list after each insertion\n",
    "import bisect\n",
    "\n",
    "\n",
    "class Solution:\n",
    "    def maximumHappinessSum(self, happiness: List[int], k: int) -> int:\n",
    "        # MLE\n",
    "        if k == 0:\n",
    "            return 0\n",
    "        if len(happiness) == 1:\n",
    "            return happiness[0]\n",
    "        for i in range(1, len(happiness)):\n",
    "            if happiness[i] > happiness[0]:\n",
    "                happiness[i], happiness[0] = happiness[0], happiness[i]\n",
    "            if happiness[i] != 0:\n",
    "                happiness[i] -= 1\n",
    "        print(happiness)\n",
    "        return happiness[0] + self.maximumHappinessSum(happiness[1:], k - 1)\n",
    "\n",
    "    def maximumHappinessSum(self, happiness: List[int], k: int) -> int:\n",
    "        # TLE\n",
    "        if k == 0:\n",
    "            return 0\n",
    "        if len(happiness) == 1:\n",
    "            return happiness[0]\n",
    "\n",
    "        res = 0\n",
    "        for j in range(k):\n",
    "            for i in range(j + 1, len(happiness)):\n",
    "                if happiness[i] > happiness[j]:\n",
    "                    happiness[i], happiness[j] = happiness[j], happiness[i]\n",
    "\n",
    "            if happiness[j] - j <= 0:\n",
    "                return res\n",
    "            else:\n",
    "                res += happiness[j] - j\n",
    "\n",
    "        return res\n",
    "\n",
    "    def maximumHappinessSum(self, happiness: List[int], k: int) -> int:\n",
    "        # Pass: build-in O(nlogn) more faster than O(n) using `for`\n",
    "        sorted_happiness = sorted(happiness, reverse=True)\n",
    "        res = 0\n",
    "        for i in range(k):\n",
    "            if sorted_happiness[i] - i <= 0:\n",
    "                return res\n",
    "            else:\n",
    "                res += sorted_happiness[i] - i\n",
    "        return res\n",
    "\n",
    "    def maximumHappinessSum(self, happiness: List[int], k: int) -> int:\n",
    "        if k < 100:\n",
    "            for j in range(k):\n",
    "                for i in range(j + 1, len(happiness)):\n",
    "                    if happiness[i] > happiness[j]:\n",
    "                        happiness[i], happiness[j] = happiness[j], happiness[i]\n",
    "        else:\n",
    "            happiness = sorted(happiness, reverse=True)\n",
    "            \n",
    "        res = 0\n",
    "        for i in range(k):\n",
    "            if happiness[i] - i <= 0:\n",
    "                return res\n",
    "            else:\n",
    "                res += happiness[i] - i\n",
    "        return res"
   ]
  },
  {
   "cell_type": "code",
   "execution_count": 15,
   "metadata": {},
   "outputs": [
    {
     "data": {
      "text/plain": [
       "53"
      ]
     },
     "execution_count": 15,
     "metadata": {},
     "output_type": "execute_result"
    }
   ],
   "source": [
    "happiness = [12,1,42]\n",
    "Solution().maximumHappinessSum(happiness, 3)"
   ]
  },
  {
   "cell_type": "code",
   "execution_count": null,
   "metadata": {},
   "outputs": [],
   "source": []
  }
 ],
 "metadata": {
  "kernelspec": {
   "display_name": "base",
   "language": "python",
   "name": "python3"
  },
  "language_info": {
   "codemirror_mode": {
    "name": "ipython",
    "version": 3
   },
   "file_extension": ".py",
   "mimetype": "text/x-python",
   "name": "python",
   "nbconvert_exporter": "python",
   "pygments_lexer": "ipython3",
   "version": "3.8.5"
  }
 },
 "nbformat": 4,
 "nbformat_minor": 2
}
