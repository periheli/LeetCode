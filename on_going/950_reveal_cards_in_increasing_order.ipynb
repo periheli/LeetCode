{
 "cells": [
  {
   "cell_type": "code",
   "execution_count": 1,
   "metadata": {},
   "outputs": [],
   "source": [
    "from typing import List"
   ]
  },
  {
   "cell_type": "code",
   "execution_count": null,
   "metadata": {},
   "outputs": [],
   "source": [
    "class Solution:\n",
    "    def getIndex(self, n: int):\n",
    "        import math\n",
    "        log2 = math.ceil(math.log2(n))\n",
    "        index_list = []\n",
    "        for i in range(log2 - 1):\n",
    "            index_list.extend(list(range(2**i - 1, 6, 2 ** (i + 1))))\n",
    "\n",
    "        index_list.extend(list(range(2**(log2-1) - 1, 6, 2**(log2-1))))\n",
    "        \n",
    "        return index_list\n",
    "\n",
    "    def deckRevealedIncreasing(self, deck: List[int]) -> List[int]:\n",
    "        sorted_deck = sorted(deck)        \n",
    "        n = len(sorted_deck)\n",
    "        \n",
    "        if n <= 2:\n",
    "            return sorted_deck\n",
    "\n",
    "        output = [0]*n"
   ]
  },
  {
   "cell_type": "code",
   "execution_count": 7,
   "metadata": {},
   "outputs": [
    {
     "data": {
      "text/plain": [
       "[0, 2, 1]"
      ]
     },
     "execution_count": 7,
     "metadata": {},
     "output_type": "execute_result"
    }
   ],
   "source": [
    "\n",
    "import math\n",
    "n = 3\n",
    "log2 = math.ceil(math.log2(n))\n",
    "index_list = []\n",
    "for i in range(log2 - 1):\n",
    "    index_list.extend(list(range(2**i - 1, n, 2 ** (i + 1))))\n",
    "\n",
    "index_list.extend(list(range(2**(log2-1) - 1, n, 2**(log2-1))))\n",
    "index_list"
   ]
  },
  {
   "cell_type": "code",
   "execution_count": 3,
   "metadata": {},
   "outputs": [],
   "source": [
    "for i in range(0):\n",
    "    print(0)"
   ]
  },
  {
   "cell_type": "code",
   "execution_count": null,
   "metadata": {},
   "outputs": [],
   "source": [
    "[1, 3, 2, 4]\n",
    "\n",
    "\n",
    "[1, 5, 2, 7, 3, 6, 4, 8]\n",
    "\n",
    "6x\n",
    "\n",
    "8x+4\n",
    "\n",
    "4x+2\n",
    "\n",
    "2x+1\n",
    "\n",
    "4x\n",
    "\n",
    "4x+2\n",
    "\n",
    "2x+1\n",
    "\n",
    "2x\n",
    "\n",
    "2x+1\n"
   ]
  },
  {
   "cell_type": "code",
   "execution_count": 11,
   "metadata": {},
   "outputs": [
    {
     "name": "stdout",
     "output_type": "stream",
     "text": [
      "0\n",
      "2\n",
      "4\n",
      "1\n",
      "5\n",
      "3\n"
     ]
    }
   ],
   "source": [
    "for i in range(1 - 1, 6, 2):\n",
    "    print(i)\n",
    "\n",
    "for i in range(2 - 1, 6, 4):\n",
    "    print(i)\n",
    "\n",
    "for i in range(4 - 1, 6, 4):\n",
    "    print(i)"
   ]
  },
  {
   "cell_type": "code",
   "execution_count": 14,
   "metadata": {},
   "outputs": [],
   "source": [
    "range_list = []\n",
    "for i in range(3-1):\n",
    "    range_list.append(range(2**i-1, 6, 2**(i+1)))\n",
    "    \n",
    "range_list.append(range(2**2-1, 6, 2**2))"
   ]
  },
  {
   "cell_type": "code",
   "execution_count": 15,
   "metadata": {},
   "outputs": [
    {
     "data": {
      "text/plain": [
       "[range(0, 6, 2), range(1, 6, 4), range(3, 6, 4)]"
      ]
     },
     "execution_count": 15,
     "metadata": {},
     "output_type": "execute_result"
    }
   ],
   "source": [
    "range_list"
   ]
  },
  {
   "cell_type": "code",
   "execution_count": 2,
   "metadata": {},
   "outputs": [
    {
     "data": {
      "text/plain": [
       "[0, 2, 4, 1, 5, 3]"
      ]
     },
     "execution_count": 2,
     "metadata": {},
     "output_type": "execute_result"
    }
   ],
   "source": []
  },
  {
   "cell_type": "code",
   "execution_count": 19,
   "metadata": {},
   "outputs": [
    {
     "ename": "TypeError",
     "evalue": "'range' object is not callable",
     "output_type": "error",
     "traceback": [
      "\u001b[1;31m---------------------------------------------------------------------------\u001b[0m",
      "\u001b[1;31mTypeError\u001b[0m                                 Traceback (most recent call last)",
      "\u001b[1;32m<ipython-input-19-481452de8502>\u001b[0m in \u001b[0;36m<module>\u001b[1;34m\u001b[0m\n\u001b[1;32m----> 1\u001b[1;33m \u001b[0mrange\u001b[0m\u001b[1;33m(\u001b[0m\u001b[1;36m3\u001b[0m\u001b[1;33m)\u001b[0m\u001b[1;33m\u001b[0m\u001b[1;33m\u001b[0m\u001b[0m\n\u001b[0m",
      "\u001b[1;31mTypeError\u001b[0m: 'range' object is not callable"
     ]
    }
   ],
   "source": [
    "range(3)"
   ]
  },
  {
   "cell_type": "code",
   "execution_count": null,
   "metadata": {},
   "outputs": [],
   "source": []
  }
 ],
 "metadata": {
  "kernelspec": {
   "display_name": "base",
   "language": "python",
   "name": "python3"
  },
  "language_info": {
   "codemirror_mode": {
    "name": "ipython",
    "version": 3
   },
   "file_extension": ".py",
   "mimetype": "text/x-python",
   "name": "python",
   "nbconvert_exporter": "python",
   "pygments_lexer": "ipython3",
   "version": "3.8.5"
  }
 },
 "nbformat": 4,
 "nbformat_minor": 2
}
