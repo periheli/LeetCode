{
 "cells": [
  {
   "cell_type": "code",
   "execution_count": null,
   "metadata": {},
   "outputs": [],
   "source": [
    "from typing import Optional"
   ]
  },
  {
   "cell_type": "code",
   "execution_count": null,
   "metadata": {},
   "outputs": [],
   "source": [
    "# Definition for singly-linked list.\n",
    "class ListNode:\n",
    "    def __init__(self, x):\n",
    "        self.val = x\n",
    "        self.next: Optional[ListNode] = None\n",
    "\n",
    "\n",
    "class Solution:\n",
    "    def deleteNode(self, node: ListNode):\n",
    "        \"\"\"\n",
    "        :type node: ListNode\n",
    "        :rtype: void Do not return anything, modify node in-place instead.\n",
    "        \"\"\"\n",
    "        node.val = node.next.val\n",
    "        if node.next.next is None:\n",
    "            node.next = None\n",
    "        else:\n",
    "            self.deleteNode(node.next)\n",
    "\n",
    "    def deleteNode(self, node: ListNode):\n",
    "        \"\"\"\n",
    "        :type node: ListNode\n",
    "        :rtype: void Do not return anything, modify node in-place instead.\n",
    "        \"\"\"\n",
    "        node.val = node.next.val\n",
    "        while node.next.next is not None:\n",
    "            node = node.next\n",
    "            node.val = node.next.val\n",
    "\n",
    "        node.next = None"
   ]
  }
 ],
 "metadata": {
  "language_info": {
   "name": "python"
  }
 },
 "nbformat": 4,
 "nbformat_minor": 2
}
