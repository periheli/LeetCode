{
 "cells": [
  {
   "cell_type": "code",
   "execution_count": 8,
   "metadata": {},
   "outputs": [],
   "source": [
    "from typing import List"
   ]
  },
  {
   "cell_type": "code",
   "execution_count": 15,
   "metadata": {},
   "outputs": [],
   "source": [
    "class Solution:\n",
    "    def trap(self, height: List[int]) -> int:\n",
    "        max_height = max(height)\n",
    "        max_idxs = [i for i, value in enumerate(height) if value == max_height]\n",
    "        left_max_idx = max_idxs[0]\n",
    "        right_max_idx = max_idxs[-1]\n",
    "\n",
    "        water_unit = 0\n",
    "\n",
    "        trap_left = -1\n",
    "        for i in range(1, left_max_idx + 1):\n",
    "            if trap_left == -1:\n",
    "                if height[i] < height[i - 1]:\n",
    "                    trap_left = height[i - 1]\n",
    "                    print(i, trap_left)\n",
    "                    water_unit += trap_left - height[i]\n",
    "            else:\n",
    "                if height[i] < trap_left:\n",
    "                    water_unit += trap_left - height[i]\n",
    "                else:\n",
    "                    trap_left = -1\n",
    "\n",
    "        trap_right = -1\n",
    "        for i in range(len(height) - 2, right_max_idx - 1, -1):\n",
    "            if trap_right == -1:\n",
    "                if height[i] < height[i + 1]:\n",
    "                    trap_right = height[i + 1]\n",
    "                    print(i, trap_right)\n",
    "                    water_unit += trap_right - height[i]\n",
    "            else:\n",
    "                if height[i] < trap_right:\n",
    "                    water_unit += trap_right - height[i]\n",
    "                else:\n",
    "                    trap_right = -1\n",
    "\n",
    "        for value in height[left_max_idx+1: right_max_idx]:\n",
    "            water_unit += max_height - value\n",
    "\n",
    "        return water_unit"
   ]
  },
  {
   "cell_type": "code",
   "execution_count": 16,
   "metadata": {},
   "outputs": [
    {
     "name": "stdout",
     "output_type": "stream",
     "text": [
      "2 1\n",
      "4 2\n",
      "9 2\n"
     ]
    },
    {
     "data": {
      "text/plain": [
       "6"
      ]
     },
     "execution_count": 16,
     "metadata": {},
     "output_type": "execute_result"
    }
   ],
   "source": [
    "Solution().trap([0, 1, 0, 2, 1, 0, 1, 3, 2, 1, 2, 1])"
   ]
  },
  {
   "cell_type": "code",
   "execution_count": 17,
   "metadata": {},
   "outputs": [
    {
     "name": "stdout",
     "output_type": "stream",
     "text": [
      "3 6\n"
     ]
    },
    {
     "data": {
      "text/plain": [
       "2"
      ]
     },
     "execution_count": 17,
     "metadata": {},
     "output_type": "execute_result"
    }
   ],
   "source": [
    "Solution().trap([0, 7, 1, 4, 6])"
   ]
  },
  {
   "cell_type": "code",
   "execution_count": null,
   "metadata": {},
   "outputs": [],
   "source": [
    "for "
   ]
  },
  {
   "cell_type": "code",
   "execution_count": 5,
   "metadata": {},
   "outputs": [
    {
     "name": "stdout",
     "output_type": "stream",
     "text": [
      "5\n",
      "4\n",
      "3\n"
     ]
    }
   ],
   "source": [
    "for i in range(5, 2, -1):\n",
    "    print(i)"
   ]
  },
  {
   "cell_type": "code",
   "execution_count": null,
   "metadata": {},
   "outputs": [],
   "source": []
  }
 ],
 "metadata": {
  "kernelspec": {
   "display_name": "base",
   "language": "python",
   "name": "python3"
  },
  "language_info": {
   "codemirror_mode": {
    "name": "ipython",
    "version": 3
   },
   "file_extension": ".py",
   "mimetype": "text/x-python",
   "name": "python",
   "nbconvert_exporter": "python",
   "pygments_lexer": "ipython3",
   "version": "3.8.5"
  }
 },
 "nbformat": 4,
 "nbformat_minor": 2
}
