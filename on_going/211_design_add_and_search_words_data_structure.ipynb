{
 "cells": [
  {
   "cell_type": "code",
   "execution_count": 1,
   "metadata": {},
   "outputs": [],
   "source": [
    "class WordDictionary:\n",
    "    num_chars = 26\n",
    "\n",
    "    def __init__(self):\n",
    "        self.dictionary = [[]] * self.num_chars\n",
    "\n",
    "    def mapping(self, char: str):\n",
    "        return ord(char) - 97\n",
    "\n",
    "    def addWord(self, word: str) -> None:\n",
    "        cur_list = self.dictionary\n",
    "        for c in word:\n",
    "            c_index = self.mapping(c)\n",
    "            if len(cur_list[c_index]) == 0:\n",
    "                cur_list[c_index] = [[]] * self.num_chars\n",
    "\n",
    "            cur_list = cur_list[c_index]\n",
    "\n",
    "    def search(self, word: str) -> bool:\n",
    "        return True"
   ]
  },
  {
   "cell_type": "code",
   "execution_count": null,
   "metadata": {},
   "outputs": [],
   "source": []
  },
  {
   "cell_type": "code",
   "execution_count": 2,
   "metadata": {},
   "outputs": [],
   "source": [
    "class WordDictionary:\n",
    "    num_chars = 26\n",
    "\n",
    "    def __init__(self):\n",
    "        self.dictionary = {}\n",
    "\n",
    "    def mapping(self, char: str):\n",
    "        return ord(char) - 97\n",
    "\n",
    "    def addWord(self, word: str) -> None:\n",
    "        cur_dict = self.dictionary\n",
    "        for c in word:\n",
    "            c_index = self.mapping(c)\n",
    "            if cur_dict.get(c_index) is None:\n",
    "                cur_dict[c_index] = {}\n",
    "\n",
    "            cur_dict = cur_dict[c_index]\n",
    "        cur_dict[-1] = {}\n",
    "\n",
    "    def search(self, word: str) -> bool:\n",
    "        if len(self.dictionary) == 0:\n",
    "            return False\n",
    "\n",
    "        cur_dict_list = [self.dictionary]\n",
    "        for c in word:\n",
    "            if len(cur_dict_list) == 0:\n",
    "                return False\n",
    "\n",
    "            new_dict_list = []\n",
    "            if c != \".\":\n",
    "                c_index = self.mapping(c)\n",
    "                for cur_dict in cur_dict_list:\n",
    "                    new_dict = cur_dict.get(c_index, None)\n",
    "                    if new_dict is not None:\n",
    "                        new_dict_list.append(new_dict)\n",
    "            else:\n",
    "                for cur_dict in cur_dict_list:\n",
    "                    new_dict_list.extend(\n",
    "                        [value for value in cur_dict.values() if len(value) > 0]\n",
    "                    )\n",
    "\n",
    "            cur_dict_list = new_dict_list\n",
    "\n",
    "        for cur_dict in cur_dict_list:\n",
    "            if -1 in cur_dict.keys():\n",
    "                return True\n",
    "\n",
    "        return False\n",
    "\n",
    "    def search(self, word: str) -> bool:\n",
    "        # recursive\n",
    "        def recursive_search(word: str, cur_dict: dict):\n",
    "            if word == \"\":\n",
    "                return -1 in cur_dict.keys()\n",
    "\n",
    "            c = word[0]\n",
    "            if c != \".\":\n",
    "                c_index = self.mapping(c)\n",
    "                next_dict = cur_dict.get(c_index, None)\n",
    "                if next_dict is not None:\n",
    "                    return recursive_search(word[1:], next_dict)\n",
    "\n",
    "            else:\n",
    "                for next_dict in cur_dict.values():\n",
    "                    if recursive_search(word[1:], next_dict):\n",
    "                        return True\n",
    "\n",
    "            return False        \n",
    "\n",
    "        if len(self.dictionary) == 0:\n",
    "            return False\n",
    "\n",
    "        return recursive_search(word, self.dictionary)"
   ]
  },
  {
   "cell_type": "code",
   "execution_count": 3,
   "metadata": {},
   "outputs": [],
   "source": [
    "wordDictionary = WordDictionary()\n",
    "wordDictionary.addWord(\"bad\")\n",
    "wordDictionary.addWord(\"dad\")\n",
    "wordDictionary.addWord(\"mad\")"
   ]
  },
  {
   "cell_type": "code",
   "execution_count": 4,
   "metadata": {},
   "outputs": [
    {
     "data": {
      "text/plain": [
       "{1: {0: {3: {-1: {}}}}, 3: {0: {3: {-1: {}}}}, 12: {0: {3: {-1: {}}}}}"
      ]
     },
     "execution_count": 4,
     "metadata": {},
     "output_type": "execute_result"
    }
   ],
   "source": [
    "wordDictionary.dictionary"
   ]
  },
  {
   "cell_type": "code",
   "execution_count": 5,
   "metadata": {},
   "outputs": [
    {
     "name": "stdout",
     "output_type": "stream",
     "text": [
      "False\n",
      "True\n",
      "False\n"
     ]
    }
   ],
   "source": [
    "print(wordDictionary.search(\"pad\"))\n",
    "print(wordDictionary.search(\"bad\"))\n",
    "print(wordDictionary.search(\"ba\"))"
   ]
  },
  {
   "cell_type": "code",
   "execution_count": 6,
   "metadata": {},
   "outputs": [
    {
     "name": "stdout",
     "output_type": "stream",
     "text": [
      "True\n",
      "True\n",
      "False\n"
     ]
    }
   ],
   "source": [
    "print(wordDictionary.search(\".ad\"))\n",
    "print(wordDictionary.search(\"b..\"))\n",
    "print(wordDictionary.search(\"b.\"))"
   ]
  },
  {
   "cell_type": "code",
   "execution_count": 30,
   "metadata": {},
   "outputs": [
    {
     "name": "stdout",
     "output_type": "stream",
     "text": [
      "False\n",
      "True\n"
     ]
    }
   ],
   "source": [
    "wordDictionary = WordDictionary()\n",
    "wordDictionary.addWord(\"a\")\n",
    "wordDictionary.addWord(\"ab\")\n",
    "print(wordDictionary.search(\"a\"))\n",
    "print(wordDictionary.search(\"a.\"))"
   ]
  },
  {
   "cell_type": "code",
   "execution_count": 31,
   "metadata": {},
   "outputs": [
    {
     "data": {
      "text/plain": [
       "{0: {1: {}}}"
      ]
     },
     "execution_count": 31,
     "metadata": {},
     "output_type": "execute_result"
    }
   ],
   "source": [
    "wordDictionary.dictionary"
   ]
  },
  {
   "cell_type": "code",
   "execution_count": null,
   "metadata": {},
   "outputs": [],
   "source": []
  }
 ],
 "metadata": {
  "kernelspec": {
   "display_name": "base",
   "language": "python",
   "name": "python3"
  },
  "language_info": {
   "codemirror_mode": {
    "name": "ipython",
    "version": 3
   },
   "file_extension": ".py",
   "mimetype": "text/x-python",
   "name": "python",
   "nbconvert_exporter": "python",
   "pygments_lexer": "ipython3",
   "version": "3.8.5"
  }
 },
 "nbformat": 4,
 "nbformat_minor": 2
}
