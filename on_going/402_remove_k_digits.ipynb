{
 "cells": [
  {
   "cell_type": "code",
   "execution_count": 7,
   "metadata": {},
   "outputs": [],
   "source": [
    "from collections import deque\n",
    "from typing import List"
   ]
  },
  {
   "cell_type": "code",
   "execution_count": 12,
   "metadata": {},
   "outputs": [],
   "source": [
    "class Solution:\n",
    "    def removeKdigits(self, num: str, k: int) -> str:\n",
    "        # stack\n",
    "        def post_process(num_list: List[str]):\n",
    "            # turn to str\n",
    "            num_str = \"\".join(num_list)\n",
    "            # remove leading zeros\n",
    "            num_str = num_str.lstrip(\"0\")\n",
    "            if len(num_str) == 0:\n",
    "                return \"0\"\n",
    "            return num_str\n",
    "\n",
    "        counter = k\n",
    "        stack = deque()\n",
    "        for i, digit in enumerate(num):\n",
    "            while stack and stack[-1] > digit:\n",
    "                stack.pop()\n",
    "                counter -= 1\n",
    "                if counter == 0:\n",
    "                    return post_process(list(stack) + list(num[i:]))\n",
    "\n",
    "            stack.append(digit)\n",
    "\n",
    "        return post_process(list(stack)[: len(stack) - counter])\n",
    "\n",
    "    def removeKdigits(self, num: str, k: int) -> str:\n",
    "        # pointer\n",
    "        def post_process(num_list: List[str]):\n",
    "            # turn to str\n",
    "            num_str = \"\".join(num_list)\n",
    "            # remove leading zeros\n",
    "            num_str = num_str.lstrip(\"0\")\n",
    "            if len(num_str) == 0:\n",
    "                return \"0\"\n",
    "            return num_str\n",
    "\n",
    "        pointer = -1\n",
    "        num_list = list(num)\n",
    "        counter = k\n",
    "        for i, num in enumerate(num_list):\n",
    "            while pointer >= 0 and num_list[pointer] > num:\n",
    "                pointer -= 1\n",
    "                counter -= 1\n",
    "                if counter == 0:\n",
    "                    return post_process(num_list[: pointer + 1] + num_list[i:])\n",
    "\n",
    "            print(pointer)\n",
    "            pointer += 1\n",
    "            num_list[pointer] = num\n",
    "\n",
    "        return post_process(num_list[: pointer + 1 - counter])"
   ]
  },
  {
   "cell_type": "code",
   "execution_count": 13,
   "metadata": {},
   "outputs": [
    {
     "name": "stdout",
     "output_type": "stream",
     "text": [
      "-1\n",
      "0\n",
      "0\n",
      "0\n",
      "1\n",
      "1219\n"
     ]
    }
   ],
   "source": [
    "print(Solution().removeKdigits(\"1432219\", 3))"
   ]
  },
  {
   "cell_type": "code",
   "execution_count": null,
   "metadata": {},
   "outputs": [],
   "source": []
  }
 ],
 "metadata": {
  "kernelspec": {
   "display_name": "base",
   "language": "python",
   "name": "python3"
  },
  "language_info": {
   "codemirror_mode": {
    "name": "ipython",
    "version": 3
   },
   "file_extension": ".py",
   "mimetype": "text/x-python",
   "name": "python",
   "nbconvert_exporter": "python",
   "pygments_lexer": "ipython3",
   "version": "3.8.5"
  }
 },
 "nbformat": 4,
 "nbformat_minor": 2
}
