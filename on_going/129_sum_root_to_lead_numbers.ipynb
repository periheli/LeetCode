{
 "cells": [
  {
   "cell_type": "code",
   "execution_count": 1,
   "metadata": {},
   "outputs": [],
   "source": [
    "from typing import Optional\n",
    "from collections import deque"
   ]
  },
  {
   "cell_type": "code",
   "execution_count": null,
   "metadata": {},
   "outputs": [],
   "source": [
    "# Definition for a binary tree node.\n",
    "class TreeNode:\n",
    "    def __init__(self, val=0, left=None, right=None):\n",
    "        self.val = val\n",
    "        self.left = left\n",
    "        self.right = right\n",
    "\n",
    "\n",
    "class Solution:\n",
    "    def sumNumbers(self, root: Optional[TreeNode]) -> int:\n",
    "        cur_node = root\n",
    "        cur_number = 0\n",
    "        sum = 0\n",
    "        stack = deque()\n",
    "\n",
    "        while True:\n",
    "            cur_number = cur_number * 10 + cur_node.val\n",
    "            if cur_node.left is not None:\n",
    "                if cur_node.right is not None:\n",
    "                    stack.append((cur_node.right, cur_number))\n",
    "                cur_node = cur_node.left\n",
    "            elif cur_node.right is not None:\n",
    "                cur_node = cur_node.right\n",
    "            else:\n",
    "                sum += cur_number\n",
    "                if len(stack) > 0:\n",
    "                    cur_node, cur_number = stack.pop()\n",
    "                else:\n",
    "                    return sum\n",
    "                \n",
    "    def sumNumbersRecursive(self, root: Optional[TreeNode]) -> int:\n",
    "        if root.left "
   ]
  }
 ],
 "metadata": {
  "kernelspec": {
   "display_name": "base",
   "language": "python",
   "name": "python3"
  },
  "language_info": {
   "codemirror_mode": {
    "name": "ipython",
    "version": 3
   },
   "file_extension": ".py",
   "mimetype": "text/x-python",
   "name": "python",
   "nbconvert_exporter": "python",
   "pygments_lexer": "ipython3",
   "version": "3.8.5"
  }
 },
 "nbformat": 4,
 "nbformat_minor": 2
}
